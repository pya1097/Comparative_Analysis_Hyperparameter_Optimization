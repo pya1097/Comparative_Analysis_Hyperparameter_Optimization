{
  "cells": [
    {
      "cell_type": "code",
      "execution_count": 1,
      "metadata": {
        "id": "el_-zlazLRUM"
      },
      "outputs": [
        {
          "name": "stderr",
          "output_type": "stream",
          "text": [
            "c:\\Users\\athud\\AppData\\Local\\Programs\\Python\\Python39\\lib\\site-packages\\scipy\\__init__.py:146: UserWarning: A NumPy version >=1.16.5 and <1.23.0 is required for this version of SciPy (detected version 1.26.1\n",
            "  warnings.warn(f\"A NumPy version >={np_minversion} and <{np_maxversion}\"\n"
          ]
        }
      ],
      "source": [
        "from sklearn import datasets, linear_model\n",
        "from sklearn.model_selection import train_test_split\n",
        "import numpy as np\n",
        "import pandas as pd\n",
        "from sklearn.preprocessing import MinMaxScaler, LabelEncoder, StandardScaler\n",
        "\n",
        "# max_iter=100,50,500,1000,5000\n",
        "# C=1,0.05,0.5,5,10,100\n",
        "# tol=0.0001,0.001,0.003,0.005,0.0003,0.0005,0.0008\n",
        "# fit_intercept=True, False\n",
        "# penalty='l2',None"
      ]
    },
    {
      "cell_type": "code",
      "execution_count": 3,
      "metadata": {
        "colab": {
          "base_uri": "https://localhost:8080/"
        },
        "id": "DJqPYDdwLSY1",
        "outputId": "b0daa204-4c03-4a2d-f07d-6d0b736692f1"
      },
      "outputs": [
        {
          "name": "stdout",
          "output_type": "stream",
          "text": [
            "LogisticRegression score: 0.969444\n"
          ]
        },
        {
          "name": "stderr",
          "output_type": "stream",
          "text": [
            "c:\\Users\\athud\\AppData\\Local\\Programs\\Python\\Python39\\lib\\site-packages\\sklearn\\utils\\validation.py:993: DataConversionWarning: A column-vector y was passed when a 1d array was expected. Please change the shape of y to (n_samples, ), for example using ravel().\n",
            "  y = column_or_1d(y, warn=True)\n"
          ]
        }
      ],
      "source": [
        "#1 digits\n",
        "X = pd.read_csv('digits_X.csv').values\n",
        "y = pd.read_csv('digits_y.csv').values\n",
        "X_train, X_test, y_train, y_test = train_test_split(X, y, test_size=0.20, random_state=23)\n",
        "logistic = linear_model.LogisticRegression(max_iter=1000, C=1, tol=0.0001, fit_intercept=True, penalty='l2')\n",
        "print(\"LogisticRegression score: %f\" % logistic.fit(X_train, y_train).score(X_test, y_test))"
      ]
    },
    {
      "cell_type": "code",
      "execution_count": 4,
      "metadata": {
        "colab": {
          "base_uri": "https://localhost:8080/"
        },
        "id": "TuhtoKf4NLCa",
        "outputId": "ed690728-96ad-4514-ee08-21470bd16a38"
      },
      "outputs": [
        {
          "name": "stdout",
          "output_type": "stream",
          "text": [
            "LogisticRegression score: 0.912281\n"
          ]
        },
        {
          "name": "stderr",
          "output_type": "stream",
          "text": [
            "c:\\Users\\athud\\AppData\\Local\\Programs\\Python\\Python39\\lib\\site-packages\\sklearn\\utils\\validation.py:993: DataConversionWarning: A column-vector y was passed when a 1d array was expected. Please change the shape of y to (n_samples, ), for example using ravel().\n",
            "  y = column_or_1d(y, warn=True)\n"
          ]
        }
      ],
      "source": [
        "#2 breast cancer\n",
        "X = pd.read_csv('breastcancer_X.csv').values\n",
        "y = pd.read_csv('breastcancer_y.csv').values\n",
        "X_train, X_test, y_train, y_test = train_test_split(X, y, test_size=0.20, random_state=23)\n",
        "logistic = linear_model.LogisticRegression(max_iter=1000, C=1, tol=0.0001, fit_intercept=True, penalty='l2')\n",
        "print(\"LogisticRegression score: %f\" % logistic.fit(X_train, y_train).score(X_test, y_test))"
      ]
    },
    {
      "cell_type": "code",
      "execution_count": 5,
      "metadata": {
        "colab": {
          "base_uri": "https://localhost:8080/"
        },
        "id": "f8HkS68QNkTZ",
        "outputId": "59bce718-1071-40b5-e566-c63946afe89e"
      },
      "outputs": [
        {
          "name": "stdout",
          "output_type": "stream",
          "text": [
            "LogisticRegression score: 0.933333\n"
          ]
        },
        {
          "name": "stderr",
          "output_type": "stream",
          "text": [
            "c:\\Users\\athud\\AppData\\Local\\Programs\\Python\\Python39\\lib\\site-packages\\sklearn\\utils\\validation.py:993: DataConversionWarning: A column-vector y was passed when a 1d array was expected. Please change the shape of y to (n_samples, ), for example using ravel().\n",
            "  y = column_or_1d(y, warn=True)\n"
          ]
        }
      ],
      "source": [
        "#3 iris\n",
        "X = pd.read_csv('iris_X.csv').values\n",
        "y = pd.read_csv('iris_y.csv').values\n",
        "X_train, X_test, y_train, y_test = train_test_split(X, y, test_size=0.20, random_state=23)\n",
        "logistic = linear_model.LogisticRegression(max_iter=1000, C=1, tol=0.0001, fit_intercept=True, penalty='l2')\n",
        "print(\"LogisticRegression score: %f\" % logistic.fit(X_train, y_train).score(X_test, y_test))"
      ]
    },
    {
      "cell_type": "code",
      "execution_count": 6,
      "metadata": {
        "colab": {
          "base_uri": "https://localhost:8080/"
        },
        "id": "yISaKCxbNtUR",
        "outputId": "0e34d66b-5a4c-4d60-bf8f-e1d3b05c38c4"
      },
      "outputs": [
        {
          "name": "stdout",
          "output_type": "stream",
          "text": [
            "LogisticRegression score: 0.722222\n"
          ]
        },
        {
          "name": "stderr",
          "output_type": "stream",
          "text": [
            "c:\\Users\\athud\\AppData\\Local\\Programs\\Python\\Python39\\lib\\site-packages\\sklearn\\utils\\validation.py:993: DataConversionWarning: A column-vector y was passed when a 1d array was expected. Please change the shape of y to (n_samples, ), for example using ravel().\n",
            "  y = column_or_1d(y, warn=True)\n"
          ]
        }
      ],
      "source": [
        "#4 wine\n",
        "X = pd.read_csv('whitewine_X.csv').values\n",
        "y = pd.read_csv('whitewine_y.csv').values\n",
        "X_train, X_test, y_train, y_test = train_test_split(X, y, test_size=0.20, random_state=23)\n",
        "logistic = linear_model.LogisticRegression(max_iter=1000, C=1, tol=0.0001, fit_intercept=True, penalty='l2')\n",
        "print(\"LogisticRegression score: %f\" % logistic.fit(X_train, y_train).score(X_test, y_test))"
      ]
    },
    {
      "cell_type": "code",
      "execution_count": 7,
      "metadata": {
        "id": "R_iDzzzswlZd"
      },
      "outputs": [
        {
          "name": "stdout",
          "output_type": "stream",
          "text": [
            "LogisticRegression score: 0.625000\n"
          ]
        },
        {
          "name": "stderr",
          "output_type": "stream",
          "text": [
            "c:\\Users\\athud\\AppData\\Local\\Programs\\Python\\Python39\\lib\\site-packages\\sklearn\\utils\\validation.py:993: DataConversionWarning: A column-vector y was passed when a 1d array was expected. Please change the shape of y to (n_samples, ), for example using ravel().\n",
            "  y = column_or_1d(y, warn=True)\n"
          ]
        }
      ],
      "source": [
        "#5 social network ads\n",
        "X = pd.read_csv('socialnetworkads_X.csv').values\n",
        "y = pd.read_csv('socialnetworkads_y.csv').values\n",
        "X_train, X_test, y_train, y_test = train_test_split(X, y, test_size=0.20, random_state=23)\n",
        "logistic = linear_model.LogisticRegression(max_iter=1000, C=1, tol=0.0001, fit_intercept=True, penalty='l2')\n",
        "print(\"LogisticRegression score: %f\" % logistic.fit(X_train, y_train).score(X_test, y_test))"
      ]
    },
    {
      "cell_type": "code",
      "execution_count": 8,
      "metadata": {
        "id": "HvkJhhpp2ElU"
      },
      "outputs": [
        {
          "name": "stdout",
          "output_type": "stream",
          "text": [
            "LogisticRegression score: 0.857923\n"
          ]
        },
        {
          "name": "stderr",
          "output_type": "stream",
          "text": [
            "c:\\Users\\athud\\AppData\\Local\\Programs\\Python\\Python39\\lib\\site-packages\\sklearn\\utils\\validation.py:993: DataConversionWarning: A column-vector y was passed when a 1d array was expected. Please change the shape of y to (n_samples, ), for example using ravel().\n",
            "  y = column_or_1d(y, warn=True)\n"
          ]
        }
      ],
      "source": [
        "#6 heart disease\n",
        "X = pd.read_csv('heartdisease_X.csv').values\n",
        "y = pd.read_csv('heartdisease_y.csv').values\n",
        "X_train, X_test, y_train, y_test = train_test_split(X, y, test_size=0.20, random_state=23)\n",
        "logistic = linear_model.LogisticRegression(max_iter=1000, C=1, tol=0.0001, fit_intercept=True, penalty='l2')\n",
        "print(\"LogisticRegression score: %f\" % logistic.fit(X_train, y_train).score(X_test, y_test))"
      ]
    },
    {
      "cell_type": "code",
      "execution_count": 9,
      "metadata": {
        "id": "avBrbGer_p58"
      },
      "outputs": [
        {
          "name": "stdout",
          "output_type": "stream",
          "text": [
            "LogisticRegression score: 0.770992\n"
          ]
        },
        {
          "name": "stderr",
          "output_type": "stream",
          "text": [
            "c:\\Users\\athud\\AppData\\Local\\Programs\\Python\\Python39\\lib\\site-packages\\sklearn\\utils\\validation.py:993: DataConversionWarning: A column-vector y was passed when a 1d array was expected. Please change the shape of y to (n_samples, ), for example using ravel().\n",
            "  y = column_or_1d(y, warn=True)\n"
          ]
        }
      ],
      "source": [
        "#7 Titanic\n",
        "X = pd.read_csv('titanic_X.csv').values\n",
        "y = pd.read_csv('titanic_y.csv').values\n",
        "X_train, X_test, y_train, y_test = train_test_split(X, y, test_size=0.20, random_state=23)\n",
        "logistic = linear_model.LogisticRegression(max_iter=1000, C=1, tol=0.0001, fit_intercept=True, penalty='l2')\n",
        "print(\"LogisticRegression score: %f\" % logistic.fit(X_train, y_train).score(X_test, y_test))"
      ]
    },
    {
      "cell_type": "code",
      "execution_count": 10,
      "metadata": {
        "id": "j8qfr3k5Cf8i"
      },
      "outputs": [
        {
          "name": "stdout",
          "output_type": "stream",
          "text": [
            "LogisticRegression score: 0.826682\n"
          ]
        },
        {
          "name": "stderr",
          "output_type": "stream",
          "text": [
            "c:\\Users\\athud\\AppData\\Local\\Programs\\Python\\Python39\\lib\\site-packages\\sklearn\\utils\\validation.py:993: DataConversionWarning: A column-vector y was passed when a 1d array was expected. Please change the shape of y to (n_samples, ), for example using ravel().\n",
            "  y = column_or_1d(y, warn=True)\n"
          ]
        }
      ],
      "source": [
        "#8 Employee attrition\n",
        "X = pd.read_csv('employeeattrition_X.csv').values\n",
        "y = pd.read_csv('employeeattrition_y.csv').values\n",
        "X_train, X_test, y_train, y_test = train_test_split(X, y, test_size=0.20, random_state=23)\n",
        "logistic = linear_model.LogisticRegression(max_iter=1000, C=1, tol=0.0001, fit_intercept=True, penalty='l2')\n",
        "print(\"LogisticRegression score: %f\" % logistic.fit(X_train, y_train).score(X_test, y_test))"
      ]
    },
    {
      "cell_type": "code",
      "execution_count": 11,
      "metadata": {
        "id": "SKTMWvCjFqCG"
      },
      "outputs": [
        {
          "name": "stdout",
          "output_type": "stream",
          "text": [
            "LogisticRegression score: 0.862000\n"
          ]
        },
        {
          "name": "stderr",
          "output_type": "stream",
          "text": [
            "c:\\Users\\athud\\AppData\\Local\\Programs\\Python\\Python39\\lib\\site-packages\\sklearn\\utils\\validation.py:993: DataConversionWarning: A column-vector y was passed when a 1d array was expected. Please change the shape of y to (n_samples, ), for example using ravel().\n",
            "  y = column_or_1d(y, warn=True)\n"
          ]
        }
      ],
      "source": [
        "#9 Pumpkin seeds\n",
        "X = pd.read_csv('pumpkinseeds_X.csv').values\n",
        "y = pd.read_csv('pumpkinseeds_y.csv').values\n",
        "X_train, X_test, y_train, y_test = train_test_split(X, y, test_size=0.20, random_state=23)\n",
        "logistic = linear_model.LogisticRegression(max_iter=1000, C=1, tol=0.0001, fit_intercept=True, penalty='l2')\n",
        "print(\"LogisticRegression score: %f\" % logistic.fit(X_train, y_train).score(X_test, y_test))"
      ]
    },
    {
      "cell_type": "code",
      "execution_count": 12,
      "metadata": {
        "id": "B3xeiJDaHBpW"
      },
      "outputs": [
        {
          "name": "stdout",
          "output_type": "stream",
          "text": [
            "LogisticRegression score: 0.250000\n"
          ]
        },
        {
          "name": "stderr",
          "output_type": "stream",
          "text": [
            "c:\\Users\\athud\\AppData\\Local\\Programs\\Python\\Python39\\lib\\site-packages\\sklearn\\utils\\validation.py:993: DataConversionWarning: A column-vector y was passed when a 1d array was expected. Please change the shape of y to (n_samples, ), for example using ravel().\n",
            "  y = column_or_1d(y, warn=True)\n"
          ]
        }
      ],
      "source": [
        "#10 Marketing campaign\n",
        "X = pd.read_csv('marketing_X.csv').values\n",
        "y = pd.read_csv('marketing_y.csv').values\n",
        "X_train, X_test, y_train, y_test = train_test_split(X, y, test_size=0.20, random_state=23)\n",
        "logistic = linear_model.LogisticRegression(max_iter=1000, C=1, tol=0.0001, fit_intercept=True, penalty='l2')\n",
        "print(\"LogisticRegression score: %f\" % logistic.fit(X_train, y_train).score(X_test, y_test))"
      ]
    },
    {
      "cell_type": "code",
      "execution_count": 13,
      "metadata": {
        "id": "5Ay90N13JXzR"
      },
      "outputs": [
        {
          "name": "stdout",
          "output_type": "stream",
          "text": [
            "LogisticRegression score: 0.945000\n"
          ]
        },
        {
          "name": "stderr",
          "output_type": "stream",
          "text": [
            "c:\\Users\\athud\\AppData\\Local\\Programs\\Python\\Python39\\lib\\site-packages\\sklearn\\utils\\validation.py:993: DataConversionWarning: A column-vector y was passed when a 1d array was expected. Please change the shape of y to (n_samples, ), for example using ravel().\n",
            "  y = column_or_1d(y, warn=True)\n"
          ]
        }
      ],
      "source": [
        "#11 bank loan\n",
        "X = pd.read_csv('bankloan_X.csv').values\n",
        "y = pd.read_csv('bankloan_y.csv').values\n",
        "X_train, X_test, y_train, y_test = train_test_split(X, y, test_size=0.20, random_state=23)\n",
        "logistic = linear_model.LogisticRegression(max_iter=1000, C=1, tol=0.0001, fit_intercept=True, penalty='l2')\n",
        "print(\"LogisticRegression score: %f\" % logistic.fit(X_train, y_train).score(X_test, y_test))"
      ]
    },
    {
      "cell_type": "code",
      "execution_count": 14,
      "metadata": {
        "id": "4B81CGR1RpPa"
      },
      "outputs": [
        {
          "name": "stdout",
          "output_type": "stream",
          "text": [
            "LogisticRegression score: 0.538889\n"
          ]
        },
        {
          "name": "stderr",
          "output_type": "stream",
          "text": [
            "c:\\Users\\athud\\AppData\\Local\\Programs\\Python\\Python39\\lib\\site-packages\\sklearn\\utils\\validation.py:993: DataConversionWarning: A column-vector y was passed when a 1d array was expected. Please change the shape of y to (n_samples, ), for example using ravel().\n",
            "  y = column_or_1d(y, warn=True)\n"
          ]
        }
      ],
      "source": [
        "#12 date fruit\n",
        "X = pd.read_csv('date_X.csv').values\n",
        "y = pd.read_csv('date_y.csv').values\n",
        "X_train, X_test, y_train, y_test = train_test_split(X, y, test_size=0.20, random_state=23)\n",
        "logistic = linear_model.LogisticRegression(max_iter=1000, C=1, tol=0.0001, fit_intercept=True, penalty='l2')\n",
        "print(\"LogisticRegression score: %f\" % logistic.fit(X_train, y_train).score(X_test, y_test))"
      ]
    },
    {
      "cell_type": "code",
      "execution_count": 15,
      "metadata": {
        "id": "NY_99ppxUm-r"
      },
      "outputs": [
        {
          "name": "stdout",
          "output_type": "stream",
          "text": [
            "LogisticRegression score: 0.996587\n"
          ]
        },
        {
          "name": "stderr",
          "output_type": "stream",
          "text": [
            "c:\\Users\\athud\\AppData\\Local\\Programs\\Python\\Python39\\lib\\site-packages\\sklearn\\utils\\validation.py:993: DataConversionWarning: A column-vector y was passed when a 1d array was expected. Please change the shape of y to (n_samples, ), for example using ravel().\n",
            "  y = column_or_1d(y, warn=True)\n"
          ]
        }
      ],
      "source": [
        "#13 fake bills\n",
        "X = pd.read_csv('fakebills_X.csv').values\n",
        "y = pd.read_csv('fakebills_y.csv').values\n",
        "X_train, X_test, y_train, y_test = train_test_split(X, y, test_size=0.20, random_state=23)\n",
        "logistic = linear_model.LogisticRegression(max_iter=1000, C=1, tol=0.0001, fit_intercept=True, penalty='l2')\n",
        "print(\"LogisticRegression score: %f\" % logistic.fit(X_train, y_train).score(X_test, y_test))"
      ]
    },
    {
      "cell_type": "code",
      "execution_count": 16,
      "metadata": {
        "id": "Jw0FnITKZfXX"
      },
      "outputs": [
        {
          "name": "stdout",
          "output_type": "stream",
          "text": [
            "LogisticRegression score: 0.539823\n"
          ]
        },
        {
          "name": "stderr",
          "output_type": "stream",
          "text": [
            "c:\\Users\\athud\\AppData\\Local\\Programs\\Python\\Python39\\lib\\site-packages\\sklearn\\utils\\validation.py:993: DataConversionWarning: A column-vector y was passed when a 1d array was expected. Please change the shape of y to (n_samples, ), for example using ravel().\n",
            "  y = column_or_1d(y, warn=True)\n"
          ]
        }
      ],
      "source": [
        "#14 Employee turnover\n",
        "X = pd.read_csv('empturnover_X.csv').values\n",
        "y = pd.read_csv('empturnover_y.csv').values\n",
        "X_train, X_test, y_train, y_test = train_test_split(X, y, test_size=0.20, random_state=23)\n",
        "logistic = linear_model.LogisticRegression(max_iter=1000, C=1, tol=0.0001, fit_intercept=True, penalty='l2')\n",
        "print(\"LogisticRegression score: %f\" % logistic.fit(X_train, y_train).score(X_test, y_test))"
      ]
    },
    {
      "cell_type": "code",
      "execution_count": 17,
      "metadata": {
        "id": "PjnAwcx_cYQY"
      },
      "outputs": [
        {
          "name": "stdout",
          "output_type": "stream",
          "text": [
            "LogisticRegression score: 0.912281\n"
          ]
        },
        {
          "name": "stderr",
          "output_type": "stream",
          "text": [
            "c:\\Users\\athud\\AppData\\Local\\Programs\\Python\\Python39\\lib\\site-packages\\sklearn\\utils\\validation.py:993: DataConversionWarning: A column-vector y was passed when a 1d array was expected. Please change the shape of y to (n_samples, ), for example using ravel().\n",
            "  y = column_or_1d(y, warn=True)\n"
          ]
        }
      ],
      "source": [
        "#15 Cancer\n",
        "X = pd.read_csv('cancer_X.csv').values\n",
        "y = pd.read_csv('cancer_y.csv').values\n",
        "X_train, X_test, y_train, y_test = train_test_split(X, y, test_size=0.20, random_state=23)\n",
        "logistic = linear_model.LogisticRegression(max_iter=1000, C=1, tol=0.0001, fit_intercept=True, penalty='l2')\n",
        "print(\"LogisticRegression score: %f\" % logistic.fit(X_train, y_train).score(X_test, y_test))"
      ]
    },
    {
      "cell_type": "code",
      "execution_count": 18,
      "metadata": {
        "id": "ulgBsByMeIKW"
      },
      "outputs": [
        {
          "name": "stderr",
          "output_type": "stream",
          "text": [
            "c:\\Users\\athud\\AppData\\Local\\Programs\\Python\\Python39\\lib\\site-packages\\sklearn\\utils\\validation.py:993: DataConversionWarning: A column-vector y was passed when a 1d array was expected. Please change the shape of y to (n_samples, ), for example using ravel().\n",
            "  y = column_or_1d(y, warn=True)\n"
          ]
        },
        {
          "name": "stdout",
          "output_type": "stream",
          "text": [
            "LogisticRegression score: 0.606250\n"
          ]
        },
        {
          "name": "stderr",
          "output_type": "stream",
          "text": [
            "c:\\Users\\athud\\AppData\\Local\\Programs\\Python\\Python39\\lib\\site-packages\\sklearn\\linear_model\\_logistic.py:814: ConvergenceWarning: lbfgs failed to converge (status=1):\n",
            "STOP: TOTAL NO. of ITERATIONS REACHED LIMIT.\n",
            "\n",
            "Increase the number of iterations (max_iter) or scale the data as shown in:\n",
            "    https://scikit-learn.org/stable/modules/preprocessing.html\n",
            "Please also refer to the documentation for alternative solver options:\n",
            "    https://scikit-learn.org/stable/modules/linear_model.html#logistic-regression\n",
            "  n_iter_i = _check_optimize_result(\n"
          ]
        }
      ],
      "source": [
        "#16 wine\n",
        "X = pd.read_csv('wine_X.csv').values\n",
        "y = pd.read_csv('wine_y.csv').values\n",
        "X_train, X_test, y_train, y_test = train_test_split(X, y, test_size=0.20, random_state=23)\n",
        "logistic = linear_model.LogisticRegression(max_iter=1000, C=1, tol=0.0001, fit_intercept=True, penalty='l2')\n",
        "print(\"LogisticRegression score: %f\" % logistic.fit(X_train, y_train).score(X_test, y_test))"
      ]
    },
    {
      "cell_type": "code",
      "execution_count": 19,
      "metadata": {
        "id": "cS0WAt53j5eq"
      },
      "outputs": [
        {
          "name": "stdout",
          "output_type": "stream",
          "text": [
            "LogisticRegression score: 0.800000\n"
          ]
        },
        {
          "name": "stderr",
          "output_type": "stream",
          "text": [
            "c:\\Users\\athud\\AppData\\Local\\Programs\\Python\\Python39\\lib\\site-packages\\sklearn\\utils\\validation.py:993: DataConversionWarning: A column-vector y was passed when a 1d array was expected. Please change the shape of y to (n_samples, ), for example using ravel().\n",
            "  y = column_or_1d(y, warn=True)\n"
          ]
        }
      ],
      "source": [
        "#17 kidney stone\n",
        "X = pd.read_csv('kidneystone_X.csv').values\n",
        "y = pd.read_csv('kidneystone_y.csv').values\n",
        "X_train, X_test, y_train, y_test = train_test_split(X, y, test_size=0.20, random_state=23)\n",
        "logistic = linear_model.LogisticRegression(max_iter=1000, C=1, tol=0.0001, fit_intercept=True, penalty='l2')\n",
        "print(\"LogisticRegression score: %f\" % logistic.fit(X_train, y_train).score(X_test, y_test))"
      ]
    },
    {
      "cell_type": "code",
      "execution_count": 20,
      "metadata": {
        "id": "m07XDhzZlcv2"
      },
      "outputs": [
        {
          "name": "stdout",
          "output_type": "stream",
          "text": [
            "LogisticRegression score: 0.809524\n"
          ]
        },
        {
          "name": "stderr",
          "output_type": "stream",
          "text": [
            "c:\\Users\\athud\\AppData\\Local\\Programs\\Python\\Python39\\lib\\site-packages\\sklearn\\utils\\validation.py:993: DataConversionWarning: A column-vector y was passed when a 1d array was expected. Please change the shape of y to (n_samples, ), for example using ravel().\n",
            "  y = column_or_1d(y, warn=True)\n"
          ]
        }
      ],
      "source": [
        "#18 rock or mine\n",
        "X = pd.read_csv('mineorrock_X.csv').values\n",
        "y = pd.read_csv('mineorrock_y.csv').values\n",
        "X_train, X_test, y_train, y_test = train_test_split(X, y, test_size=0.20, random_state=23)\n",
        "logistic = linear_model.LogisticRegression(max_iter=1000, C=1, tol=0.0001, fit_intercept=True, penalty='l2')\n",
        "print(\"LogisticRegression score: %f\" % logistic.fit(X_train, y_train).score(X_test, y_test))"
      ]
    },
    {
      "cell_type": "code",
      "execution_count": 21,
      "metadata": {
        "id": "3lJCf6MWnmXW"
      },
      "outputs": [
        {
          "name": "stdout",
          "output_type": "stream",
          "text": [
            "LogisticRegression score: 0.477918\n"
          ]
        },
        {
          "name": "stderr",
          "output_type": "stream",
          "text": [
            "c:\\Users\\athud\\AppData\\Local\\Programs\\Python\\Python39\\lib\\site-packages\\sklearn\\utils\\validation.py:993: DataConversionWarning: A column-vector y was passed when a 1d array was expected. Please change the shape of y to (n_samples, ), for example using ravel().\n",
            "  y = column_or_1d(y, warn=True)\n"
          ]
        }
      ],
      "source": [
        "#19 gender voice\n",
        "X = pd.read_csv('gendervoice_X.csv').values\n",
        "y = pd.read_csv('gendervoice_y.csv').values\n",
        "X_train, X_test, y_train, y_test = train_test_split(X, y, test_size=0.20, random_state=23)\n",
        "logistic = linear_model.LogisticRegression(max_iter=1000, C=1, tol=0.0001, fit_intercept=True, penalty='l2')\n",
        "print(\"LogisticRegression score: %f\" % logistic.fit(X_train, y_train).score(X_test, y_test))"
      ]
    },
    {
      "cell_type": "code",
      "execution_count": 23,
      "metadata": {
        "id": "Yt8ugSGhoihb"
      },
      "outputs": [
        {
          "name": "stdout",
          "output_type": "stream",
          "text": [
            "LogisticRegression score: 0.523810\n"
          ]
        },
        {
          "name": "stderr",
          "output_type": "stream",
          "text": [
            "c:\\Users\\athud\\AppData\\Local\\Programs\\Python\\Python39\\lib\\site-packages\\sklearn\\utils\\validation.py:993: DataConversionWarning: A column-vector y was passed when a 1d array was expected. Please change the shape of y to (n_samples, ), for example using ravel().\n",
            "  y = column_or_1d(y, warn=True)\n"
          ]
        }
      ],
      "source": [
        "#20 possum\n",
        "X = pd.read_csv('possum_X.csv').values\n",
        "y = pd.read_csv('possum_y.csv').values\n",
        "X_train, X_test, y_train, y_test = train_test_split(X, y, test_size=0.20, random_state=23)\n",
        "logistic = linear_model.LogisticRegression(max_iter=1000, C=1, tol=0.0001, fit_intercept=True, penalty='l2')\n",
        "print(\"LogisticRegression score: %f\" % logistic.fit(X_train, y_train).score(X_test, y_test))"
      ]
    },
    {
      "cell_type": "markdown",
      "metadata": {
        "id": "DsoYH9_-eB6q"
      },
      "source": [
        "# OPTUNE"
      ]
    },
    {
      "cell_type": "code",
      "execution_count": 24,
      "metadata": {
        "colab": {
          "base_uri": "https://localhost:8080/"
        },
        "id": "CGgOOI3peS9i",
        "outputId": "97fee878-ea99-4b9c-bb45-dd3ee5c0442e"
      },
      "outputs": [
        {
          "name": "stdout",
          "output_type": "stream",
          "text": [
            "Collecting optuna\n",
            "  Downloading optuna-3.6.1-py3-none-any.whl.metadata (17 kB)\n",
            "Collecting alembic>=1.5.0 (from optuna)\n",
            "  Downloading alembic-1.13.1-py3-none-any.whl.metadata (7.4 kB)\n",
            "Collecting colorlog (from optuna)\n",
            "  Downloading colorlog-6.8.2-py3-none-any.whl.metadata (10 kB)\n",
            "Requirement already satisfied: numpy in c:\\users\\athud\\appdata\\local\\programs\\python\\python39\\lib\\site-packages (from optuna) (1.26.1)\n",
            "Requirement already satisfied: packaging>=20.0 in c:\\users\\athud\\appdata\\local\\programs\\python\\python39\\lib\\site-packages (from optuna) (23.2)\n",
            "Collecting sqlalchemy>=1.3.0 (from optuna)\n",
            "  Downloading SQLAlchemy-2.0.29-cp39-cp39-win_amd64.whl.metadata (9.8 kB)\n",
            "Requirement already satisfied: tqdm in c:\\users\\athud\\appdata\\local\\programs\\python\\python39\\lib\\site-packages (from optuna) (4.66.1)\n",
            "Requirement already satisfied: PyYAML in c:\\users\\athud\\appdata\\local\\programs\\python\\python39\\lib\\site-packages (from optuna) (6.0.1)\n",
            "Collecting Mako (from alembic>=1.5.0->optuna)\n",
            "  Downloading Mako-1.3.3-py3-none-any.whl.metadata (2.9 kB)\n",
            "Requirement already satisfied: typing-extensions>=4 in c:\\users\\athud\\appdata\\local\\programs\\python\\python39\\lib\\site-packages (from alembic>=1.5.0->optuna) (4.5.0)\n",
            "Collecting typing-extensions>=4 (from alembic>=1.5.0->optuna)\n",
            "  Downloading typing_extensions-4.11.0-py3-none-any.whl.metadata (3.0 kB)\n",
            "Requirement already satisfied: greenlet!=0.4.17 in c:\\users\\athud\\appdata\\local\\programs\\python\\python39\\lib\\site-packages (from sqlalchemy>=1.3.0->optuna) (2.0.2)\n",
            "Requirement already satisfied: colorama in c:\\users\\athud\\appdata\\local\\programs\\python\\python39\\lib\\site-packages (from colorlog->optuna) (0.4.4)\n",
            "Requirement already satisfied: MarkupSafe>=0.9.2 in c:\\users\\athud\\appdata\\local\\programs\\python\\python39\\lib\\site-packages (from Mako->alembic>=1.5.0->optuna) (2.1.3)\n",
            "Downloading optuna-3.6.1-py3-none-any.whl (380 kB)\n",
            "   ---------------------------------------- 0.0/380.1 kB ? eta -:--:--\n",
            "   ------------------ --------------------- 174.1/380.1 kB 3.5 MB/s eta 0:00:01\n",
            "   ---------------------------------------- 380.1/380.1 kB 3.9 MB/s eta 0:00:00\n",
            "Downloading alembic-1.13.1-py3-none-any.whl (233 kB)\n",
            "   ---------------------------------------- 0.0/233.4 kB ? eta -:--:--\n",
            "   -------------------------------------- - 225.3/233.4 kB 6.9 MB/s eta 0:00:01\n",
            "   ---------------------------------------- 233.4/233.4 kB 7.2 MB/s eta 0:00:00\n",
            "Downloading SQLAlchemy-2.0.29-cp39-cp39-win_amd64.whl (2.1 MB)\n",
            "   ---------------------------------------- 0.0/2.1 MB ? eta -:--:--\n",
            "   ----- ---------------------------------- 0.3/2.1 MB 8.6 MB/s eta 0:00:01\n",
            "   ---------- ----------------------------- 0.5/2.1 MB 8.3 MB/s eta 0:00:01\n",
            "   ---------------- ----------------------- 0.8/2.1 MB 6.7 MB/s eta 0:00:01\n",
            "   --------------------- ------------------ 1.1/2.1 MB 6.5 MB/s eta 0:00:01\n",
            "   -------------------------- ------------- 1.4/2.1 MB 6.3 MB/s eta 0:00:01\n",
            "   -------------------------------- ------- 1.7/2.1 MB 6.7 MB/s eta 0:00:01\n",
            "   --------------------------------- ------ 1.7/2.1 MB 5.5 MB/s eta 0:00:01\n",
            "   ------------------------------------ --- 1.9/2.1 MB 5.3 MB/s eta 0:00:01\n",
            "   ------------------------------------- -- 2.0/2.1 MB 5.2 MB/s eta 0:00:01\n",
            "   ---------------------------------------- 2.1/2.1 MB 4.7 MB/s eta 0:00:00\n",
            "Downloading colorlog-6.8.2-py3-none-any.whl (11 kB)\n",
            "Downloading typing_extensions-4.11.0-py3-none-any.whl (34 kB)\n",
            "Downloading Mako-1.3.3-py3-none-any.whl (78 kB)\n",
            "   ---------------------------------------- 0.0/78.8 kB ? eta -:--:--\n",
            "   ---------------------------------------- 78.8/78.8 kB ? eta 0:00:00\n",
            "Installing collected packages: typing-extensions, Mako, colorlog, sqlalchemy, alembic, optuna\n",
            "  Attempting uninstall: typing-extensions\n",
            "    Found existing installation: typing_extensions 4.5.0\n",
            "    Uninstalling typing_extensions-4.5.0:\n",
            "      Successfully uninstalled typing_extensions-4.5.0\n",
            "  Attempting uninstall: sqlalchemy\n",
            "    Found existing installation: SQLAlchemy 1.2.19\n",
            "    Uninstalling SQLAlchemy-1.2.19:\n",
            "      Successfully uninstalled SQLAlchemy-1.2.19\n",
            "Successfully installed Mako-1.3.3 alembic-1.13.1 colorlog-6.8.2 optuna-3.6.1 sqlalchemy-2.0.29 typing-extensions-4.11.0\n",
            "Note: you may need to restart the kernel to use updated packages.\n"
          ]
        },
        {
          "name": "stderr",
          "output_type": "stream",
          "text": [
            "ERROR: pip's dependency resolver does not currently take into account all the packages that are installed. This behaviour is the source of the following dependency conflicts.\n",
            "chatterbot 1.0.4 requires pymongo<4.0,>=3.3, but you have pymongo 4.5.0 which is incompatible.\n",
            "chatterbot 1.0.4 requires python-dateutil<2.8,>=2.7, but you have python-dateutil 2.8.2 which is incompatible.\n",
            "chatterbot 1.0.4 requires sqlalchemy<1.3,>=1.2, but you have sqlalchemy 2.0.29 which is incompatible.\n",
            "langchain-serve 0.0.38 requires typing-extensions==4.5.0, but you have typing-extensions 4.11.0 which is incompatible.\n"
          ]
        }
      ],
      "source": [
        "pip install optuna"
      ]
    },
    {
      "cell_type": "code",
      "execution_count": 25,
      "metadata": {
        "id": "S6S-oREjuSWG"
      },
      "outputs": [
        {
          "name": "stderr",
          "output_type": "stream",
          "text": [
            "c:\\Users\\athud\\AppData\\Local\\Programs\\Python\\Python39\\lib\\site-packages\\tqdm\\auto.py:21: TqdmWarning: IProgress not found. Please update jupyter and ipywidgets. See https://ipywidgets.readthedocs.io/en/stable/user_install.html\n",
            "  from .autonotebook import tqdm as notebook_tqdm\n"
          ]
        }
      ],
      "source": [
        "import optuna\n",
        "import warnings\n",
        "warnings.filterwarnings(\"ignore\", category=FutureWarning)\n",
        "warnings.filterwarnings(\"ignore\", category=UserWarning)"
      ]
    },
    {
      "cell_type": "code",
      "execution_count": 29,
      "metadata": {
        "id": "ZSVr_TABeQVM"
      },
      "outputs": [],
      "source": [
        "def objective(trial):\n",
        "  params = {\n",
        "      'tol' : trial.suggest_uniform('tol' , 1e-6 , 1e-3),\n",
        "      'C' : trial.suggest_loguniform(\"C\", 1e-2, 1),\n",
        "      'max_iter' : trial.suggest_int('max_iter', 100, 5000, step=100),\n",
        "      'fit_intercept' : trial.suggest_categorical('fit_intercept', [True, False]),\n",
        "      'penalty' : trial.suggest_categorical('penalty', ['l2', 'none'])\n",
        "  }\n",
        "\n",
        "  X_train, X_test, y_train, y_test = train_test_split(X, y, test_size=0.20, random_state=23)\n",
        "  logistic = linear_model.LogisticRegression(**params)\n",
        "  accuracy = logistic.fit(X_train, y_train).score(X_test, y_test)\n",
        "  return accuracy"
      ]
    },
    {
      "cell_type": "code",
      "execution_count": 30,
      "metadata": {
        "colab": {
          "base_uri": "https://localhost:8080/"
        },
        "id": "HZXaBbjNfohs",
        "outputId": "8c489950-0807-4357-f44e-4d0d00f5275d"
      },
      "outputs": [
        {
          "name": "stderr",
          "output_type": "stream",
          "text": [
            "[I 2024-04-15 15:15:30,782] A new study created in memory with name: lr\n",
            "[I 2024-04-15 15:15:30,799] Trial 0 finished with value: 0.47619047619047616 and parameters: {'tol': 0.0005973749978082036, 'C': 0.0340801775821091, 'max_iter': 1800, 'fit_intercept': False, 'penalty': 'none'}. Best is trial 0 with value: 0.47619047619047616.\n",
            "[I 2024-04-15 15:15:30,828] Trial 1 finished with value: 0.5238095238095238 and parameters: {'tol': 0.00021485230154779563, 'C': 0.12961382406882044, 'max_iter': 300, 'fit_intercept': True, 'penalty': 'l2'}. Best is trial 1 with value: 0.5238095238095238.\n",
            "[I 2024-04-15 15:15:30,848] Trial 2 finished with value: 0.47619047619047616 and parameters: {'tol': 0.0004231628899561834, 'C': 0.03701014164233383, 'max_iter': 100, 'fit_intercept': False, 'penalty': 'none'}. Best is trial 1 with value: 0.5238095238095238.\n",
            "[I 2024-04-15 15:15:30,889] Trial 3 finished with value: 0.5238095238095238 and parameters: {'tol': 0.0009944113285525118, 'C': 0.02987657807235826, 'max_iter': 1600, 'fit_intercept': True, 'penalty': 'none'}. Best is trial 1 with value: 0.5238095238095238.\n",
            "[I 2024-04-15 15:15:30,923] Trial 4 finished with value: 0.5238095238095238 and parameters: {'tol': 0.0005106012053631279, 'C': 0.1668310268015615, 'max_iter': 3200, 'fit_intercept': True, 'penalty': 'none'}. Best is trial 1 with value: 0.5238095238095238.\n",
            "[I 2024-04-15 15:15:30,941] Trial 5 finished with value: 0.47619047619047616 and parameters: {'tol': 0.0009275613275264893, 'C': 0.018523755332753394, 'max_iter': 2300, 'fit_intercept': False, 'penalty': 'none'}. Best is trial 1 with value: 0.5238095238095238.\n",
            "[I 2024-04-15 15:15:30,957] Trial 6 finished with value: 0.47619047619047616 and parameters: {'tol': 0.0003828261152359699, 'C': 0.9057719844748935, 'max_iter': 2500, 'fit_intercept': False, 'penalty': 'l2'}. Best is trial 1 with value: 0.5238095238095238.\n",
            "[I 2024-04-15 15:15:30,971] Trial 7 finished with value: 0.47619047619047616 and parameters: {'tol': 2.1915548530943838e-05, 'C': 0.12117489952307187, 'max_iter': 3400, 'fit_intercept': False, 'penalty': 'none'}. Best is trial 1 with value: 0.5238095238095238.\n",
            "[I 2024-04-15 15:15:31,011] Trial 8 finished with value: 0.5238095238095238 and parameters: {'tol': 0.0003585030257240297, 'C': 0.029852970256236972, 'max_iter': 2200, 'fit_intercept': True, 'penalty': 'none'}. Best is trial 1 with value: 0.5238095238095238.\n",
            "[I 2024-04-15 15:15:31,026] Trial 9 finished with value: 0.47619047619047616 and parameters: {'tol': 0.00038999353851205596, 'C': 0.2764999003426373, 'max_iter': 1800, 'fit_intercept': False, 'penalty': 'l2'}. Best is trial 1 with value: 0.5238095238095238.\n",
            "[I 2024-04-15 15:15:31,070] Trial 10 finished with value: 0.5238095238095238 and parameters: {'tol': 6.223473885804033e-05, 'C': 0.3792336598593803, 'max_iter': 4600, 'fit_intercept': True, 'penalty': 'l2'}. Best is trial 1 with value: 0.5238095238095238.\n",
            "[I 2024-04-15 15:15:31,106] Trial 11 finished with value: 0.5238095238095238 and parameters: {'tol': 0.0009604598699958139, 'C': 0.07550542784302348, 'max_iter': 400, 'fit_intercept': True, 'penalty': 'l2'}. Best is trial 1 with value: 0.5238095238095238.\n",
            "[I 2024-04-15 15:15:31,125] Trial 12 finished with value: 0.47619047619047616 and parameters: {'tol': 0.0007684894997890094, 'C': 0.01016171175364739, 'max_iter': 1000, 'fit_intercept': True, 'penalty': 'l2'}. Best is trial 1 with value: 0.5238095238095238.\n",
            "[I 2024-04-15 15:15:31,165] Trial 13 finished with value: 0.5238095238095238 and parameters: {'tol': 0.0006872671339950272, 'C': 0.0703756389053718, 'max_iter': 1000, 'fit_intercept': True, 'penalty': 'l2'}. Best is trial 1 with value: 0.5238095238095238.\n",
            "[I 2024-04-15 15:15:31,210] Trial 14 finished with value: 0.5238095238095238 and parameters: {'tol': 0.00022491287154472207, 'C': 0.06663294665297399, 'max_iter': 1100, 'fit_intercept': True, 'penalty': 'none'}. Best is trial 1 with value: 0.5238095238095238.\n",
            "[I 2024-04-15 15:15:31,248] Trial 15 finished with value: 0.5238095238095238 and parameters: {'tol': 0.00017735987604713716, 'C': 0.19832496016648235, 'max_iter': 600, 'fit_intercept': True, 'penalty': 'l2'}. Best is trial 1 with value: 0.5238095238095238.\n",
            "[I 2024-04-15 15:15:31,293] Trial 16 finished with value: 0.5238095238095238 and parameters: {'tol': 0.0007739222282595913, 'C': 0.014658096525102053, 'max_iter': 1500, 'fit_intercept': True, 'penalty': 'none'}. Best is trial 1 with value: 0.5238095238095238.\n",
            "[I 2024-04-15 15:15:31,334] Trial 17 finished with value: 0.5238095238095238 and parameters: {'tol': 0.00018172851513712337, 'C': 0.6058361518876977, 'max_iter': 3200, 'fit_intercept': True, 'penalty': 'l2'}. Best is trial 1 with value: 0.5238095238095238.\n",
            "[I 2024-04-15 15:15:31,360] Trial 18 finished with value: 0.5238095238095238 and parameters: {'tol': 0.0002641751837748816, 'C': 0.04830937315681549, 'max_iter': 4800, 'fit_intercept': True, 'penalty': 'l2'}. Best is trial 1 with value: 0.5238095238095238.\n",
            "[I 2024-04-15 15:15:31,388] Trial 19 finished with value: 0.47619047619047616 and parameters: {'tol': 0.0008527996166653668, 'C': 0.11539250060370246, 'max_iter': 100, 'fit_intercept': True, 'penalty': 'none'}. Best is trial 1 with value: 0.5238095238095238.\n",
            "[I 2024-04-15 15:15:31,433] Trial 20 finished with value: 0.5238095238095238 and parameters: {'tol': 0.0005756185264477898, 'C': 0.021550046863180287, 'max_iter': 1400, 'fit_intercept': True, 'penalty': 'none'}. Best is trial 1 with value: 0.5238095238095238.\n",
            "[I 2024-04-15 15:15:31,478] Trial 21 finished with value: 0.5238095238095238 and parameters: {'tol': 0.0005246994409579672, 'C': 0.15638802239386063, 'max_iter': 3300, 'fit_intercept': True, 'penalty': 'none'}. Best is trial 1 with value: 0.5238095238095238.\n",
            "[I 2024-04-15 15:15:31,522] Trial 22 finished with value: 0.5238095238095238 and parameters: {'tol': 0.0006600768217026138, 'C': 0.2528825324178278, 'max_iter': 3800, 'fit_intercept': True, 'penalty': 'none'}. Best is trial 1 with value: 0.5238095238095238.\n",
            "[I 2024-04-15 15:15:31,568] Trial 23 finished with value: 0.5238095238095238 and parameters: {'tol': 0.00012253898421255428, 'C': 0.3967769792088695, 'max_iter': 3800, 'fit_intercept': True, 'penalty': 'none'}. Best is trial 1 with value: 0.5238095238095238.\n",
            "[I 2024-04-15 15:15:31,614] Trial 24 finished with value: 0.5238095238095238 and parameters: {'tol': 0.00032016185385355255, 'C': 0.15702771528535056, 'max_iter': 2900, 'fit_intercept': True, 'penalty': 'none'}. Best is trial 1 with value: 0.5238095238095238.\n",
            "[I 2024-04-15 15:15:31,658] Trial 25 finished with value: 0.5238095238095238 and parameters: {'tol': 0.0004726762133824041, 'C': 0.08930520769360509, 'max_iter': 2800, 'fit_intercept': True, 'penalty': 'none'}. Best is trial 1 with value: 0.5238095238095238.\n",
            "[I 2024-04-15 15:15:31,692] Trial 26 finished with value: 0.5238095238095238 and parameters: {'tol': 0.000994556484796395, 'C': 0.04383638314864099, 'max_iter': 4100, 'fit_intercept': True, 'penalty': 'l2'}. Best is trial 1 with value: 0.5238095238095238.\n",
            "[I 2024-04-15 15:15:31,737] Trial 27 finished with value: 0.5238095238095238 and parameters: {'tol': 0.0008689177025097441, 'C': 0.05665185991862827, 'max_iter': 1900, 'fit_intercept': True, 'penalty': 'none'}. Best is trial 1 with value: 0.5238095238095238.\n",
            "[I 2024-04-15 15:15:31,776] Trial 28 finished with value: 0.5238095238095238 and parameters: {'tol': 0.0002991982955991842, 'C': 0.13442986591634104, 'max_iter': 700, 'fit_intercept': True, 'penalty': 'l2'}. Best is trial 1 with value: 0.5238095238095238.\n",
            "[I 2024-04-15 15:15:31,802] Trial 29 finished with value: 0.47619047619047616 and parameters: {'tol': 0.0006514406465987219, 'C': 0.21499435153940086, 'max_iter': 2100, 'fit_intercept': False, 'penalty': 'none'}. Best is trial 1 with value: 0.5238095238095238.\n",
            "[I 2024-04-15 15:15:31,847] Trial 30 finished with value: 0.5238095238095238 and parameters: {'tol': 0.0004952321819456415, 'C': 0.03021335008562262, 'max_iter': 1500, 'fit_intercept': True, 'penalty': 'none'}. Best is trial 1 with value: 0.5238095238095238.\n",
            "[I 2024-04-15 15:15:31,891] Trial 31 finished with value: 0.5238095238095238 and parameters: {'tol': 0.0003371448245218096, 'C': 0.03174503208249151, 'max_iter': 2600, 'fit_intercept': True, 'penalty': 'none'}. Best is trial 1 with value: 0.5238095238095238.\n",
            "[I 2024-04-15 15:15:31,937] Trial 32 finished with value: 0.5238095238095238 and parameters: {'tol': 0.00044402824739018046, 'C': 0.09524909284538341, 'max_iter': 2200, 'fit_intercept': True, 'penalty': 'none'}. Best is trial 1 with value: 0.5238095238095238.\n",
            "[I 2024-04-15 15:15:31,983] Trial 33 finished with value: 0.5238095238095238 and parameters: {'tol': 0.00010343407746005921, 'C': 0.018934242212686653, 'max_iter': 2900, 'fit_intercept': True, 'penalty': 'none'}. Best is trial 1 with value: 0.5238095238095238.\n",
            "[I 2024-04-15 15:15:32,010] Trial 34 finished with value: 0.47619047619047616 and parameters: {'tol': 0.0005737201318266371, 'C': 0.0265128708260624, 'max_iter': 2400, 'fit_intercept': False, 'penalty': 'none'}. Best is trial 1 with value: 0.5238095238095238.\n",
            "[I 2024-04-15 15:15:32,038] Trial 35 finished with value: 0.47619047619047616 and parameters: {'tol': 0.00036960088800181605, 'C': 0.04297849294173563, 'max_iter': 2000, 'fit_intercept': False, 'penalty': 'none'}. Best is trial 1 with value: 0.5238095238095238.\n",
            "[I 2024-04-15 15:15:32,083] Trial 36 finished with value: 0.5238095238095238 and parameters: {'tol': 0.0002198506441881604, 'C': 0.013871408231885263, 'max_iter': 3600, 'fit_intercept': True, 'penalty': 'none'}. Best is trial 1 with value: 0.5238095238095238.\n",
            "[I 2024-04-15 15:15:32,109] Trial 37 finished with value: 0.47619047619047616 and parameters: {'tol': 0.00028489047085776916, 'C': 0.02573752059243244, 'max_iter': 1700, 'fit_intercept': False, 'penalty': 'none'}. Best is trial 1 with value: 0.5238095238095238.\n",
            "[I 2024-04-15 15:15:32,150] Trial 38 finished with value: 0.5238095238095238 and parameters: {'tol': 2.576579948537788e-05, 'C': 0.33019554518594973, 'max_iter': 4300, 'fit_intercept': True, 'penalty': 'l2'}. Best is trial 1 with value: 0.5238095238095238.\n",
            "[I 2024-04-15 15:15:32,175] Trial 39 finished with value: 0.5238095238095238 and parameters: {'tol': 0.000423673869036487, 'C': 0.03687978800339821, 'max_iter': 100, 'fit_intercept': True, 'penalty': 'l2'}. Best is trial 1 with value: 0.5238095238095238.\n",
            "[I 2024-04-15 15:15:32,203] Trial 40 finished with value: 0.47619047619047616 and parameters: {'tol': 0.0007736060432774828, 'C': 0.17089400435163643, 'max_iter': 2600, 'fit_intercept': False, 'penalty': 'none'}. Best is trial 1 with value: 0.5238095238095238.\n",
            "[I 2024-04-15 15:15:32,251] Trial 41 finished with value: 0.5238095238095238 and parameters: {'tol': 9.200944337984314e-05, 'C': 0.5770998046644962, 'max_iter': 4400, 'fit_intercept': True, 'penalty': 'l2'}. Best is trial 1 with value: 0.5238095238095238.\n",
            "[I 2024-04-15 15:15:32,292] Trial 42 finished with value: 0.5238095238095238 and parameters: {'tol': 4.9478153416010205e-05, 'C': 0.4944507099940108, 'max_iter': 4700, 'fit_intercept': True, 'penalty': 'l2'}. Best is trial 1 with value: 0.5238095238095238.\n",
            "[I 2024-04-15 15:15:32,334] Trial 43 finished with value: 0.5238095238095238 and parameters: {'tol': 0.00013729074655886462, 'C': 0.3096715893758356, 'max_iter': 1200, 'fit_intercept': True, 'penalty': 'l2'}. Best is trial 1 with value: 0.5238095238095238.\n",
            "[I 2024-04-15 15:15:32,378] Trial 44 finished with value: 0.5238095238095238 and parameters: {'tol': 0.00024329321143265738, 'C': 0.8086868516607626, 'max_iter': 5000, 'fit_intercept': True, 'penalty': 'l2'}. Best is trial 1 with value: 0.5238095238095238.\n",
            "[I 2024-04-15 15:15:32,416] Trial 45 finished with value: 0.5238095238095238 and parameters: {'tol': 0.0003692609750203321, 'C': 0.22772101706149359, 'max_iter': 800, 'fit_intercept': True, 'penalty': 'l2'}. Best is trial 1 with value: 0.5238095238095238.\n",
            "[I 2024-04-15 15:15:32,452] Trial 46 finished with value: 0.5238095238095238 and parameters: {'tol': 0.0001695526898155855, 'C': 0.07356235469331607, 'max_iter': 400, 'fit_intercept': True, 'penalty': 'l2'}. Best is trial 1 with value: 0.5238095238095238.\n",
            "[I 2024-04-15 15:15:32,490] Trial 47 finished with value: 0.5238095238095238 and parameters: {'tol': 0.00020955015415955185, 'C': 0.1195607305029337, 'max_iter': 1300, 'fit_intercept': True, 'penalty': 'l2'}. Best is trial 1 with value: 0.5238095238095238.\n",
            "[I 2024-04-15 15:15:32,539] Trial 48 finished with value: 0.5238095238095238 and parameters: {'tol': 5.953462437457185e-06, 'C': 0.06032026616978196, 'max_iter': 3100, 'fit_intercept': True, 'penalty': 'none'}. Best is trial 1 with value: 0.5238095238095238.\n",
            "[I 2024-04-15 15:15:32,560] Trial 49 finished with value: 0.47619047619047616 and parameters: {'tol': 5.985959010157356e-05, 'C': 0.01014548597399856, 'max_iter': 1600, 'fit_intercept': True, 'penalty': 'l2'}. Best is trial 1 with value: 0.5238095238095238.\n",
            "[I 2024-04-15 15:15:32,606] Trial 50 finished with value: 0.5238095238095238 and parameters: {'tol': 0.000915175095688356, 'C': 0.3825967950502806, 'max_iter': 3500, 'fit_intercept': True, 'penalty': 'none'}. Best is trial 1 with value: 0.5238095238095238.\n",
            "[I 2024-04-15 15:15:32,646] Trial 51 finished with value: 0.5238095238095238 and parameters: {'tol': 0.0009890844743417036, 'C': 0.1837836410447806, 'max_iter': 300, 'fit_intercept': True, 'penalty': 'l2'}. Best is trial 1 with value: 0.5238095238095238.\n",
            "[I 2024-04-15 15:15:32,686] Trial 52 finished with value: 0.5238095238095238 and parameters: {'tol': 0.0008334968839701737, 'C': 0.09247757871817058, 'max_iter': 500, 'fit_intercept': True, 'penalty': 'l2'}. Best is trial 1 with value: 0.5238095238095238.\n",
            "[I 2024-04-15 15:15:32,721] Trial 53 finished with value: 0.5238095238095238 and parameters: {'tol': 0.0009111439341244885, 'C': 0.0751478172453902, 'max_iter': 2300, 'fit_intercept': True, 'penalty': 'l2'}. Best is trial 1 with value: 0.5238095238095238.\n",
            "[I 2024-04-15 15:15:32,757] Trial 54 finished with value: 0.5238095238095238 and parameters: {'tol': 0.0007284460963839076, 'C': 0.14039354866241827, 'max_iter': 900, 'fit_intercept': True, 'penalty': 'l2'}. Best is trial 1 with value: 0.5238095238095238.\n",
            "[I 2024-04-15 15:15:32,787] Trial 55 finished with value: 0.5238095238095238 and parameters: {'tol': 0.0009588853185041174, 'C': 0.051212457751776706, 'max_iter': 300, 'fit_intercept': True, 'penalty': 'l2'}. Best is trial 1 with value: 0.5238095238095238.\n",
            "[I 2024-04-15 15:15:32,833] Trial 56 finished with value: 0.5238095238095238 and parameters: {'tol': 0.0008061363426924515, 'C': 0.11054303197910884, 'max_iter': 1100, 'fit_intercept': True, 'penalty': 'none'}. Best is trial 1 with value: 0.5238095238095238.\n",
            "[I 2024-04-15 15:15:32,855] Trial 57 finished with value: 0.42857142857142855 and parameters: {'tol': 0.0008703909069627467, 'C': 0.015553441173746565, 'max_iter': 4000, 'fit_intercept': True, 'penalty': 'l2'}. Best is trial 1 with value: 0.5238095238095238.\n",
            "[I 2024-04-15 15:15:32,884] Trial 58 finished with value: 0.47619047619047616 and parameters: {'tol': 0.0005479737725498912, 'C': 0.9717761642572221, 'max_iter': 1800, 'fit_intercept': False, 'penalty': 'none'}. Best is trial 1 with value: 0.5238095238095238.\n",
            "[I 2024-04-15 15:15:32,911] Trial 59 finished with value: 0.47619047619047616 and parameters: {'tol': 0.0006206105725709016, 'C': 0.25405528729721505, 'max_iter': 100, 'fit_intercept': True, 'penalty': 'l2'}. Best is trial 1 with value: 0.5238095238095238.\n",
            "[I 2024-04-15 15:15:32,960] Trial 60 finished with value: 0.5238095238095238 and parameters: {'tol': 0.0007183605269032019, 'C': 0.02306764263690107, 'max_iter': 700, 'fit_intercept': True, 'penalty': 'none'}. Best is trial 1 with value: 0.5238095238095238.\n",
            "[I 2024-04-15 15:15:32,982] Trial 61 finished with value: 0.5238095238095238 and parameters: {'tol': 0.0009610039955261487, 'C': 0.03916073755129715, 'max_iter': 900, 'fit_intercept': True, 'penalty': 'l2'}. Best is trial 1 with value: 0.5238095238095238.\n",
            "[I 2024-04-15 15:15:33,017] Trial 62 finished with value: 0.5238095238095238 and parameters: {'tol': 0.00046165952035965056, 'C': 0.0781040761106959, 'max_iter': 600, 'fit_intercept': True, 'penalty': 'l2'}. Best is trial 1 with value: 0.5238095238095238.\n",
            "[I 2024-04-15 15:15:33,051] Trial 63 finished with value: 0.5238095238095238 and parameters: {'tol': 0.0007101602236173875, 'C': 0.050338426846540815, 'max_iter': 1500, 'fit_intercept': True, 'penalty': 'l2'}. Best is trial 1 with value: 0.5238095238095238.\n",
            "[I 2024-04-15 15:15:33,094] Trial 64 finished with value: 0.5238095238095238 and parameters: {'tol': 0.00033655096111332534, 'C': 0.061748014234534965, 'max_iter': 1100, 'fit_intercept': True, 'penalty': 'l2'}. Best is trial 1 with value: 0.5238095238095238.\n",
            "[I 2024-04-15 15:15:33,140] Trial 65 finished with value: 0.5238095238095238 and parameters: {'tol': 0.0004050155125705855, 'C': 0.12987076440465975, 'max_iter': 1300, 'fit_intercept': True, 'penalty': 'none'}. Best is trial 1 with value: 0.5238095238095238.\n",
            "[I 2024-04-15 15:15:33,188] Trial 66 finished with value: 0.5238095238095238 and parameters: {'tol': 0.00026520194317954186, 'C': 0.10300514322109793, 'max_iter': 1900, 'fit_intercept': True, 'penalty': 'none'}. Best is trial 1 with value: 0.5238095238095238.\n",
            "[I 2024-04-15 15:15:33,222] Trial 67 finished with value: 0.5238095238095238 and parameters: {'tol': 0.0004985409731215597, 'C': 0.15186626384889848, 'max_iter': 300, 'fit_intercept': True, 'penalty': 'l2'}. Best is trial 1 with value: 0.5238095238095238.\n",
            "[I 2024-04-15 15:15:33,250] Trial 68 finished with value: 0.47619047619047616 and parameters: {'tol': 0.0008893229071837359, 'C': 0.08131040729644108, 'max_iter': 3100, 'fit_intercept': False, 'penalty': 'none'}. Best is trial 1 with value: 0.5238095238095238.\n",
            "[I 2024-04-15 15:15:33,293] Trial 69 finished with value: 0.5238095238095238 and parameters: {'tol': 0.0006688512776602536, 'C': 0.029620426192618027, 'max_iter': 2100, 'fit_intercept': True, 'penalty': 'l2'}. Best is trial 1 with value: 0.5238095238095238.\n",
            "[I 2024-04-15 15:15:33,345] Trial 70 finished with value: 0.5238095238095238 and parameters: {'tol': 0.0009400448366071114, 'C': 0.2051508329103246, 'max_iter': 2700, 'fit_intercept': True, 'penalty': 'none'}. Best is trial 1 with value: 0.5238095238095238.\n",
            "[I 2024-04-15 15:15:33,391] Trial 71 finished with value: 0.5238095238095238 and parameters: {'tol': 0.0001580404275347111, 'C': 0.06653730961185271, 'max_iter': 1000, 'fit_intercept': True, 'penalty': 'none'}. Best is trial 1 with value: 0.5238095238095238.\n",
            "[I 2024-04-15 15:15:33,439] Trial 72 finished with value: 0.5238095238095238 and parameters: {'tol': 0.00022122636833724142, 'C': 0.035627937662235015, 'max_iter': 500, 'fit_intercept': True, 'penalty': 'none'}. Best is trial 1 with value: 0.5238095238095238.\n",
            "[I 2024-04-15 15:15:33,485] Trial 73 finished with value: 0.5238095238095238 and parameters: {'tol': 0.00030942525888777087, 'C': 0.06895227366926354, 'max_iter': 800, 'fit_intercept': True, 'penalty': 'none'}. Best is trial 1 with value: 0.5238095238095238.\n",
            "[I 2024-04-15 15:15:33,531] Trial 74 finished with value: 0.5238095238095238 and parameters: {'tol': 0.0001938642960534582, 'C': 0.045214087165116296, 'max_iter': 1600, 'fit_intercept': True, 'penalty': 'none'}. Best is trial 1 with value: 0.5238095238095238.\n",
            "[I 2024-04-15 15:15:33,577] Trial 75 finished with value: 0.5238095238095238 and parameters: {'tol': 7.9520598587928e-05, 'C': 0.08567114728554502, 'max_iter': 2500, 'fit_intercept': True, 'penalty': 'none'}. Best is trial 1 with value: 0.5238095238095238.\n",
            "[I 2024-04-15 15:15:33,600] Trial 76 finished with value: 0.42857142857142855 and parameters: {'tol': 0.0003534802082753072, 'C': 0.018254924679585595, 'max_iter': 4600, 'fit_intercept': True, 'penalty': 'l2'}. Best is trial 1 with value: 0.5238095238095238.\n",
            "[I 2024-04-15 15:15:33,649] Trial 77 finished with value: 0.5238095238095238 and parameters: {'tol': 0.0005396396087439141, 'C': 0.011930720711713243, 'max_iter': 1200, 'fit_intercept': True, 'penalty': 'none'}. Best is trial 1 with value: 0.5238095238095238.\n",
            "[I 2024-04-15 15:15:33,676] Trial 78 finished with value: 0.47619047619047616 and parameters: {'tol': 0.00012643673741994396, 'C': 0.10242460754097067, 'max_iter': 600, 'fit_intercept': False, 'penalty': 'none'}. Best is trial 1 with value: 0.5238095238095238.\n",
            "[I 2024-04-15 15:15:33,705] Trial 79 finished with value: 0.5238095238095238 and parameters: {'tol': 0.00027360944631629313, 'C': 0.05762869915173015, 'max_iter': 1400, 'fit_intercept': True, 'penalty': 'l2'}. Best is trial 1 with value: 0.5238095238095238.\n",
            "[I 2024-04-15 15:15:33,731] Trial 80 finished with value: 0.5238095238095238 and parameters: {'tol': 0.00023988719425107268, 'C': 0.03898942182950393, 'max_iter': 1700, 'fit_intercept': True, 'penalty': 'l2'}. Best is trial 1 with value: 0.5238095238095238.\n",
            "[I 2024-04-15 15:15:33,775] Trial 81 finished with value: 0.5238095238095238 and parameters: {'tol': 0.0001630896772581812, 'C': 0.17979749190102612, 'max_iter': 400, 'fit_intercept': True, 'penalty': 'l2'}. Best is trial 1 with value: 0.5238095238095238.\n",
            "[I 2024-04-15 15:15:33,809] Trial 82 finished with value: 0.5238095238095238 and parameters: {'tol': 0.0009952728054302448, 'C': 0.28123354339624795, 'max_iter': 200, 'fit_intercept': True, 'penalty': 'l2'}. Best is trial 1 with value: 0.5238095238095238.\n",
            "[I 2024-04-15 15:15:33,855] Trial 83 finished with value: 0.5238095238095238 and parameters: {'tol': 0.00024273117712510285, 'C': 0.3794448011144404, 'max_iter': 800, 'fit_intercept': True, 'penalty': 'l2'}. Best is trial 1 with value: 0.5238095238095238.\n",
            "[I 2024-04-15 15:15:33,897] Trial 84 finished with value: 0.5238095238095238 and parameters: {'tol': 0.00010820564903528351, 'C': 0.20241443278227034, 'max_iter': 3800, 'fit_intercept': True, 'penalty': 'l2'}. Best is trial 1 with value: 0.5238095238095238.\n",
            "[I 2024-04-15 15:15:33,945] Trial 85 finished with value: 0.5238095238095238 and parameters: {'tol': 0.00019161538226592225, 'C': 0.15727442774096723, 'max_iter': 1000, 'fit_intercept': True, 'penalty': 'none'}. Best is trial 1 with value: 0.5238095238095238.\n",
            "[I 2024-04-15 15:15:33,997] Trial 86 finished with value: 0.5238095238095238 and parameters: {'tol': 0.0006039859464178174, 'C': 0.6641821754072407, 'max_iter': 600, 'fit_intercept': True, 'penalty': 'l2'}. Best is trial 1 with value: 0.5238095238095238.\n",
            "[I 2024-04-15 15:15:34,040] Trial 87 finished with value: 0.5238095238095238 and parameters: {'tol': 0.0008126098069906253, 'C': 0.1326755835192052, 'max_iter': 5000, 'fit_intercept': True, 'penalty': 'l2'}. Best is trial 1 with value: 0.5238095238095238.\n",
            "[I 2024-04-15 15:15:34,088] Trial 88 finished with value: 0.5238095238095238 and parameters: {'tol': 5.1394232232683485e-05, 'C': 0.11127100852616499, 'max_iter': 700, 'fit_intercept': True, 'penalty': 'none'}. Best is trial 1 with value: 0.5238095238095238.\n",
            "[I 2024-04-15 15:15:34,113] Trial 89 finished with value: 0.5238095238095238 and parameters: {'tol': 0.0001460183073748105, 'C': 0.026891333210610983, 'max_iter': 400, 'fit_intercept': False, 'penalty': 'l2'}. Best is trial 1 with value: 0.5238095238095238.\n",
            "[I 2024-04-15 15:15:34,160] Trial 90 finished with value: 0.5238095238095238 and parameters: {'tol': 0.0002962775321933742, 'C': 0.5078608076460968, 'max_iter': 2300, 'fit_intercept': True, 'penalty': 'none'}. Best is trial 1 with value: 0.5238095238095238.\n",
            "[I 2024-04-15 15:15:34,209] Trial 91 finished with value: 0.5238095238095238 and parameters: {'tol': 0.000761204824259099, 'C': 0.021290043120449516, 'max_iter': 1400, 'fit_intercept': True, 'penalty': 'none'}. Best is trial 1 with value: 0.5238095238095238.\n",
            "[I 2024-04-15 15:15:34,257] Trial 92 finished with value: 0.5238095238095238 and parameters: {'tol': 0.0006377774111478426, 'C': 0.015017356105078723, 'max_iter': 1100, 'fit_intercept': True, 'penalty': 'none'}. Best is trial 1 with value: 0.5238095238095238.\n",
            "[I 2024-04-15 15:15:34,304] Trial 93 finished with value: 0.5238095238095238 and parameters: {'tol': 0.0006857411965897444, 'C': 0.23467800422801904, 'max_iter': 900, 'fit_intercept': True, 'penalty': 'none'}. Best is trial 1 with value: 0.5238095238095238.\n",
            "[I 2024-04-15 15:15:34,350] Trial 94 finished with value: 0.5238095238095238 and parameters: {'tol': 0.0009707355684704651, 'C': 0.01276749188484689, 'max_iter': 2000, 'fit_intercept': True, 'penalty': 'none'}. Best is trial 1 with value: 0.5238095238095238.\n",
            "[I 2024-04-15 15:15:34,373] Trial 95 finished with value: 0.42857142857142855 and parameters: {'tol': 0.0003927589816485134, 'C': 0.018082418936557362, 'max_iter': 1200, 'fit_intercept': True, 'penalty': 'l2'}. Best is trial 1 with value: 0.5238095238095238.\n",
            "[I 2024-04-15 15:15:34,423] Trial 96 finished with value: 0.5238095238095238 and parameters: {'tol': 0.0009344018200484302, 'C': 0.05290175805084937, 'max_iter': 3300, 'fit_intercept': True, 'penalty': 'none'}. Best is trial 1 with value: 0.5238095238095238.\n",
            "[I 2024-04-15 15:15:34,466] Trial 97 finished with value: 0.5238095238095238 and parameters: {'tol': 0.000435482856666171, 'C': 0.09481788478142632, 'max_iter': 4400, 'fit_intercept': True, 'penalty': 'l2'}. Best is trial 1 with value: 0.5238095238095238.\n",
            "[I 2024-04-15 15:15:34,513] Trial 98 finished with value: 0.5238095238095238 and parameters: {'tol': 0.0008936252668361227, 'C': 0.0325034201976273, 'max_iter': 2900, 'fit_intercept': True, 'penalty': 'none'}. Best is trial 1 with value: 0.5238095238095238.\n",
            "[I 2024-04-15 15:15:34,549] Trial 99 finished with value: 0.5238095238095238 and parameters: {'tol': 0.0008422373745979385, 'C': 0.06463366425917227, 'max_iter': 200, 'fit_intercept': True, 'penalty': 'l2'}. Best is trial 1 with value: 0.5238095238095238.\n",
            "[I 2024-04-15 15:15:34,596] Trial 100 finished with value: 0.5238095238095238 and parameters: {'tol': 0.0007572789305300084, 'C': 0.14823831911604884, 'max_iter': 1500, 'fit_intercept': True, 'penalty': 'none'}. Best is trial 1 with value: 0.5238095238095238.\n",
            "[I 2024-04-15 15:15:34,636] Trial 101 finished with value: 0.5238095238095238 and parameters: {'tol': 0.0001885475189965856, 'C': 0.3068983725669421, 'max_iter': 3700, 'fit_intercept': True, 'penalty': 'l2'}. Best is trial 1 with value: 0.5238095238095238.\n",
            "[I 2024-04-15 15:15:34,687] Trial 102 finished with value: 0.5238095238095238 and parameters: {'tol': 0.0005727276471156555, 'C': 0.7241468563417204, 'max_iter': 3200, 'fit_intercept': True, 'penalty': 'l2'}. Best is trial 1 with value: 0.5238095238095238.\n",
            "[I 2024-04-15 15:15:34,737] Trial 103 finished with value: 0.5238095238095238 and parameters: {'tol': 1.6315544191751864e-05, 'C': 0.48532740194228685, 'max_iter': 4100, 'fit_intercept': True, 'penalty': 'l2'}. Best is trial 1 with value: 0.5238095238095238.\n",
            "[I 2024-04-15 15:15:34,786] Trial 104 finished with value: 0.5238095238095238 and parameters: {'tol': 0.00021784567510825496, 'C': 0.4505614774946963, 'max_iter': 3500, 'fit_intercept': True, 'penalty': 'l2'}. Best is trial 1 with value: 0.5238095238095238.\n",
            "[I 2024-04-15 15:15:34,835] Trial 105 finished with value: 0.5238095238095238 and parameters: {'tol': 7.611362969548631e-05, 'C': 0.6176329441673368, 'max_iter': 2400, 'fit_intercept': True, 'penalty': 'l2'}. Best is trial 1 with value: 0.5238095238095238.\n",
            "[I 2024-04-15 15:15:34,864] Trial 106 finished with value: 0.47619047619047616 and parameters: {'tol': 0.00010744625012471483, 'C': 0.04401810294677617, 'max_iter': 1700, 'fit_intercept': False, 'penalty': 'none'}. Best is trial 1 with value: 0.5238095238095238.\n",
            "[I 2024-04-15 15:15:34,905] Trial 107 finished with value: 0.5238095238095238 and parameters: {'tol': 3.522601237534851e-05, 'C': 0.12008366751280614, 'max_iter': 3000, 'fit_intercept': True, 'penalty': 'l2'}. Best is trial 1 with value: 0.5238095238095238.\n",
            "[I 2024-04-15 15:15:34,959] Trial 108 finished with value: 0.5238095238095238 and parameters: {'tol': 0.00017703411936010425, 'C': 0.16597075563595065, 'max_iter': 2000, 'fit_intercept': True, 'penalty': 'none'}. Best is trial 1 with value: 0.5238095238095238.\n",
            "[I 2024-04-15 15:15:34,981] Trial 109 finished with value: 0.42857142857142855 and parameters: {'tol': 0.0003348800945476296, 'C': 0.011305830716902705, 'max_iter': 2700, 'fit_intercept': True, 'penalty': 'l2'}. Best is trial 1 with value: 0.5238095238095238.\n",
            "[I 2024-04-15 15:15:35,033] Trial 110 finished with value: 0.5238095238095238 and parameters: {'tol': 0.0004784408516200739, 'C': 0.0886448219994579, 'max_iter': 500, 'fit_intercept': True, 'penalty': 'none'}. Best is trial 1 with value: 0.5238095238095238.\n",
            "[I 2024-04-15 15:15:35,076] Trial 111 finished with value: 0.5238095238095238 and parameters: {'tol': 0.00028474660819714407, 'C': 0.07370670803913114, 'max_iter': 4600, 'fit_intercept': True, 'penalty': 'l2'}. Best is trial 1 with value: 0.5238095238095238.\n",
            "[I 2024-04-15 15:15:35,128] Trial 112 finished with value: 0.5238095238095238 and parameters: {'tol': 0.00023133999133467966, 'C': 0.8161238303936242, 'max_iter': 4600, 'fit_intercept': True, 'penalty': 'l2'}. Best is trial 1 with value: 0.5238095238095238.\n",
            "[I 2024-04-15 15:15:35,169] Trial 113 finished with value: 0.5238095238095238 and parameters: {'tol': 0.0002516149411069457, 'C': 0.04952768940180865, 'max_iter': 4900, 'fit_intercept': True, 'penalty': 'l2'}. Best is trial 1 with value: 0.5238095238095238.\n",
            "[I 2024-04-15 15:15:35,208] Trial 114 finished with value: 0.5238095238095238 and parameters: {'tol': 0.00021178311138012152, 'C': 0.0572153846204043, 'max_iter': 700, 'fit_intercept': True, 'penalty': 'l2'}. Best is trial 1 with value: 0.5238095238095238.\n",
            "[I 2024-04-15 15:15:35,240] Trial 115 finished with value: 0.5238095238095238 and parameters: {'tol': 0.0001515861978325903, 'C': 0.08237460920764558, 'max_iter': 4800, 'fit_intercept': True, 'penalty': 'l2'}. Best is trial 1 with value: 0.5238095238095238.\n",
            "[I 2024-04-15 15:15:35,280] Trial 116 finished with value: 0.5238095238095238 and parameters: {'tol': 0.0002585020694137548, 'C': 0.07004006608038042, 'max_iter': 1300, 'fit_intercept': True, 'penalty': 'l2'}. Best is trial 1 with value: 0.5238095238095238.\n",
            "[I 2024-04-15 15:15:35,319] Trial 117 finished with value: 0.47619047619047616 and parameters: {'tol': 0.00012522016524634162, 'C': 0.029232202878951362, 'max_iter': 200, 'fit_intercept': True, 'penalty': 'none'}. Best is trial 1 with value: 0.5238095238095238.\n",
            "[I 2024-04-15 15:15:35,343] Trial 118 finished with value: 0.47619047619047616 and parameters: {'tol': 0.00031476122038797273, 'C': 0.023542432883934265, 'max_iter': 4300, 'fit_intercept': True, 'penalty': 'l2'}. Best is trial 1 with value: 0.5238095238095238.\n",
            "[I 2024-04-15 15:15:35,373] Trial 119 finished with value: 0.47619047619047616 and parameters: {'tol': 0.00019593679169513628, 'C': 0.04080293658902, 'max_iter': 4100, 'fit_intercept': False, 'penalty': 'none'}. Best is trial 1 with value: 0.5238095238095238.\n",
            "[I 2024-04-15 15:15:35,407] Trial 120 finished with value: 0.5238095238095238 and parameters: {'tol': 0.0008047564865044704, 'C': 0.04621068277315666, 'max_iter': 900, 'fit_intercept': True, 'penalty': 'l2'}. Best is trial 1 with value: 0.5238095238095238.\n",
            "[I 2024-04-15 15:15:35,457] Trial 121 finished with value: 0.5238095238095238 and parameters: {'tol': 0.0005191992032572996, 'C': 0.034169499847884865, 'max_iter': 1400, 'fit_intercept': True, 'penalty': 'none'}. Best is trial 1 with value: 0.5238095238095238.\n",
            "[I 2024-04-15 15:15:35,506] Trial 122 finished with value: 0.5238095238095238 and parameters: {'tol': 0.0004518950665964901, 'C': 0.02100882195749995, 'max_iter': 1600, 'fit_intercept': True, 'penalty': 'none'}. Best is trial 1 with value: 0.5238095238095238.\n",
            "[I 2024-04-15 15:15:35,553] Trial 123 finished with value: 0.5238095238095238 and parameters: {'tol': 0.0005208051213619205, 'C': 0.024902761270429445, 'max_iter': 1100, 'fit_intercept': True, 'penalty': 'none'}. Best is trial 1 with value: 0.5238095238095238.\n",
            "[I 2024-04-15 15:15:35,604] Trial 124 finished with value: 0.5238095238095238 and parameters: {'tol': 0.0005764831653275496, 'C': 0.020398356080011327, 'max_iter': 1800, 'fit_intercept': True, 'penalty': 'none'}. Best is trial 1 with value: 0.5238095238095238.\n",
            "[I 2024-04-15 15:15:35,650] Trial 125 finished with value: 0.5238095238095238 and parameters: {'tol': 0.0009724797241473245, 'C': 0.18837240494130245, 'max_iter': 1200, 'fit_intercept': True, 'penalty': 'none'}. Best is trial 1 with value: 0.5238095238095238.\n",
            "[I 2024-04-15 15:15:35,674] Trial 126 finished with value: 0.42857142857142855 and parameters: {'tol': 0.0004074854013458682, 'C': 0.01586144403444832, 'max_iter': 1500, 'fit_intercept': True, 'penalty': 'l2'}. Best is trial 1 with value: 0.5238095238095238.\n",
            "[I 2024-04-15 15:15:35,724] Trial 127 finished with value: 0.5238095238095238 and parameters: {'tol': 0.0006299485785129428, 'C': 0.028490511114499798, 'max_iter': 500, 'fit_intercept': True, 'penalty': 'none'}. Best is trial 1 with value: 0.5238095238095238.\n",
            "[I 2024-04-15 15:15:35,769] Trial 128 finished with value: 0.5238095238095238 and parameters: {'tol': 0.00047761578254825355, 'C': 0.10739146052454222, 'max_iter': 2200, 'fit_intercept': True, 'penalty': 'l2'}. Best is trial 1 with value: 0.5238095238095238.\n",
            "[I 2024-04-15 15:15:35,819] Trial 129 finished with value: 0.5238095238095238 and parameters: {'tol': 0.00036522297337923947, 'C': 0.01694085679679736, 'max_iter': 1300, 'fit_intercept': True, 'penalty': 'none'}. Best is trial 1 with value: 0.5238095238095238.\n",
            "[I 2024-04-15 15:15:35,844] Trial 130 finished with value: 0.42857142857142855 and parameters: {'tol': 0.0005582353308544146, 'C': 0.013524413622384024, 'max_iter': 400, 'fit_intercept': True, 'penalty': 'l2'}. Best is trial 1 with value: 0.5238095238095238.\n",
            "[I 2024-04-15 15:15:35,895] Trial 131 finished with value: 0.5238095238095238 and parameters: {'tol': 0.0006046539410887945, 'C': 0.13958796016797523, 'max_iter': 3300, 'fit_intercept': True, 'penalty': 'none'}. Best is trial 1 with value: 0.5238095238095238.\n",
            "[I 2024-04-15 15:15:35,944] Trial 132 finished with value: 0.5238095238095238 and parameters: {'tol': 0.0005271290795611171, 'C': 0.12705095935252558, 'max_iter': 3600, 'fit_intercept': True, 'penalty': 'none'}. Best is trial 1 with value: 0.5238095238095238.\n",
            "[I 2024-04-15 15:15:35,991] Trial 133 finished with value: 0.5238095238095238 and parameters: {'tol': 0.0007000800061285234, 'C': 0.24404045594714205, 'max_iter': 2800, 'fit_intercept': True, 'penalty': 'none'}. Best is trial 1 with value: 0.5238095238095238.\n",
            "[I 2024-04-15 15:15:36,041] Trial 134 finished with value: 0.5238095238095238 and parameters: {'tol': 0.0004917994219911416, 'C': 0.1639554993478601, 'max_iter': 4800, 'fit_intercept': True, 'penalty': 'none'}. Best is trial 1 with value: 0.5238095238095238.\n",
            "[I 2024-04-15 15:15:36,089] Trial 135 finished with value: 0.5238095238095238 and parameters: {'tol': 0.0007434742730208878, 'C': 0.4134545712189001, 'max_iter': 3100, 'fit_intercept': True, 'penalty': 'none'}. Best is trial 1 with value: 0.5238095238095238.\n",
            "[I 2024-04-15 15:15:36,139] Trial 136 finished with value: 0.5238095238095238 and parameters: {'tol': 0.00017557798046118398, 'C': 0.2658941982165292, 'max_iter': 3400, 'fit_intercept': True, 'penalty': 'none'}. Best is trial 1 with value: 0.5238095238095238.\n",
            "[I 2024-04-15 15:15:36,184] Trial 137 finished with value: 0.5238095238095238 and parameters: {'tol': 0.0006508358974583635, 'C': 0.21794538174697628, 'max_iter': 1000, 'fit_intercept': True, 'penalty': 'l2'}. Best is trial 1 with value: 0.5238095238095238.\n",
            "[I 2024-04-15 15:15:36,212] Trial 138 finished with value: 0.47619047619047616 and parameters: {'tol': 0.0002781752318214575, 'C': 0.10010113964698841, 'max_iter': 100, 'fit_intercept': False, 'penalty': 'none'}. Best is trial 1 with value: 0.5238095238095238.\n",
            "[I 2024-04-15 15:15:36,250] Trial 139 finished with value: 0.5238095238095238 and parameters: {'tol': 0.0008666839189109043, 'C': 0.07840596368656128, 'max_iter': 3900, 'fit_intercept': True, 'penalty': 'l2'}. Best is trial 1 with value: 0.5238095238095238.\n",
            "[I 2024-04-15 15:15:36,299] Trial 140 finished with value: 0.5238095238095238 and parameters: {'tol': 0.0006790961907234238, 'C': 0.06124279206531097, 'max_iter': 1800, 'fit_intercept': True, 'penalty': 'none'}. Best is trial 1 with value: 0.5238095238095238.\n",
            "[I 2024-04-15 15:15:36,348] Trial 141 finished with value: 0.5238095238095238 and parameters: {'tol': 0.00058047305234333, 'C': 0.1943680955833286, 'max_iter': 3300, 'fit_intercept': True, 'penalty': 'none'}. Best is trial 1 with value: 0.5238095238095238.\n",
            "[I 2024-04-15 15:15:36,398] Trial 142 finished with value: 0.5238095238095238 and parameters: {'tol': 0.0009942123247086915, 'C': 0.35403607091504113, 'max_iter': 3000, 'fit_intercept': True, 'penalty': 'none'}. Best is trial 1 with value: 0.5238095238095238.\n",
            "[I 2024-04-15 15:15:36,448] Trial 143 finished with value: 0.5238095238095238 and parameters: {'tol': 0.0006590789564254254, 'C': 0.5462092784624838, 'max_iter': 300, 'fit_intercept': True, 'penalty': 'none'}. Best is trial 1 with value: 0.5238095238095238.\n",
            "[I 2024-04-15 15:15:36,501] Trial 144 finished with value: 0.5238095238095238 and parameters: {'tol': 0.0009504443185693549, 'C': 0.21388549479541694, 'max_iter': 3500, 'fit_intercept': True, 'penalty': 'none'}. Best is trial 1 with value: 0.5238095238095238.\n",
            "[I 2024-04-15 15:15:36,547] Trial 145 finished with value: 0.5238095238095238 and parameters: {'tol': 0.0007782754800652207, 'C': 0.29853584812102685, 'max_iter': 600, 'fit_intercept': True, 'penalty': 'l2'}. Best is trial 1 with value: 0.5238095238095238.\n",
            "[I 2024-04-15 15:15:36,596] Trial 146 finished with value: 0.5238095238095238 and parameters: {'tol': 0.0006138135158536846, 'C': 0.1400844753006285, 'max_iter': 4500, 'fit_intercept': True, 'penalty': 'none'}. Best is trial 1 with value: 0.5238095238095238.\n",
            "[I 2024-04-15 15:15:36,632] Trial 147 finished with value: 0.5238095238095238 and parameters: {'tol': 0.0009194300818323288, 'C': 0.15222120451153462, 'max_iter': 4300, 'fit_intercept': True, 'penalty': 'l2'}. Best is trial 1 with value: 0.5238095238095238.\n",
            "[I 2024-04-15 15:15:36,682] Trial 148 finished with value: 0.5238095238095238 and parameters: {'tol': 0.000549380323459937, 'C': 0.18079671483613735, 'max_iter': 3800, 'fit_intercept': True, 'penalty': 'none'}. Best is trial 1 with value: 0.5238095238095238.\n",
            "[I 2024-04-15 15:15:36,725] Trial 149 finished with value: 0.5238095238095238 and parameters: {'tol': 0.0005080279281673643, 'C': 0.0652810088273388, 'max_iter': 3200, 'fit_intercept': True, 'penalty': 'l2'}. Best is trial 1 with value: 0.5238095238095238.\n",
            "[I 2024-04-15 15:15:36,775] Trial 150 finished with value: 0.5238095238095238 and parameters: {'tol': 0.00022568485741052672, 'C': 0.054788643806410735, 'max_iter': 800, 'fit_intercept': True, 'penalty': 'none'}. Best is trial 1 with value: 0.5238095238095238.\n",
            "[I 2024-04-15 15:15:36,824] Trial 151 finished with value: 0.5238095238095238 and parameters: {'tol': 0.00013400140968193775, 'C': 0.16905371757230206, 'max_iter': 4200, 'fit_intercept': True, 'penalty': 'none'}. Best is trial 1 with value: 0.5238095238095238.\n",
            "[I 2024-04-15 15:15:36,878] Trial 152 finished with value: 0.5238095238095238 and parameters: {'tol': 8.286663528607569e-05, 'C': 0.4324161582554847, 'max_iter': 3700, 'fit_intercept': True, 'penalty': 'none'}. Best is trial 1 with value: 0.5238095238095238.\n",
            "[I 2024-04-15 15:15:36,926] Trial 153 finished with value: 0.5238095238095238 and parameters: {'tol': 0.00011636320267479403, 'C': 0.3337504766811057, 'max_iter': 4000, 'fit_intercept': True, 'penalty': 'none'}. Best is trial 1 with value: 0.5238095238095238.\n",
            "[I 2024-04-15 15:15:36,975] Trial 154 finished with value: 0.5238095238095238 and parameters: {'tol': 0.0001580972991850447, 'C': 0.28544710106662313, 'max_iter': 3400, 'fit_intercept': True, 'penalty': 'none'}. Best is trial 1 with value: 0.5238095238095238.\n",
            "[I 2024-04-15 15:15:37,024] Trial 155 finished with value: 0.5238095238095238 and parameters: {'tol': 6.342039525862085e-05, 'C': 0.3707505590567173, 'max_iter': 5000, 'fit_intercept': True, 'penalty': 'l2'}. Best is trial 1 with value: 0.5238095238095238.\n",
            "[I 2024-04-15 15:15:37,073] Trial 156 finished with value: 0.5238095238095238 and parameters: {'tol': 0.0001990452926536412, 'C': 0.11844375253463035, 'max_iter': 2600, 'fit_intercept': True, 'penalty': 'none'}. Best is trial 1 with value: 0.5238095238095238.\n",
            "[I 2024-04-15 15:15:37,109] Trial 157 finished with value: 0.5238095238095238 and parameters: {'tol': 0.00017843212164016318, 'C': 0.03690988992474591, 'max_iter': 4800, 'fit_intercept': True, 'penalty': 'l2'}. Best is trial 1 with value: 0.5238095238095238.\n",
            "[I 2024-04-15 15:15:37,139] Trial 158 finished with value: 0.47619047619047616 and parameters: {'tol': 9.83374917179283e-05, 'C': 0.2582000905359106, 'max_iter': 1600, 'fit_intercept': False, 'penalty': 'none'}. Best is trial 1 with value: 0.5238095238095238.\n",
            "[I 2024-04-15 15:15:37,188] Trial 159 finished with value: 0.5238095238095238 and parameters: {'tol': 0.0005853211439920785, 'C': 0.23211714354132681, 'max_iter': 4500, 'fit_intercept': True, 'penalty': 'l2'}. Best is trial 1 with value: 0.5238095238095238.\n",
            "[I 2024-04-15 15:15:37,239] Trial 160 finished with value: 0.5238095238095238 and parameters: {'tol': 0.0005370863375305078, 'C': 0.024377031692255823, 'max_iter': 3000, 'fit_intercept': True, 'penalty': 'none'}. Best is trial 1 with value: 0.5238095238095238.\n",
            "[I 2024-04-15 15:15:37,286] Trial 161 finished with value: 0.5238095238095238 and parameters: {'tol': 0.00030942077834132523, 'C': 0.19633860732498407, 'max_iter': 2700, 'fit_intercept': True, 'penalty': 'none'}. Best is trial 1 with value: 0.5238095238095238.\n",
            "[I 2024-04-15 15:15:37,341] Trial 162 finished with value: 0.5238095238095238 and parameters: {'tol': 0.0002555988755601194, 'C': 0.17162902668069177, 'max_iter': 2800, 'fit_intercept': True, 'penalty': 'none'}. Best is trial 1 with value: 0.5238095238095238.\n",
            "[I 2024-04-15 15:15:37,391] Trial 163 finished with value: 0.5238095238095238 and parameters: {'tol': 0.00034481801475358967, 'C': 0.032407183961922006, 'max_iter': 3200, 'fit_intercept': True, 'penalty': 'none'}. Best is trial 1 with value: 0.5238095238095238.\n",
            "[I 2024-04-15 15:15:37,441] Trial 164 finished with value: 0.5238095238095238 and parameters: {'tol': 0.0002360835534591357, 'C': 0.04834491720959302, 'max_iter': 1400, 'fit_intercept': True, 'penalty': 'none'}. Best is trial 1 with value: 0.5238095238095238.\n",
            "[I 2024-04-15 15:15:37,479] Trial 165 finished with value: 0.5238095238095238 and parameters: {'tol': 0.00020540372545875123, 'C': 0.15357555094796316, 'max_iter': 2900, 'fit_intercept': True, 'penalty': 'l2'}. Best is trial 1 with value: 0.5238095238095238.\n",
            "[I 2024-04-15 15:15:37,529] Trial 166 finished with value: 0.5238095238095238 and parameters: {'tol': 0.00032992119395432645, 'C': 0.027350663158156964, 'max_iter': 3100, 'fit_intercept': True, 'penalty': 'none'}. Best is trial 1 with value: 0.5238095238095238.\n",
            "[I 2024-04-15 15:15:37,575] Trial 167 finished with value: 0.5238095238095238 and parameters: {'tol': 0.0007328573935873891, 'C': 0.6578827599154072, 'max_iter': 3400, 'fit_intercept': True, 'penalty': 'l2'}. Best is trial 1 with value: 0.5238095238095238.\n",
            "[I 2024-04-15 15:15:37,626] Trial 168 finished with value: 0.5238095238095238 and parameters: {'tol': 0.0007024027310469365, 'C': 0.8495932217955585, 'max_iter': 2400, 'fit_intercept': True, 'penalty': 'none'}. Best is trial 1 with value: 0.5238095238095238.\n",
            "[I 2024-04-15 15:15:37,675] Trial 169 finished with value: 0.5238095238095238 and parameters: {'tol': 0.0002685255939177415, 'C': 0.13250824678261758, 'max_iter': 1300, 'fit_intercept': True, 'penalty': 'none'}. Best is trial 1 with value: 0.5238095238095238.\n",
            "[I 2024-04-15 15:15:37,719] Trial 170 finished with value: 0.5238095238095238 and parameters: {'tol': 0.00014212010731684787, 'C': 0.5668367377810721, 'max_iter': 2900, 'fit_intercept': True, 'penalty': 'l2'}. Best is trial 1 with value: 0.5238095238095238.\n",
            "[I 2024-04-15 15:15:37,768] Trial 171 finished with value: 0.5238095238095238 and parameters: {'tol': 0.00048821865167165507, 'C': 0.0877474611647301, 'max_iter': 2500, 'fit_intercept': True, 'penalty': 'none'}. Best is trial 1 with value: 0.5238095238095238.\n",
            "[I 2024-04-15 15:15:37,818] Trial 172 finished with value: 0.5238095238095238 and parameters: {'tol': 0.0004185425402871123, 'C': 0.09613196851823182, 'max_iter': 2800, 'fit_intercept': True, 'penalty': 'none'}. Best is trial 1 with value: 0.5238095238095238.\n",
            "[I 2024-04-15 15:15:37,866] Trial 173 finished with value: 0.5238095238095238 and parameters: {'tol': 0.0002976542110562562, 'C': 0.07459776194722947, 'max_iter': 3000, 'fit_intercept': True, 'penalty': 'none'}. Best is trial 1 with value: 0.5238095238095238.\n",
            "[I 2024-04-15 15:15:37,916] Trial 174 finished with value: 0.5238095238095238 and parameters: {'tol': 0.0004503831074072353, 'C': 0.08152602603343281, 'max_iter': 3600, 'fit_intercept': True, 'penalty': 'none'}. Best is trial 1 with value: 0.5238095238095238.\n",
            "[I 2024-04-15 15:15:37,965] Trial 175 finished with value: 0.5238095238095238 and parameters: {'tol': 0.00046673131826282903, 'C': 0.014740133576712411, 'max_iter': 4700, 'fit_intercept': True, 'penalty': 'none'}. Best is trial 1 with value: 0.5238095238095238.\n",
            "[I 2024-04-15 15:15:37,991] Trial 176 finished with value: 0.42857142857142855 and parameters: {'tol': 0.00038422345330771835, 'C': 0.018934770720394595, 'max_iter': 300, 'fit_intercept': True, 'penalty': 'l2'}. Best is trial 1 with value: 0.5238095238095238.\n",
            "[I 2024-04-15 15:15:38,042] Trial 177 finished with value: 0.5238095238095238 and parameters: {'tol': 0.0009743561967577802, 'C': 0.06773185205996518, 'max_iter': 1100, 'fit_intercept': True, 'penalty': 'none'}. Best is trial 1 with value: 0.5238095238095238.\n",
            "[I 2024-04-15 15:15:38,084] Trial 178 finished with value: 0.5238095238095238 and parameters: {'tol': 0.0005509382849196152, 'C': 0.11283154035765713, 'max_iter': 1500, 'fit_intercept': True, 'penalty': 'l2'}. Best is trial 1 with value: 0.5238095238095238.\n",
            "[I 2024-04-15 15:15:38,135] Trial 179 finished with value: 0.5238095238095238 and parameters: {'tol': 0.0006378022508344976, 'C': 0.47486507316986326, 'max_iter': 3200, 'fit_intercept': True, 'penalty': 'none'}. Best is trial 1 with value: 0.5238095238095238.\n",
            "[I 2024-04-15 15:15:38,166] Trial 180 finished with value: 0.47619047619047616 and parameters: {'tol': 0.0007854016649969344, 'C': 0.9965424403018687, 'max_iter': 500, 'fit_intercept': False, 'penalty': 'none'}. Best is trial 1 with value: 0.5238095238095238.\n",
            "[I 2024-04-15 15:15:38,206] Trial 181 finished with value: 0.5238095238095238 and parameters: {'tol': 0.0009888162297990758, 'C': 0.06010489323748057, 'max_iter': 3900, 'fit_intercept': True, 'penalty': 'l2'}. Best is trial 1 with value: 0.5238095238095238.\n",
            "[I 2024-04-15 15:15:38,248] Trial 182 finished with value: 0.5238095238095238 and parameters: {'tol': 0.0009698830772049086, 'C': 0.0423618706941152, 'max_iter': 3700, 'fit_intercept': True, 'penalty': 'l2'}. Best is trial 1 with value: 0.5238095238095238.\n",
            "[I 2024-04-15 15:15:38,282] Trial 183 finished with value: 0.5238095238095238 and parameters: {'tol': 0.0009339224050685863, 'C': 0.03452847939328782, 'max_iter': 3900, 'fit_intercept': True, 'penalty': 'l2'}. Best is trial 1 with value: 0.5238095238095238.\n",
            "[I 2024-04-15 15:15:38,332] Trial 184 finished with value: 0.5238095238095238 and parameters: {'tol': 0.0005058798654378307, 'C': 0.40545157769226625, 'max_iter': 4900, 'fit_intercept': True, 'penalty': 'l2'}. Best is trial 1 with value: 0.5238095238095238.\n",
            "[I 2024-04-15 15:15:38,358] Trial 185 finished with value: 0.47619047619047616 and parameters: {'tol': 0.0009507704123665622, 'C': 0.022539823006866473, 'max_iter': 4200, 'fit_intercept': True, 'penalty': 'l2'}. Best is trial 1 with value: 0.5238095238095238.\n",
            "[I 2024-04-15 15:15:38,401] Trial 186 finished with value: 0.5238095238095238 and parameters: {'tol': 0.00022366433744083135, 'C': 0.03068690794359387, 'max_iter': 1700, 'fit_intercept': True, 'penalty': 'l2'}. Best is trial 1 with value: 0.5238095238095238.\n",
            "[I 2024-04-15 15:15:38,441] Trial 187 finished with value: 0.47619047619047616 and parameters: {'tol': 0.000993663621788732, 'C': 0.14233864592743858, 'max_iter': 200, 'fit_intercept': True, 'penalty': 'none'}. Best is trial 1 with value: 0.5238095238095238.\n",
            "[I 2024-04-15 15:15:38,479] Trial 188 finished with value: 0.5238095238095238 and parameters: {'tol': 0.00089845632753593, 'C': 0.054632078598156386, 'max_iter': 3600, 'fit_intercept': True, 'penalty': 'l2'}. Best is trial 1 with value: 0.5238095238095238.\n",
            "[I 2024-04-15 15:15:38,529] Trial 189 finished with value: 0.5238095238095238 and parameters: {'tol': 0.00018686445726479373, 'C': 0.0379363861072774, 'max_iter': 3100, 'fit_intercept': True, 'penalty': 'none'}. Best is trial 1 with value: 0.5238095238095238.\n",
            "[I 2024-04-15 15:15:38,582] Trial 190 finished with value: 0.5238095238095238 and parameters: {'tol': 3.7529968669009736e-05, 'C': 0.1771923891103988, 'max_iter': 1900, 'fit_intercept': True, 'penalty': 'none'}. Best is trial 1 with value: 0.5238095238095238.\n",
            "[I 2024-04-15 15:15:38,632] Trial 191 finished with value: 0.5238095238095238 and parameters: {'tol': 0.0009127294519778049, 'C': 0.05153562330318303, 'max_iter': 2100, 'fit_intercept': True, 'penalty': 'none'}. Best is trial 1 with value: 0.5238095238095238.\n",
            "[I 2024-04-15 15:15:38,682] Trial 192 finished with value: 0.5238095238095238 and parameters: {'tol': 0.0008373533103135758, 'C': 0.05712263164141882, 'max_iter': 1900, 'fit_intercept': True, 'penalty': 'none'}. Best is trial 1 with value: 0.5238095238095238.\n",
            "[I 2024-04-15 15:15:38,733] Trial 193 finished with value: 0.5238095238095238 and parameters: {'tol': 0.000795496080400666, 'C': 0.06982935966901904, 'max_iter': 2600, 'fit_intercept': True, 'penalty': 'none'}. Best is trial 1 with value: 0.5238095238095238.\n",
            "[I 2024-04-15 15:15:38,785] Trial 194 finished with value: 0.5238095238095238 and parameters: {'tol': 0.00016523665377685107, 'C': 0.047363929145418614, 'max_iter': 1400, 'fit_intercept': True, 'penalty': 'none'}. Best is trial 1 with value: 0.5238095238095238.\n",
            "[I 2024-04-15 15:15:38,820] Trial 195 finished with value: 0.5238095238095238 and parameters: {'tol': 0.0007468001143227539, 'C': 0.06382771049461028, 'max_iter': 1700, 'fit_intercept': True, 'penalty': 'l2'}. Best is trial 1 with value: 0.5238095238095238.\n",
            "[I 2024-04-15 15:15:38,871] Trial 196 finished with value: 0.5238095238095238 and parameters: {'tol': 0.0008209637403550931, 'C': 0.010873589202049911, 'max_iter': 2200, 'fit_intercept': True, 'penalty': 'none'}. Best is trial 1 with value: 0.5238095238095238.\n",
            "[I 2024-04-15 15:15:38,921] Trial 197 finished with value: 0.5238095238095238 and parameters: {'tol': 0.00024136061528895345, 'C': 0.15640572054909785, 'max_iter': 3300, 'fit_intercept': True, 'penalty': 'none'}. Best is trial 1 with value: 0.5238095238095238.\n",
            "[I 2024-04-15 15:15:38,958] Trial 198 finished with value: 0.5238095238095238 and parameters: {'tol': 0.00021505178053021962, 'C': 0.07438265918897737, 'max_iter': 4100, 'fit_intercept': True, 'penalty': 'l2'}. Best is trial 1 with value: 0.5238095238095238.\n",
            "[I 2024-04-15 15:15:39,008] Trial 199 finished with value: 0.5238095238095238 and parameters: {'tol': 0.0006865891214851197, 'C': 0.2117197150859304, 'max_iter': 1500, 'fit_intercept': True, 'penalty': 'none'}. Best is trial 1 with value: 0.5238095238095238.\n",
            "[I 2024-04-15 15:15:39,057] Trial 200 finished with value: 0.5238095238095238 and parameters: {'tol': 0.0009563965476828605, 'C': 0.3324326728469206, 'max_iter': 1600, 'fit_intercept': True, 'penalty': 'l2'}. Best is trial 1 with value: 0.5238095238095238.\n",
            "[I 2024-04-15 15:15:39,094] Trial 201 finished with value: 0.5238095238095238 and parameters: {'tol': 0.0005653942528492865, 'C': 0.1624852163039513, 'max_iter': 900, 'fit_intercept': True, 'penalty': 'l2'}. Best is trial 1 with value: 0.5238095238095238.\n",
            "[I 2024-04-15 15:15:39,139] Trial 202 finished with value: 0.5238095238095238 and parameters: {'tol': 0.00028958519454299703, 'C': 0.13020556940833292, 'max_iter': 400, 'fit_intercept': True, 'penalty': 'l2'}. Best is trial 1 with value: 0.5238095238095238.\n",
            "[I 2024-04-15 15:15:39,181] Trial 203 finished with value: 0.5238095238095238 and parameters: {'tol': 0.00031866375168863935, 'C': 0.09287026321367427, 'max_iter': 600, 'fit_intercept': True, 'penalty': 'l2'}. Best is trial 1 with value: 0.5238095238095238.\n",
            "[I 2024-04-15 15:15:39,223] Trial 204 finished with value: 0.5238095238095238 and parameters: {'tol': 0.0008675083362881651, 'C': 0.0831499824757483, 'max_iter': 700, 'fit_intercept': True, 'penalty': 'l2'}. Best is trial 1 with value: 0.5238095238095238.\n",
            "[I 2024-04-15 15:15:39,275] Trial 205 finished with value: 0.5238095238095238 and parameters: {'tol': 0.0009822379815364263, 'C': 0.10433900451525994, 'max_iter': 800, 'fit_intercept': True, 'penalty': 'none'}. Best is trial 1 with value: 0.5238095238095238.\n",
            "[I 2024-04-15 15:15:39,318] Trial 206 finished with value: 0.5238095238095238 and parameters: {'tol': 0.00036080927105400435, 'C': 0.18909395413658764, 'max_iter': 1000, 'fit_intercept': True, 'penalty': 'l2'}. Best is trial 1 with value: 0.5238095238095238.\n",
            "[I 2024-04-15 15:15:39,372] Trial 207 finished with value: 0.5238095238095238 and parameters: {'tol': 0.00025029470339676247, 'C': 0.04342687483054001, 'max_iter': 1200, 'fit_intercept': True, 'penalty': 'none'}. Best is trial 1 with value: 0.5238095238095238.\n",
            "[I 2024-04-15 15:15:39,401] Trial 208 finished with value: 0.42857142857142855 and parameters: {'tol': 0.0005983731999407184, 'C': 0.1406531284871646, 'max_iter': 4700, 'fit_intercept': False, 'penalty': 'l2'}. Best is trial 1 with value: 0.5238095238095238.\n",
            "[I 2024-04-15 15:15:39,452] Trial 209 finished with value: 0.5238095238095238 and parameters: {'tol': 0.0005325785086317758, 'C': 0.1260478921398285, 'max_iter': 2300, 'fit_intercept': True, 'penalty': 'none'}. Best is trial 1 with value: 0.5238095238095238.\n",
            "[I 2024-04-15 15:15:39,503] Trial 210 finished with value: 0.5238095238095238 and parameters: {'tol': 3.2771407302159897e-06, 'C': 0.06757974262511787, 'max_iter': 600, 'fit_intercept': True, 'penalty': 'none'}. Best is trial 1 with value: 0.5238095238095238.\n",
            "[I 2024-04-15 15:15:39,554] Trial 211 finished with value: 0.5238095238095238 and parameters: {'tol': 0.00047687758493799334, 'C': 0.027044159410260386, 'max_iter': 1400, 'fit_intercept': True, 'penalty': 'none'}. Best is trial 1 with value: 0.5238095238095238.\n",
            "[I 2024-04-15 15:15:39,605] Trial 212 finished with value: 0.5238095238095238 and parameters: {'tol': 0.0005043812205272661, 'C': 0.03233135507460606, 'max_iter': 2000, 'fit_intercept': True, 'penalty': 'none'}. Best is trial 1 with value: 0.5238095238095238.\n",
            "[I 2024-04-15 15:15:39,656] Trial 213 finished with value: 0.5238095238095238 and parameters: {'tol': 0.00027652603542743115, 'C': 0.029595072608037346, 'max_iter': 400, 'fit_intercept': True, 'penalty': 'none'}. Best is trial 1 with value: 0.5238095238095238.\n",
            "[I 2024-04-15 15:15:39,707] Trial 214 finished with value: 0.5238095238095238 and parameters: {'tol': 0.0009993315475806445, 'C': 0.06028387556041904, 'max_iter': 1700, 'fit_intercept': True, 'penalty': 'none'}. Best is trial 1 with value: 0.5238095238095238.\n",
            "[I 2024-04-15 15:15:39,758] Trial 215 finished with value: 0.5238095238095238 and parameters: {'tol': 0.00042894900338194173, 'C': 0.5182737735018481, 'max_iter': 1500, 'fit_intercept': True, 'penalty': 'l2'}. Best is trial 1 with value: 0.5238095238095238.\n",
            "[I 2024-04-15 15:15:39,808] Trial 216 finished with value: 0.5238095238095238 and parameters: {'tol': 0.0007195697430009633, 'C': 0.012608429587092043, 'max_iter': 3500, 'fit_intercept': True, 'penalty': 'none'}. Best is trial 1 with value: 0.5238095238095238.\n",
            "[I 2024-04-15 15:15:39,844] Trial 217 finished with value: 0.5238095238095238 and parameters: {'tol': 0.00026582358292095596, 'C': 0.024590234671076013, 'max_iter': 1300, 'fit_intercept': True, 'penalty': 'l2'}. Best is trial 1 with value: 0.5238095238095238.\n",
            "[I 2024-04-15 15:15:39,897] Trial 218 finished with value: 0.5238095238095238 and parameters: {'tol': 0.0002916009974499827, 'C': 0.041143296671628964, 'max_iter': 4400, 'fit_intercept': True, 'penalty': 'none'}. Best is trial 1 with value: 0.5238095238095238.\n",
            "[I 2024-04-15 15:15:39,947] Trial 219 finished with value: 0.5238095238095238 and parameters: {'tol': 0.000520124939370712, 'C': 0.14915115560396994, 'max_iter': 1600, 'fit_intercept': True, 'penalty': 'none'}. Best is trial 1 with value: 0.5238095238095238.\n",
            "[I 2024-04-15 15:15:39,974] Trial 220 finished with value: 0.47619047619047616 and parameters: {'tol': 0.00021066661429720466, 'C': 0.019037798074787206, 'max_iter': 3800, 'fit_intercept': True, 'penalty': 'l2'}. Best is trial 1 with value: 0.5238095238095238.\n",
            "[I 2024-04-15 15:15:40,027] Trial 221 finished with value: 0.5238095238095238 and parameters: {'tol': 0.00032206297038359435, 'C': 0.036865386430658044, 'max_iter': 2500, 'fit_intercept': True, 'penalty': 'none'}. Best is trial 1 with value: 0.5238095238095238.\n",
            "[I 2024-04-15 15:15:40,078] Trial 222 finished with value: 0.5238095238095238 and parameters: {'tol': 0.0003452453265447876, 'C': 0.026209777824529587, 'max_iter': 2900, 'fit_intercept': True, 'penalty': 'none'}. Best is trial 1 with value: 0.5238095238095238.\n",
            "[I 2024-04-15 15:15:40,129] Trial 223 finished with value: 0.5238095238095238 and parameters: {'tol': 0.0003032516147656917, 'C': 0.030435552107224102, 'max_iter': 2800, 'fit_intercept': True, 'penalty': 'none'}. Best is trial 1 with value: 0.5238095238095238.\n",
            "[I 2024-04-15 15:15:40,182] Trial 224 finished with value: 0.5238095238095238 and parameters: {'tol': 0.0003843816322559116, 'C': 0.034454970095987844, 'max_iter': 300, 'fit_intercept': True, 'penalty': 'none'}. Best is trial 1 with value: 0.5238095238095238.\n",
            "[I 2024-04-15 15:15:40,233] Trial 225 finished with value: 0.5238095238095238 and parameters: {'tol': 0.000494778584475666, 'C': 0.07662431242020362, 'max_iter': 2700, 'fit_intercept': True, 'penalty': 'none'}. Best is trial 1 with value: 0.5238095238095238.\n",
            "[I 2024-04-15 15:15:40,285] Trial 226 finished with value: 0.5238095238095238 and parameters: {'tol': 0.00034160524019137404, 'C': 0.1686323390407254, 'max_iter': 2600, 'fit_intercept': True, 'penalty': 'none'}. Best is trial 1 with value: 0.5238095238095238.\n",
            "[I 2024-04-15 15:15:40,312] Trial 227 finished with value: 0.47619047619047616 and parameters: {'tol': 0.00018531956899700317, 'C': 0.02173636391094293, 'max_iter': 2400, 'fit_intercept': True, 'penalty': 'l2'}. Best is trial 1 with value: 0.5238095238095238.\n",
            "[I 2024-04-15 15:15:40,366] Trial 228 finished with value: 0.5238095238095238 and parameters: {'tol': 0.00045289189456833057, 'C': 0.11537314883617683, 'max_iter': 1100, 'fit_intercept': True, 'penalty': 'none'}. Best is trial 1 with value: 0.5238095238095238.\n",
            "[I 2024-04-15 15:15:40,412] Trial 229 finished with value: 0.5238095238095238 and parameters: {'tol': 0.0006647541000370682, 'C': 0.05345082417826012, 'max_iter': 4000, 'fit_intercept': True, 'penalty': 'l2'}. Best is trial 1 with value: 0.5238095238095238.\n",
            "[I 2024-04-15 15:15:40,463] Trial 230 finished with value: 0.5238095238095238 and parameters: {'tol': 0.000146213694381454, 'C': 0.047131025462794615, 'max_iter': 1800, 'fit_intercept': True, 'penalty': 'none'}. Best is trial 1 with value: 0.5238095238095238.\n",
            "[I 2024-04-15 15:15:40,514] Trial 231 finished with value: 0.5238095238095238 and parameters: {'tol': 0.0005080443351650041, 'C': 0.027639939676981026, 'max_iter': 2100, 'fit_intercept': True, 'penalty': 'none'}. Best is trial 1 with value: 0.5238095238095238.\n",
            "[I 2024-04-15 15:15:40,566] Trial 232 finished with value: 0.5238095238095238 and parameters: {'tol': 0.0004622312152832182, 'C': 0.7148311643592222, 'max_iter': 500, 'fit_intercept': True, 'penalty': 'none'}. Best is trial 1 with value: 0.5238095238095238.\n",
            "[I 2024-04-15 15:15:40,617] Trial 233 finished with value: 0.5238095238095238 and parameters: {'tol': 0.0003679447094675092, 'C': 0.10271423415758435, 'max_iter': 2700, 'fit_intercept': True, 'penalty': 'none'}. Best is trial 1 with value: 0.5238095238095238.\n",
            "[I 2024-04-15 15:15:40,669] Trial 234 finished with value: 0.5238095238095238 and parameters: {'tol': 0.00047853235897294804, 'C': 0.091592114247115, 'max_iter': 700, 'fit_intercept': True, 'penalty': 'none'}. Best is trial 1 with value: 0.5238095238095238.\n",
            "[I 2024-04-15 15:15:40,723] Trial 235 finished with value: 0.5238095238095238 and parameters: {'tol': 0.0004015992910818577, 'C': 0.08468030336242151, 'max_iter': 4900, 'fit_intercept': True, 'penalty': 'none'}. Best is trial 1 with value: 0.5238095238095238.\n",
            "[I 2024-04-15 15:15:40,751] Trial 236 finished with value: 0.42857142857142855 and parameters: {'tol': 0.000852333747577352, 'C': 0.017142904793004916, 'max_iter': 2300, 'fit_intercept': False, 'penalty': 'l2'}. Best is trial 1 with value: 0.5238095238095238.\n",
            "[I 2024-04-15 15:15:40,802] Trial 237 finished with value: 0.5238095238095238 and parameters: {'tol': 0.0009388240994530426, 'C': 0.1853529105288428, 'max_iter': 2200, 'fit_intercept': True, 'penalty': 'none'}. Best is trial 1 with value: 0.5238095238095238.\n",
            "[I 2024-04-15 15:15:40,846] Trial 238 finished with value: 0.5238095238095238 and parameters: {'tol': 0.00023511505445405323, 'C': 0.06252806715482317, 'max_iter': 3100, 'fit_intercept': True, 'penalty': 'l2'}. Best is trial 1 with value: 0.5238095238095238.\n",
            "[I 2024-04-15 15:15:40,902] Trial 239 finished with value: 0.5238095238095238 and parameters: {'tol': 0.0004364746163153712, 'C': 0.15239482954307967, 'max_iter': 1200, 'fit_intercept': True, 'penalty': 'none'}. Best is trial 1 with value: 0.5238095238095238.\n",
            "[I 2024-04-15 15:15:40,952] Trial 240 finished with value: 0.5238095238095238 and parameters: {'tol': 0.0005421728135406247, 'C': 0.6113615937729314, 'max_iter': 1900, 'fit_intercept': True, 'penalty': 'none'}. Best is trial 1 with value: 0.5238095238095238.\n",
            "[I 2024-04-15 15:15:41,004] Trial 241 finished with value: 0.5238095238095238 and parameters: {'tol': 7.367989633091736e-05, 'C': 0.07161860361587374, 'max_iter': 2800, 'fit_intercept': True, 'penalty': 'none'}. Best is trial 1 with value: 0.5238095238095238.\n",
            "[I 2024-04-15 15:15:41,058] Trial 242 finished with value: 0.5238095238095238 and parameters: {'tol': 0.00012866357606451353, 'C': 0.020067269803967704, 'max_iter': 2500, 'fit_intercept': True, 'penalty': 'none'}. Best is trial 1 with value: 0.5238095238095238.\n",
            "[I 2024-04-15 15:15:41,108] Trial 243 finished with value: 0.5238095238095238 and parameters: {'tol': 9.604604039727737e-05, 'C': 0.2326163356060093, 'max_iter': 3000, 'fit_intercept': True, 'penalty': 'none'}. Best is trial 1 with value: 0.5238095238095238.\n",
            "[I 2024-04-15 15:15:41,161] Trial 244 finished with value: 0.5238095238095238 and parameters: {'tol': 9.780371318217132e-05, 'C': 0.014442519195130331, 'max_iter': 2900, 'fit_intercept': True, 'penalty': 'none'}. Best is trial 1 with value: 0.5238095238095238.\n",
            "[I 2024-04-15 15:15:41,197] Trial 245 finished with value: 0.5238095238095238 and parameters: {'tol': 0.0009655543813584413, 'C': 0.031126266910345642, 'max_iter': 3300, 'fit_intercept': True, 'penalty': 'l2'}. Best is trial 1 with value: 0.5238095238095238.\n",
            "[I 2024-04-15 15:15:41,251] Trial 246 finished with value: 0.5238095238095238 and parameters: {'tol': 0.0003187660860879844, 'C': 0.12513234584703278, 'max_iter': 3200, 'fit_intercept': True, 'penalty': 'none'}. Best is trial 1 with value: 0.5238095238095238.\n",
            "[I 2024-04-15 15:15:41,294] Trial 247 finished with value: 0.5238095238095238 and parameters: {'tol': 0.0001569467005190695, 'C': 0.13910002098956012, 'max_iter': 1500, 'fit_intercept': True, 'penalty': 'l2'}. Best is trial 1 with value: 0.5238095238095238.\n",
            "[I 2024-04-15 15:15:41,347] Trial 248 finished with value: 0.5238095238095238 and parameters: {'tol': 5.34563352703524e-05, 'C': 0.0244869816024571, 'max_iter': 3000, 'fit_intercept': True, 'penalty': 'none'}. Best is trial 1 with value: 0.5238095238095238.\n",
            "[I 2024-04-15 15:15:41,399] Trial 249 finished with value: 0.5238095238095238 and parameters: {'tol': 0.0006210417965911335, 'C': 0.016383109642231487, 'max_iter': 4600, 'fit_intercept': True, 'penalty': 'none'}. Best is trial 1 with value: 0.5238095238095238.\n",
            "[I 2024-04-15 15:15:41,442] Trial 250 finished with value: 0.5238095238095238 and parameters: {'tol': 0.00019935223275498285, 'C': 0.07615800058520021, 'max_iter': 1300, 'fit_intercept': True, 'penalty': 'l2'}. Best is trial 1 with value: 0.5238095238095238.\n",
            "[I 2024-04-15 15:15:41,495] Trial 251 finished with value: 0.5238095238095238 and parameters: {'tol': 0.0004896990724210077, 'C': 0.28445033901726846, 'max_iter': 900, 'fit_intercept': True, 'penalty': 'none'}. Best is trial 1 with value: 0.5238095238095238.\n",
            "[I 2024-04-15 15:15:41,538] Trial 252 finished with value: 0.5238095238095238 and parameters: {'tol': 0.0009995532561049968, 'C': 0.1658033425622435, 'max_iter': 3500, 'fit_intercept': True, 'penalty': 'l2'}. Best is trial 1 with value: 0.5238095238095238.\n",
            "[I 2024-04-15 15:15:41,592] Trial 253 finished with value: 0.5238095238095238 and parameters: {'tol': 0.00011377465655821445, 'C': 0.09638766070266938, 'max_iter': 2800, 'fit_intercept': True, 'penalty': 'none'}. Best is trial 1 with value: 0.5238095238095238.\n",
            "[I 2024-04-15 15:15:41,645] Trial 254 finished with value: 0.5238095238095238 and parameters: {'tol': 0.00030030746805251833, 'C': 0.08598447268866988, 'max_iter': 2600, 'fit_intercept': True, 'penalty': 'none'}. Best is trial 1 with value: 0.5238095238095238.\n",
            "[I 2024-04-15 15:15:41,683] Trial 255 finished with value: 0.5238095238095238 and parameters: {'tol': 0.0007602166180179062, 'C': 0.39592532210598774, 'max_iter': 300, 'fit_intercept': True, 'penalty': 'l2'}. Best is trial 1 with value: 0.5238095238095238.\n",
            "[I 2024-04-15 15:15:41,736] Trial 256 finished with value: 0.5238095238095238 and parameters: {'tol': 0.00026185982923191233, 'C': 0.205996126407045, 'max_iter': 4200, 'fit_intercept': True, 'penalty': 'none'}. Best is trial 1 with value: 0.5238095238095238.\n",
            "[I 2024-04-15 15:15:41,789] Trial 257 finished with value: 0.5238095238095238 and parameters: {'tol': 0.0008771425628603467, 'C': 0.05104876972387764, 'max_iter': 1400, 'fit_intercept': True, 'penalty': 'none'}. Best is trial 1 with value: 0.5238095238095238.\n",
            "[I 2024-04-15 15:15:41,823] Trial 258 finished with value: 0.5238095238095238 and parameters: {'tol': 0.0005239187072684222, 'C': 0.03419700572334456, 'max_iter': 2000, 'fit_intercept': True, 'penalty': 'l2'}. Best is trial 1 with value: 0.5238095238095238.\n",
            "[I 2024-04-15 15:15:41,856] Trial 259 finished with value: 0.47619047619047616 and parameters: {'tol': 0.0003328721375611361, 'C': 0.0388542532389207, 'max_iter': 500, 'fit_intercept': False, 'penalty': 'none'}. Best is trial 1 with value: 0.5238095238095238.\n",
            "[I 2024-04-15 15:15:41,884] Trial 260 finished with value: 0.47619047619047616 and parameters: {'tol': 0.00016730496727758548, 'C': 0.023049970119355768, 'max_iter': 1800, 'fit_intercept': True, 'penalty': 'l2'}. Best is trial 1 with value: 0.5238095238095238.\n",
            "[I 2024-04-15 15:15:41,938] Trial 261 finished with value: 0.5238095238095238 and parameters: {'tol': 6.587413640391122e-05, 'C': 0.02836722987278048, 'max_iter': 4500, 'fit_intercept': True, 'penalty': 'none'}. Best is trial 1 with value: 0.5238095238095238.\n",
            "[I 2024-04-15 15:15:41,971] Trial 262 finished with value: 0.47619047619047616 and parameters: {'tol': 0.0009761127128375111, 'C': 0.05673615177439232, 'max_iter': 100, 'fit_intercept': True, 'penalty': 'none'}. Best is trial 1 with value: 0.5238095238095238.\n",
            "[I 2024-04-15 15:15:42,021] Trial 263 finished with value: 0.5238095238095238 and parameters: {'tol': 0.0005598334512298409, 'C': 0.06651073648046923, 'max_iter': 2900, 'fit_intercept': True, 'penalty': 'l2'}. Best is trial 1 with value: 0.5238095238095238.\n",
            "[I 2024-04-15 15:15:42,076] Trial 264 finished with value: 0.5238095238095238 and parameters: {'tol': 0.00028484486736095256, 'C': 0.11432578524116496, 'max_iter': 1600, 'fit_intercept': True, 'penalty': 'none'}. Best is trial 1 with value: 0.5238095238095238.\n",
            "[I 2024-04-15 15:15:42,118] Trial 265 finished with value: 0.5238095238095238 and parameters: {'tol': 0.0004459170492879857, 'C': 0.14797221305770633, 'max_iter': 3700, 'fit_intercept': True, 'penalty': 'l2'}. Best is trial 1 with value: 0.5238095238095238.\n",
            "[I 2024-04-15 15:15:42,170] Trial 266 finished with value: 0.5238095238095238 and parameters: {'tol': 0.0002314507056762022, 'C': 0.18288032191286857, 'max_iter': 4700, 'fit_intercept': True, 'penalty': 'none'}. Best is trial 1 with value: 0.5238095238095238.\n",
            "[I 2024-04-15 15:15:42,222] Trial 267 finished with value: 0.5238095238095238 and parameters: {'tol': 0.0006494036557211796, 'C': 0.01860266555250067, 'max_iter': 700, 'fit_intercept': True, 'penalty': 'none'}. Best is trial 1 with value: 0.5238095238095238.\n",
            "[I 2024-04-15 15:15:42,267] Trial 268 finished with value: 0.5238095238095238 and parameters: {'tol': 2.7952179728325456e-05, 'C': 0.07997157373367542, 'max_iter': 4000, 'fit_intercept': True, 'penalty': 'l2'}. Best is trial 1 with value: 0.5238095238095238.\n",
            "[I 2024-04-15 15:15:42,320] Trial 269 finished with value: 0.5238095238095238 and parameters: {'tol': 0.0005010781877870559, 'C': 0.3133061866571673, 'max_iter': 2400, 'fit_intercept': True, 'penalty': 'none'}. Best is trial 1 with value: 0.5238095238095238.\n",
            "[I 2024-04-15 15:15:42,371] Trial 270 finished with value: 0.5238095238095238 and parameters: {'tol': 0.0005907514212097626, 'C': 0.24920700531666473, 'max_iter': 1000, 'fit_intercept': True, 'penalty': 'none'}. Best is trial 1 with value: 0.5238095238095238.\n",
            "[I 2024-04-15 15:15:42,414] Trial 271 finished with value: 0.5238095238095238 and parameters: {'tol': 0.00046432544160591034, 'C': 0.03244328830797639, 'max_iter': 2700, 'fit_intercept': True, 'penalty': 'l2'}. Best is trial 1 with value: 0.5238095238095238.\n",
            "[I 2024-04-15 15:15:42,468] Trial 272 finished with value: 0.5238095238095238 and parameters: {'tol': 0.00036021870845212236, 'C': 0.013417020383586494, 'max_iter': 3100, 'fit_intercept': True, 'penalty': 'none'}. Best is trial 1 with value: 0.5238095238095238.\n",
            "[I 2024-04-15 15:15:42,516] Trial 273 finished with value: 0.5238095238095238 and parameters: {'tol': 0.0009504006833786722, 'C': 0.45764535793109956, 'max_iter': 4800, 'fit_intercept': True, 'penalty': 'l2'}. Best is trial 1 with value: 0.5238095238095238.\n",
            "[I 2024-04-15 15:15:42,569] Trial 274 finished with value: 0.5238095238095238 and parameters: {'tol': 0.00020785945679861203, 'C': 0.045992470147966334, 'max_iter': 1600, 'fit_intercept': True, 'penalty': 'none'}. Best is trial 1 with value: 0.5238095238095238.\n",
            "[I 2024-04-15 15:15:42,623] Trial 275 finished with value: 0.5238095238095238 and parameters: {'tol': 0.0006927152611768943, 'C': 0.025738524002652977, 'max_iter': 400, 'fit_intercept': True, 'penalty': 'none'}. Best is trial 1 with value: 0.5238095238095238.\n",
            "[I 2024-04-15 15:15:42,666] Trial 276 finished with value: 0.5238095238095238 and parameters: {'tol': 0.00013353141160869073, 'C': 0.06174652535253199, 'max_iter': 3200, 'fit_intercept': True, 'penalty': 'l2'}. Best is trial 1 with value: 0.5238095238095238.\n",
            "[I 2024-04-15 15:15:42,718] Trial 277 finished with value: 0.5238095238095238 and parameters: {'tol': 0.0008226329345729422, 'C': 0.35808237196242276, 'max_iter': 600, 'fit_intercept': True, 'penalty': 'none'}. Best is trial 1 with value: 0.5238095238095238.\n",
            "[I 2024-04-15 15:15:42,752] Trial 278 finished with value: 0.47619047619047616 and parameters: {'tol': 0.0007309072052170151, 'C': 0.17155678467657298, 'max_iter': 3400, 'fit_intercept': False, 'penalty': 'none'}. Best is trial 1 with value: 0.5238095238095238.\n",
            "[I 2024-04-15 15:15:42,794] Trial 279 finished with value: 0.5238095238095238 and parameters: {'tol': 0.0002516575137193442, 'C': 0.07144112085633632, 'max_iter': 1200, 'fit_intercept': True, 'penalty': 'l2'}. Best is trial 1 with value: 0.5238095238095238.\n",
            "[I 2024-04-15 15:15:42,849] Trial 280 finished with value: 0.5238095238095238 and parameters: {'tol': 8.912790399774572e-05, 'C': 0.015632860655142498, 'max_iter': 800, 'fit_intercept': True, 'penalty': 'none'}. Best is trial 1 with value: 0.5238095238095238.\n",
            "[I 2024-04-15 15:15:42,888] Trial 281 finished with value: 0.5238095238095238 and parameters: {'tol': 0.0005150557195735839, 'C': 0.1351549393451352, 'max_iter': 2200, 'fit_intercept': True, 'penalty': 'l2'}. Best is trial 1 with value: 0.5238095238095238.\n",
            "[I 2024-04-15 15:15:42,941] Trial 282 finished with value: 0.5238095238095238 and parameters: {'tol': 0.0004218318047284262, 'C': 0.09159368330442859, 'max_iter': 4300, 'fit_intercept': True, 'penalty': 'none'}. Best is trial 1 with value: 0.5238095238095238.\n",
            "[I 2024-04-15 15:15:42,996] Trial 283 finished with value: 0.5238095238095238 and parameters: {'tol': 0.00030879629166669965, 'C': 0.15668943628937113, 'max_iter': 2700, 'fit_intercept': True, 'penalty': 'none'}. Best is trial 1 with value: 0.5238095238095238.\n",
            "[I 2024-04-15 15:15:43,040] Trial 284 finished with value: 0.5238095238095238 and parameters: {'tol': 0.0004805791292820551, 'C': 0.04097131195434757, 'max_iter': 2100, 'fit_intercept': True, 'penalty': 'l2'}. Best is trial 1 with value: 0.5238095238095238.\n",
            "[I 2024-04-15 15:15:43,093] Trial 285 finished with value: 0.5238095238095238 and parameters: {'tol': 0.00019008941352471607, 'C': 0.10475091173877038, 'max_iter': 1400, 'fit_intercept': True, 'penalty': 'none'}. Best is trial 1 with value: 0.5238095238095238.\n",
            "[I 2024-04-15 15:15:43,152] Trial 286 finished with value: 0.5238095238095238 and parameters: {'tol': 0.0005455396330281696, 'C': 0.02062900494605474, 'max_iter': 3800, 'fit_intercept': True, 'penalty': 'none'}. Best is trial 1 with value: 0.5238095238095238.\n",
            "[I 2024-04-15 15:15:43,205] Trial 287 finished with value: 0.5238095238095238 and parameters: {'tol': 0.0003409598867614197, 'C': 0.7684843613649371, 'max_iter': 1700, 'fit_intercept': True, 'penalty': 'l2'}. Best is trial 1 with value: 0.5238095238095238.\n",
            "[I 2024-04-15 15:15:43,260] Trial 288 finished with value: 0.5238095238095238 and parameters: {'tol': 0.0009215442893440197, 'C': 0.516726365062853, 'max_iter': 2900, 'fit_intercept': True, 'penalty': 'none'}. Best is trial 1 with value: 0.5238095238095238.\n",
            "[I 2024-04-15 15:15:43,308] Trial 289 finished with value: 0.5238095238095238 and parameters: {'tol': 0.000783658162794517, 'C': 0.1247425140319115, 'max_iter': 1900, 'fit_intercept': True, 'penalty': 'l2'}. Best is trial 1 with value: 0.5238095238095238.\n",
            "[I 2024-04-15 15:15:43,360] Trial 290 finished with value: 0.5238095238095238 and parameters: {'tol': 0.0001174248482183703, 'C': 0.02877248573914125, 'max_iter': 3900, 'fit_intercept': True, 'penalty': 'none'}. Best is trial 1 with value: 0.5238095238095238.\n",
            "[I 2024-04-15 15:15:43,416] Trial 291 finished with value: 0.5238095238095238 and parameters: {'tol': 0.00028039195544441565, 'C': 0.05217460083026996, 'max_iter': 3300, 'fit_intercept': True, 'penalty': 'none'}. Best is trial 1 with value: 0.5238095238095238.\n",
            "[I 2024-04-15 15:15:43,444] Trial 292 finished with value: 0.42857142857142855 and parameters: {'tol': 0.0009992830033196407, 'C': 0.017585181625157962, 'max_iter': 1000, 'fit_intercept': True, 'penalty': 'l2'}. Best is trial 1 with value: 0.5238095238095238.\n",
            "[I 2024-04-15 15:15:43,504] Trial 293 finished with value: 0.5238095238095238 and parameters: {'tol': 0.0008938018830175704, 'C': 0.20351383866055173, 'max_iter': 5000, 'fit_intercept': True, 'penalty': 'none'}. Best is trial 1 with value: 0.5238095238095238.\n",
            "[I 2024-04-15 15:15:43,555] Trial 294 finished with value: 0.5238095238095238 and parameters: {'tol': 0.0009770328146138543, 'C': 0.036333849245514326, 'max_iter': 1500, 'fit_intercept': True, 'penalty': 'none'}. Best is trial 1 with value: 0.5238095238095238.\n",
            "[I 2024-04-15 15:15:43,602] Trial 295 finished with value: 0.5238095238095238 and parameters: {'tol': 4.839033312294549e-05, 'C': 0.07996047608288002, 'max_iter': 3000, 'fit_intercept': True, 'penalty': 'l2'}. Best is trial 1 with value: 0.5238095238095238.\n",
            "[I 2024-04-15 15:15:43,659] Trial 296 finished with value: 0.5238095238095238 and parameters: {'tol': 0.0002209661820207263, 'C': 0.8726413802606333, 'max_iter': 2600, 'fit_intercept': True, 'penalty': 'none'}. Best is trial 1 with value: 0.5238095238095238.\n",
            "[I 2024-04-15 15:15:43,689] Trial 297 finished with value: 0.5238095238095238 and parameters: {'tol': 0.00016276361581730146, 'C': 0.06016749587445394, 'max_iter': 3100, 'fit_intercept': False, 'penalty': 'l2'}. Best is trial 1 with value: 0.5238095238095238.\n",
            "[I 2024-04-15 15:15:43,734] Trial 298 finished with value: 0.47619047619047616 and parameters: {'tol': 0.0006737823416001043, 'C': 0.1418139862187368, 'max_iter': 200, 'fit_intercept': True, 'penalty': 'none'}. Best is trial 1 with value: 0.5238095238095238.\n",
            "[I 2024-04-15 15:15:43,790] Trial 299 finished with value: 0.5238095238095238 and parameters: {'tol': 0.00032377918824070916, 'C': 0.022533105467147378, 'max_iter': 3600, 'fit_intercept': True, 'penalty': 'none'}. Best is trial 1 with value: 0.5238095238095238.\n",
            "[I 2024-04-15 15:15:43,836] Trial 300 finished with value: 0.5238095238095238 and parameters: {'tol': 0.000532481493894437, 'C': 0.16069355429046772, 'max_iter': 1300, 'fit_intercept': True, 'penalty': 'l2'}. Best is trial 1 with value: 0.5238095238095238.\n",
            "[I 2024-04-15 15:15:43,891] Trial 301 finished with value: 0.5238095238095238 and parameters: {'tol': 0.0004932661864146587, 'C': 0.07131365107085469, 'max_iter': 300, 'fit_intercept': True, 'penalty': 'none'}. Best is trial 1 with value: 0.5238095238095238.\n",
            "[I 2024-04-15 15:15:43,945] Trial 302 finished with value: 0.5238095238095238 and parameters: {'tol': 0.00024389035597206248, 'C': 0.03011907532596293, 'max_iter': 1600, 'fit_intercept': True, 'penalty': 'none'}. Best is trial 1 with value: 0.5238095238095238.\n",
            "[I 2024-04-15 15:15:43,989] Trial 303 finished with value: 0.5238095238095238 and parameters: {'tol': 0.0001790498232999931, 'C': 0.189430366254658, 'max_iter': 800, 'fit_intercept': True, 'penalty': 'l2'}. Best is trial 1 with value: 0.5238095238095238.\n",
            "[I 2024-04-15 15:15:44,045] Trial 304 finished with value: 0.5238095238095238 and parameters: {'tol': 0.00037983255284047195, 'C': 0.27001092041116537, 'max_iter': 2500, 'fit_intercept': True, 'penalty': 'none'}. Best is trial 1 with value: 0.5238095238095238.\n",
            "[I 2024-04-15 15:15:44,073] Trial 305 finished with value: 0.42857142857142855 and parameters: {'tol': 0.00026514295157083895, 'C': 0.011918933583272964, 'max_iter': 4100, 'fit_intercept': True, 'penalty': 'l2'}. Best is trial 1 with value: 0.5238095238095238.\n",
            "[I 2024-04-15 15:15:44,128] Trial 306 finished with value: 0.5238095238095238 and parameters: {'tol': 8.443507014541057e-05, 'C': 0.04475190646127257, 'max_iter': 500, 'fit_intercept': True, 'penalty': 'none'}. Best is trial 1 with value: 0.5238095238095238.\n",
            "[I 2024-04-15 15:15:44,182] Trial 307 finished with value: 0.5238095238095238 and parameters: {'tol': 0.0005706469620927328, 'C': 0.5702059174865148, 'max_iter': 2800, 'fit_intercept': True, 'penalty': 'none'}. Best is trial 1 with value: 0.5238095238095238.\n",
            "[I 2024-04-15 15:15:44,214] Trial 308 finished with value: 0.5238095238095238 and parameters: {'tol': 0.0007138829305236226, 'C': 0.027019187257264547, 'max_iter': 1800, 'fit_intercept': True, 'penalty': 'l2'}. Best is trial 1 with value: 0.5238095238095238.\n",
            "[I 2024-04-15 15:15:44,271] Trial 309 finished with value: 0.5238095238095238 and parameters: {'tol': 0.0008025240765784282, 'C': 0.11137566799550021, 'max_iter': 400, 'fit_intercept': True, 'penalty': 'none'}. Best is trial 1 with value: 0.5238095238095238.\n",
            "[I 2024-04-15 15:15:44,324] Trial 310 finished with value: 0.5238095238095238 and parameters: {'tol': 0.00047003881826909884, 'C': 0.2259167834166807, 'max_iter': 1500, 'fit_intercept': True, 'penalty': 'none'}. Best is trial 1 with value: 0.5238095238095238.\n",
            "[I 2024-04-15 15:15:44,368] Trial 311 finished with value: 0.5238095238095238 and parameters: {'tol': 0.0006297200613773274, 'C': 0.08800625038562944, 'max_iter': 3000, 'fit_intercept': True, 'penalty': 'l2'}. Best is trial 1 with value: 0.5238095238095238.\n",
            "[I 2024-04-15 15:15:44,422] Trial 312 finished with value: 0.5238095238095238 and parameters: {'tol': 0.0009597101270034022, 'C': 0.05597592178963884, 'max_iter': 3500, 'fit_intercept': True, 'penalty': 'none'}. Best is trial 1 with value: 0.5238095238095238.\n",
            "[I 2024-04-15 15:15:44,463] Trial 313 finished with value: 0.5238095238095238 and parameters: {'tol': 0.00013868476932341143, 'C': 0.0977735794991616, 'max_iter': 1100, 'fit_intercept': True, 'penalty': 'l2'}. Best is trial 1 with value: 0.5238095238095238.\n",
            "[I 2024-04-15 15:15:44,518] Trial 314 finished with value: 0.5238095238095238 and parameters: {'tol': 0.00030140058003237256, 'C': 0.06527303110834261, 'max_iter': 4400, 'fit_intercept': True, 'penalty': 'none'}. Best is trial 1 with value: 0.5238095238095238.\n",
            "[I 2024-04-15 15:15:44,572] Trial 315 finished with value: 0.5238095238095238 and parameters: {'tol': 0.0002086107442460575, 'C': 0.17866621797305524, 'max_iter': 2300, 'fit_intercept': True, 'penalty': 'none'}. Best is trial 1 with value: 0.5238095238095238.\n",
            "[I 2024-04-15 15:15:44,605] Trial 316 finished with value: 0.47619047619047616 and parameters: {'tol': 0.0004393003439648425, 'C': 0.14913386197852063, 'max_iter': 3400, 'fit_intercept': False, 'penalty': 'l2'}. Best is trial 1 with value: 0.5238095238095238.\n",
            "[I 2024-04-15 15:15:44,658] Trial 317 finished with value: 0.5238095238095238 and parameters: {'tol': 0.0008517952176629779, 'C': 0.01010734129161755, 'max_iter': 3200, 'fit_intercept': True, 'penalty': 'none'}. Best is trial 1 with value: 0.5238095238095238.\n",
            "[I 2024-04-15 15:15:44,713] Trial 318 finished with value: 0.5238095238095238 and parameters: {'tol': 0.0005085599849406227, 'C': 0.032341300534009694, 'max_iter': 4900, 'fit_intercept': True, 'penalty': 'none'}. Best is trial 1 with value: 0.5238095238095238.\n",
            "[I 2024-04-15 15:15:44,760] Trial 319 finished with value: 0.5238095238095238 and parameters: {'tol': 0.0003559670056433008, 'C': 0.12228032759570129, 'max_iter': 700, 'fit_intercept': True, 'penalty': 'l2'}. Best is trial 1 with value: 0.5238095238095238.\n",
            "[I 2024-04-15 15:15:44,815] Trial 320 finished with value: 0.5238095238095238 and parameters: {'tol': 0.000984761595447588, 'C': 0.02521335297095141, 'max_iter': 1400, 'fit_intercept': True, 'penalty': 'none'}. Best is trial 1 with value: 0.5238095238095238.\n",
            "[I 2024-04-15 15:15:44,877] Trial 321 finished with value: 0.5238095238095238 and parameters: {'tol': 0.0006018885101217279, 'C': 0.41086193052304193, 'max_iter': 2000, 'fit_intercept': True, 'penalty': 'l2'}. Best is trial 1 with value: 0.5238095238095238.\n",
            "[I 2024-04-15 15:15:44,932] Trial 322 finished with value: 0.5238095238095238 and parameters: {'tol': 0.0002760399910025759, 'C': 0.6294895473805456, 'max_iter': 4700, 'fit_intercept': True, 'penalty': 'none'}. Best is trial 1 with value: 0.5238095238095238.\n",
            "[I 2024-04-15 15:15:44,990] Trial 323 finished with value: 0.5238095238095238 and parameters: {'tol': 0.0009382429690638388, 'C': 0.05128953360349509, 'max_iter': 600, 'fit_intercept': True, 'penalty': 'none'}. Best is trial 1 with value: 0.5238095238095238.\n",
            "[I 2024-04-15 15:15:45,033] Trial 324 finished with value: 0.5238095238095238 and parameters: {'tol': 0.00022760338637891608, 'C': 0.0396640283362684, 'max_iter': 3700, 'fit_intercept': True, 'penalty': 'l2'}. Best is trial 1 with value: 0.5238095238095238.\n",
            "[I 2024-04-15 15:15:45,089] Trial 325 finished with value: 0.5238095238095238 and parameters: {'tol': 0.0007627214812140825, 'C': 0.3381786493992899, 'max_iter': 2800, 'fit_intercept': True, 'penalty': 'none'}. Best is trial 1 with value: 0.5238095238095238.\n",
            "[I 2024-04-15 15:15:45,143] Trial 326 finished with value: 0.5238095238095238 and parameters: {'tol': 0.0004003154670705195, 'C': 0.07539717116896578, 'max_iter': 1700, 'fit_intercept': True, 'penalty': 'none'}. Best is trial 1 with value: 0.5238095238095238.\n",
            "[I 2024-04-15 15:15:45,178] Trial 327 finished with value: 0.5238095238095238 and parameters: {'tol': 0.00017679106644794985, 'C': 0.035131161277910994, 'max_iter': 100, 'fit_intercept': True, 'penalty': 'l2'}. Best is trial 1 with value: 0.5238095238095238.\n",
            "[I 2024-04-15 15:15:45,233] Trial 328 finished with value: 0.5238095238095238 and parameters: {'tol': 0.00048317780110593647, 'C': 0.1321441051438512, 'max_iter': 2400, 'fit_intercept': True, 'penalty': 'none'}. Best is trial 1 with value: 0.5238095238095238.\n",
            "[I 2024-04-15 15:15:45,270] Trial 329 finished with value: 0.5238095238095238 and parameters: {'tol': 0.0004616723869061771, 'C': 0.16505051212169583, 'max_iter': 2900, 'fit_intercept': True, 'penalty': 'l2'}. Best is trial 1 with value: 0.5238095238095238.\n",
            "[I 2024-04-15 15:15:45,325] Trial 330 finished with value: 0.5238095238095238 and parameters: {'tol': 0.0003234619010029283, 'C': 0.019712630478632403, 'max_iter': 2700, 'fit_intercept': True, 'penalty': 'none'}. Best is trial 1 with value: 0.5238095238095238.\n",
            "[I 2024-04-15 15:15:45,379] Trial 331 finished with value: 0.5238095238095238 and parameters: {'tol': 0.00011649159411705008, 'C': 0.01543439334536568, 'max_iter': 900, 'fit_intercept': True, 'penalty': 'none'}. Best is trial 1 with value: 0.5238095238095238.\n",
            "[I 2024-04-15 15:15:45,424] Trial 332 finished with value: 0.5238095238095238 and parameters: {'tol': 0.0005158554758663705, 'C': 0.08421125981378996, 'max_iter': 1200, 'fit_intercept': True, 'penalty': 'l2'}. Best is trial 1 with value: 0.5238095238095238.\n",
            "[I 2024-04-15 15:15:45,477] Trial 333 finished with value: 0.5238095238095238 and parameters: {'tol': 6.241726138815165e-05, 'C': 0.2994827653455807, 'max_iter': 3300, 'fit_intercept': True, 'penalty': 'none'}. Best is trial 1 with value: 0.5238095238095238.\n",
            "[I 2024-04-15 15:15:45,536] Trial 334 finished with value: 0.5238095238095238 and parameters: {'tol': 0.0009065405205550714, 'C': 0.06666693264769201, 'max_iter': 3100, 'fit_intercept': True, 'penalty': 'none'}. Best is trial 1 with value: 0.5238095238095238.\n",
            "[I 2024-04-15 15:15:45,577] Trial 335 finished with value: 0.5238095238095238 and parameters: {'tol': 0.00014635999900626753, 'C': 0.05617334578363071, 'max_iter': 400, 'fit_intercept': True, 'penalty': 'l2'}. Best is trial 1 with value: 0.5238095238095238.\n",
            "[I 2024-04-15 15:15:45,613] Trial 336 finished with value: 0.47619047619047616 and parameters: {'tol': 0.00029261833585271437, 'C': 0.4573196519122787, 'max_iter': 4500, 'fit_intercept': False, 'penalty': 'none'}. Best is trial 1 with value: 0.5238095238095238.\n",
            "[I 2024-04-15 15:15:45,667] Trial 337 finished with value: 0.5238095238095238 and parameters: {'tol': 0.0009737843089139624, 'C': 0.022161268401573776, 'max_iter': 4200, 'fit_intercept': True, 'penalty': 'none'}. Best is trial 1 with value: 0.5238095238095238.\n",
            "[I 2024-04-15 15:15:45,722] Trial 338 finished with value: 0.5238095238095238 and parameters: {'tol': 0.00020205098557343046, 'C': 0.2045423057901466, 'max_iter': 1600, 'fit_intercept': True, 'penalty': 'l2'}. Best is trial 1 with value: 0.5238095238095238.\n",
            "[I 2024-04-15 15:15:45,778] Trial 339 finished with value: 0.5238095238095238 and parameters: {'tol': 0.0002513582629285424, 'C': 0.04685146926450274, 'max_iter': 2200, 'fit_intercept': True, 'penalty': 'none'}. Best is trial 1 with value: 0.5238095238095238.\n",
            "[I 2024-04-15 15:15:45,826] Trial 340 finished with value: 0.5238095238095238 and parameters: {'tol': 0.0005354360255511446, 'C': 0.10321709615453667, 'max_iter': 500, 'fit_intercept': True, 'penalty': 'l2'}. Best is trial 1 with value: 0.5238095238095238.\n",
            "[I 2024-04-15 15:15:45,886] Trial 341 finished with value: 0.5238095238095238 and parameters: {'tol': 0.0005559890536129127, 'C': 0.028908070507727663, 'max_iter': 1400, 'fit_intercept': True, 'penalty': 'none'}. Best is trial 1 with value: 0.5238095238095238.\n",
            "[I 2024-04-15 15:15:45,932] Trial 342 finished with value: 0.47619047619047616 and parameters: {'tol': 0.0004958922364335299, 'C': 0.13957324963214085, 'max_iter': 200, 'fit_intercept': True, 'penalty': 'none'}. Best is trial 1 with value: 0.5238095238095238.\n",
            "[I 2024-04-15 15:15:45,961] Trial 343 finished with value: 0.42857142857142855 and parameters: {'tol': 0.000346836206967165, 'C': 0.014217989721706233, 'max_iter': 1300, 'fit_intercept': True, 'penalty': 'l2'}. Best is trial 1 with value: 0.5238095238095238.\n",
            "[I 2024-04-15 15:15:46,015] Trial 344 finished with value: 0.5238095238095238 and parameters: {'tol': 0.00010158790418854495, 'C': 0.017810666823420328, 'max_iter': 4800, 'fit_intercept': True, 'penalty': 'none'}. Best is trial 1 with value: 0.5238095238095238.\n",
            "[I 2024-04-15 15:15:46,070] Trial 345 finished with value: 0.5238095238095238 and parameters: {'tol': 0.00031366850440505334, 'C': 0.17518622117300806, 'max_iter': 1800, 'fit_intercept': True, 'penalty': 'none'}. Best is trial 1 with value: 0.5238095238095238.\n",
            "[I 2024-04-15 15:15:46,111] Trial 346 finished with value: 0.5238095238095238 and parameters: {'tol': 0.0009621037047785026, 'C': 0.15230238794196915, 'max_iter': 3900, 'fit_intercept': True, 'penalty': 'l2'}. Best is trial 1 with value: 0.5238095238095238.\n",
            "[I 2024-04-15 15:15:46,167] Trial 347 finished with value: 0.5238095238095238 and parameters: {'tol': 0.0009997721275303445, 'C': 0.05942707269429553, 'max_iter': 2700, 'fit_intercept': True, 'penalty': 'none'}. Best is trial 1 with value: 0.5238095238095238.\n",
            "[I 2024-04-15 15:15:46,218] Trial 348 finished with value: 0.5238095238095238 and parameters: {'tol': 0.0006475053115814383, 'C': 0.38292297829779315, 'max_iter': 2600, 'fit_intercept': True, 'penalty': 'l2'}. Best is trial 1 with value: 0.5238095238095238.\n",
            "[I 2024-04-15 15:15:46,272] Trial 349 finished with value: 0.5238095238095238 and parameters: {'tol': 0.0008785495068064246, 'C': 0.08066759386649584, 'max_iter': 2100, 'fit_intercept': True, 'penalty': 'none'}. Best is trial 1 with value: 0.5238095238095238.\n",
            "[I 2024-04-15 15:15:46,330] Trial 350 finished with value: 0.5238095238095238 and parameters: {'tol': 0.0001890062832864264, 'C': 0.03198044403452689, 'max_iter': 1900, 'fit_intercept': True, 'penalty': 'none'}. Best is trial 1 with value: 0.5238095238095238.\n",
            "[I 2024-04-15 15:15:46,375] Trial 351 finished with value: 0.5238095238095238 and parameters: {'tol': 0.00023769096637534363, 'C': 0.09096914654782114, 'max_iter': 2500, 'fit_intercept': True, 'penalty': 'l2'}. Best is trial 1 with value: 0.5238095238095238.\n",
            "[I 2024-04-15 15:15:46,430] Trial 352 finished with value: 0.5238095238095238 and parameters: {'tol': 7.988375740919306e-05, 'C': 0.7095771263435943, 'max_iter': 900, 'fit_intercept': True, 'penalty': 'none'}. Best is trial 1 with value: 0.5238095238095238.\n",
            "[I 2024-04-15 15:15:46,485] Trial 353 finished with value: 0.5238095238095238 and parameters: {'tol': 0.0007410430150629995, 'C': 0.04241606881361348, 'max_iter': 3600, 'fit_intercept': True, 'penalty': 'none'}. Best is trial 1 with value: 0.5238095238095238.\n",
            "[I 2024-04-15 15:15:46,534] Trial 354 finished with value: 0.5238095238095238 and parameters: {'tol': 0.0007063508544285807, 'C': 0.11500029933212211, 'max_iter': 2900, 'fit_intercept': True, 'penalty': 'l2'}. Best is trial 1 with value: 0.5238095238095238.\n",
            "[I 2024-04-15 15:15:46,575] Trial 355 finished with value: 0.47619047619047616 and parameters: {'tol': 0.0008293389132655918, 'C': 0.24040656351858267, 'max_iter': 3400, 'fit_intercept': False, 'penalty': 'none'}. Best is trial 1 with value: 0.5238095238095238.\n",
            "[I 2024-04-15 15:15:46,623] Trial 356 finished with value: 0.5238095238095238 and parameters: {'tol': 2.790681867237805e-05, 'C': 0.06732280120227313, 'max_iter': 1100, 'fit_intercept': True, 'penalty': 'l2'}. Best is trial 1 with value: 0.5238095238095238.\n",
            "[I 2024-04-15 15:15:46,677] Trial 357 finished with value: 0.5238095238095238 and parameters: {'tol': 0.00041516318924155534, 'C': 0.024136285243745517, 'max_iter': 4600, 'fit_intercept': True, 'penalty': 'none'}. Best is trial 1 with value: 0.5238095238095238.\n",
            "[I 2024-04-15 15:15:46,736] Trial 358 finished with value: 0.5238095238095238 and parameters: {'tol': 0.00022249467108262765, 'C': 0.07301889621678433, 'max_iter': 3200, 'fit_intercept': True, 'penalty': 'none'}. Best is trial 1 with value: 0.5238095238095238.\n",
            "[I 2024-04-15 15:15:46,777] Trial 359 finished with value: 0.5238095238095238 and parameters: {'tol': 0.00026983458867594734, 'C': 0.037613641834215034, 'max_iter': 4000, 'fit_intercept': True, 'penalty': 'l2'}. Best is trial 1 with value: 0.5238095238095238.\n",
            "[I 2024-04-15 15:15:46,836] Trial 360 finished with value: 0.5238095238095238 and parameters: {'tol': 0.00016020708915288144, 'C': 0.049365780465006774, 'max_iter': 1500, 'fit_intercept': True, 'penalty': 'none'}. Best is trial 1 with value: 0.5238095238095238.\n",
            "[I 2024-04-15 15:15:46,893] Trial 361 finished with value: 0.5238095238095238 and parameters: {'tol': 0.0006198267031642772, 'C': 0.027394903661635387, 'max_iter': 3100, 'fit_intercept': True, 'penalty': 'none'}. Best is trial 1 with value: 0.5238095238095238.\n",
            "[I 2024-04-15 15:15:46,937] Trial 362 finished with value: 0.5238095238095238 and parameters: {'tol': 0.0005811490835744516, 'C': 0.18503377347140273, 'max_iter': 2800, 'fit_intercept': True, 'penalty': 'l2'}. Best is trial 1 with value: 0.5238095238095238.\n",
            "[I 2024-04-15 15:15:46,991] Trial 363 finished with value: 0.5238095238095238 and parameters: {'tol': 0.0003803427175556653, 'C': 0.15223842007882427, 'max_iter': 800, 'fit_intercept': True, 'penalty': 'none'}. Best is trial 1 with value: 0.5238095238095238.\n",
            "[I 2024-04-15 15:15:47,044] Trial 364 finished with value: 0.5238095238095238 and parameters: {'tol': 0.0004536010353307075, 'C': 0.10007690902429317, 'max_iter': 600, 'fit_intercept': True, 'penalty': 'l2'}. Best is trial 1 with value: 0.5238095238095238.\n",
            "[I 2024-04-15 15:15:47,099] Trial 365 finished with value: 0.5238095238095238 and parameters: {'tol': 0.0003309128046558902, 'C': 0.2590646932776271, 'max_iter': 2600, 'fit_intercept': True, 'penalty': 'none'}. Best is trial 1 with value: 0.5238095238095238.\n",
            "[I 2024-04-15 15:15:47,160] Trial 366 finished with value: 0.5238095238095238 and parameters: {'tol': 0.0004795815215063312, 'C': 0.5125055391549602, 'max_iter': 3800, 'fit_intercept': True, 'penalty': 'none'}. Best is trial 1 with value: 0.5238095238095238.\n",
            "[I 2024-04-15 15:15:47,199] Trial 367 finished with value: 0.5238095238095238 and parameters: {'tol': 0.0006677999081242549, 'C': 0.16194775076118817, 'max_iter': 2400, 'fit_intercept': True, 'penalty': 'l2'}. Best is trial 1 with value: 0.5238095238095238.\n",
            "[I 2024-04-15 15:15:47,255] Trial 368 finished with value: 0.5238095238095238 and parameters: {'tol': 0.0005271017131175855, 'C': 0.02096172478578202, 'max_iter': 3000, 'fit_intercept': True, 'penalty': 'none'}. Best is trial 1 with value: 0.5238095238095238.\n",
            "[I 2024-04-15 15:15:47,312] Trial 369 finished with value: 0.5238095238095238 and parameters: {'tol': 0.00029124733327214443, 'C': 0.12401442472209145, 'max_iter': 1700, 'fit_intercept': True, 'penalty': 'none'}. Best is trial 1 with value: 0.5238095238095238.\n",
            "[I 2024-04-15 15:15:47,353] Trial 370 finished with value: 0.5238095238095238 and parameters: {'tol': 0.0005049502998843497, 'C': 0.061153228598836824, 'max_iter': 4300, 'fit_intercept': True, 'penalty': 'l2'}. Best is trial 1 with value: 0.5238095238095238.\n",
            "[I 2024-04-15 15:15:47,408] Trial 371 finished with value: 0.5238095238095238 and parameters: {'tol': 0.000955113411022909, 'C': 0.016365616067721602, 'max_iter': 1500, 'fit_intercept': True, 'penalty': 'none'}. Best is trial 1 with value: 0.5238095238095238.\n",
            "[I 2024-04-15 15:15:47,451] Trial 372 finished with value: 0.5238095238095238 and parameters: {'tol': 0.0009328051616101025, 'C': 0.03022590099230556, 'max_iter': 400, 'fit_intercept': True, 'penalty': 'l2'}. Best is trial 1 with value: 0.5238095238095238.\n",
            "[I 2024-04-15 15:15:47,505] Trial 373 finished with value: 0.5238095238095238 and parameters: {'tol': 0.0001320837813850834, 'C': 0.03458795287623146, 'max_iter': 2000, 'fit_intercept': True, 'penalty': 'none'}. Best is trial 1 with value: 0.5238095238095238.\n",
            "[I 2024-04-15 15:15:47,541] Trial 374 finished with value: 0.47619047619047616 and parameters: {'tol': 0.00025558960689818294, 'C': 0.13482745467493615, 'max_iter': 1300, 'fit_intercept': False, 'penalty': 'none'}. Best is trial 1 with value: 0.5238095238095238.\n",
            "[I 2024-04-15 15:15:47,573] Trial 375 finished with value: 0.5238095238095238 and parameters: {'tol': 9.956311932259534e-05, 'C': 0.025379254421157193, 'max_iter': 700, 'fit_intercept': True, 'penalty': 'l2'}. Best is trial 1 with value: 0.5238095238095238.\n",
            "[I 2024-04-15 15:15:47,634] Trial 376 finished with value: 0.5238095238095238 and parameters: {'tol': 0.00021264367823522673, 'C': 0.08007224951581664, 'max_iter': 3300, 'fit_intercept': True, 'penalty': 'none'}. Best is trial 1 with value: 0.5238095238095238.\n",
            "[I 2024-04-15 15:15:47,690] Trial 377 finished with value: 0.5238095238095238 and parameters: {'tol': 0.0009791444247861613, 'C': 0.054690863602019774, 'max_iter': 4400, 'fit_intercept': True, 'penalty': 'none'}. Best is trial 1 with value: 0.5238095238095238.\n",
            "[I 2024-04-15 15:15:47,736] Trial 378 finished with value: 0.5238095238095238 and parameters: {'tol': 0.00017599086743020685, 'C': 0.19765965773490013, 'max_iter': 300, 'fit_intercept': True, 'penalty': 'l2'}. Best is trial 1 with value: 0.5238095238095238.\n",
            "[I 2024-04-15 15:15:47,792] Trial 379 finished with value: 0.5238095238095238 and parameters: {'tol': 0.0003077112371091321, 'C': 0.44059607370655607, 'max_iter': 3000, 'fit_intercept': True, 'penalty': 'none'}. Best is trial 1 with value: 0.5238095238095238.\n",
            "[I 2024-04-15 15:15:47,852] Trial 380 finished with value: 0.5238095238095238 and parameters: {'tol': 0.0005478220543799347, 'C': 0.09220304849736677, 'max_iter': 2800, 'fit_intercept': True, 'penalty': 'l2'}. Best is trial 1 with value: 0.5238095238095238.\n",
            "[I 2024-04-15 15:15:47,913] Trial 381 finished with value: 0.5238095238095238 and parameters: {'tol': 0.0003419089821596307, 'C': 0.012841642020271922, 'max_iter': 3600, 'fit_intercept': True, 'penalty': 'none'}. Best is trial 1 with value: 0.5238095238095238.\n",
            "[I 2024-04-15 15:15:47,967] Trial 382 finished with value: 0.5238095238095238 and parameters: {'tol': 6.0730430669704234e-05, 'C': 0.07105382755344355, 'max_iter': 2300, 'fit_intercept': True, 'penalty': 'none'}. Best is trial 1 with value: 0.5238095238095238.\n",
            "[I 2024-04-15 15:15:48,015] Trial 383 finished with value: 0.5238095238095238 and parameters: {'tol': 0.0001934559056814602, 'C': 0.21572176285226935, 'max_iter': 4900, 'fit_intercept': True, 'penalty': 'l2'}. Best is trial 1 with value: 0.5238095238095238.\n",
            "[I 2024-04-15 15:15:48,071] Trial 384 finished with value: 0.5238095238095238 and parameters: {'tol': 0.0007836022901860928, 'C': 0.1678724937538877, 'max_iter': 4100, 'fit_intercept': True, 'penalty': 'none'}. Best is trial 1 with value: 0.5238095238095238.\n",
            "[I 2024-04-15 15:15:48,128] Trial 385 finished with value: 0.5238095238095238 and parameters: {'tol': 0.0004763370859986751, 'C': 0.3170404108802854, 'max_iter': 1200, 'fit_intercept': True, 'penalty': 'none'}. Best is trial 1 with value: 0.5238095238095238.\n",
            "[I 2024-04-15 15:15:48,179] Trial 386 finished with value: 0.5238095238095238 and parameters: {'tol': 0.0004364603292426997, 'C': 0.14954393897964008, 'max_iter': 500, 'fit_intercept': True, 'penalty': 'l2'}. Best is trial 1 with value: 0.5238095238095238.\n",
            "[I 2024-04-15 15:15:48,236] Trial 387 finished with value: 0.5238095238095238 and parameters: {'tol': 0.0003694218718408823, 'C': 0.9171912468706541, 'max_iter': 1600, 'fit_intercept': True, 'penalty': 'none'}. Best is trial 1 with value: 0.5238095238095238.\n",
            "[I 2024-04-15 15:15:48,281] Trial 388 finished with value: 0.5238095238095238 and parameters: {'tol': 0.0005188632037545088, 'C': 0.04247140797180657, 'max_iter': 1000, 'fit_intercept': True, 'penalty': 'l2'}. Best is trial 1 with value: 0.5238095238095238.\n",
            "[I 2024-04-15 15:15:48,336] Trial 389 finished with value: 0.5238095238095238 and parameters: {'tol': 0.00028261146122720584, 'C': 0.10661004559277167, 'max_iter': 3200, 'fit_intercept': True, 'penalty': 'none'}. Best is trial 1 with value: 0.5238095238095238.\n",
            "[I 2024-04-15 15:15:48,396] Trial 390 finished with value: 0.5238095238095238 and parameters: {'tol': 4.5508333511351476e-05, 'C': 0.032114621152584344, 'max_iter': 2500, 'fit_intercept': True, 'penalty': 'none'}. Best is trial 1 with value: 0.5238095238095238.\n",
            "[I 2024-04-15 15:15:48,441] Trial 391 finished with value: 0.5238095238095238 and parameters: {'tol': 0.0009798095728003411, 'C': 0.07707961918042933, 'max_iter': 600, 'fit_intercept': True, 'penalty': 'l2'}. Best is trial 1 with value: 0.5238095238095238.\n",
            "[I 2024-04-15 15:15:48,498] Trial 392 finished with value: 0.5238095238095238 and parameters: {'tol': 0.0006868162078268231, 'C': 0.06357744764803298, 'max_iter': 1400, 'fit_intercept': True, 'penalty': 'none'}. Best is trial 1 with value: 0.5238095238095238.\n",
            "[I 2024-04-15 15:15:48,557] Trial 393 finished with value: 0.5238095238095238 and parameters: {'tol': 0.0004908329980114174, 'C': 0.05124426329716338, 'max_iter': 4700, 'fit_intercept': True, 'penalty': 'none'}. Best is trial 1 with value: 0.5238095238095238.\n",
            "[I 2024-04-15 15:15:48,592] Trial 394 finished with value: 0.5238095238095238 and parameters: {'tol': 0.00011447702979463577, 'C': 0.027806175819823146, 'max_iter': 1800, 'fit_intercept': False, 'penalty': 'l2'}. Best is trial 1 with value: 0.5238095238095238.\n",
            "[I 2024-04-15 15:15:48,649] Trial 395 finished with value: 0.5238095238095238 and parameters: {'tol': 0.00023804020179461822, 'C': 0.018675862551708368, 'max_iter': 2100, 'fit_intercept': True, 'penalty': 'none'}. Best is trial 1 with value: 0.5238095238095238.\n",
            "[I 2024-04-15 15:15:48,697] Trial 396 finished with value: 0.5238095238095238 and parameters: {'tol': 0.0001515583223873226, 'C': 0.1359205283239898, 'max_iter': 300, 'fit_intercept': True, 'penalty': 'l2'}. Best is trial 1 with value: 0.5238095238095238.\n",
            "[I 2024-04-15 15:15:48,755] Trial 397 finished with value: 0.5238095238095238 and parameters: {'tol': 0.0008082683375309607, 'C': 0.08707179883004179, 'max_iter': 2900, 'fit_intercept': True, 'penalty': 'none'}. Best is trial 1 with value: 0.5238095238095238.\n",
            "[I 2024-04-15 15:15:48,811] Trial 398 finished with value: 0.5238095238095238 and parameters: {'tol': 0.00099571046593539, 'C': 0.046263638249400496, 'max_iter': 800, 'fit_intercept': True, 'penalty': 'none'}. Best is trial 1 with value: 0.5238095238095238.\n",
            "[I 2024-04-15 15:15:48,867] Trial 399 finished with value: 0.5238095238095238 and parameters: {'tol': 0.0005931625445681919, 'C': 0.591276612878171, 'max_iter': 3800, 'fit_intercept': True, 'penalty': 'l2'}. Best is trial 1 with value: 0.5238095238095238.\n",
            "[I 2024-04-15 15:15:48,926] Trial 400 finished with value: 0.5238095238095238 and parameters: {'tol': 0.0009131095911945649, 'C': 0.03624185163990021, 'max_iter': 2700, 'fit_intercept': True, 'penalty': 'none'}. Best is trial 1 with value: 0.5238095238095238.\n",
            "[I 2024-04-15 15:15:48,981] Trial 401 finished with value: 0.5238095238095238 and parameters: {'tol': 0.0008683156821331496, 'C': 0.02299970863649171, 'max_iter': 1700, 'fit_intercept': True, 'penalty': 'none'}. Best is trial 1 with value: 0.5238095238095238.\n",
            "[I 2024-04-15 15:15:49,014] Trial 402 finished with value: 0.42857142857142855 and parameters: {'tol': 0.0005646943720795327, 'C': 0.011251311345900574, 'max_iter': 3400, 'fit_intercept': True, 'penalty': 'l2'}. Best is trial 1 with value: 0.5238095238095238.\n",
            "[I 2024-04-15 15:15:49,069] Trial 403 finished with value: 0.5238095238095238 and parameters: {'tol': 0.00045534330546098006, 'C': 0.18564081551466802, 'max_iter': 1100, 'fit_intercept': True, 'penalty': 'none'}. Best is trial 1 with value: 0.5238095238095238.\n",
            "[I 2024-04-15 15:15:49,118] Trial 404 finished with value: 0.5238095238095238 and parameters: {'tol': 0.0003066660290088961, 'C': 0.12285086027236723, 'max_iter': 1500, 'fit_intercept': True, 'penalty': 'l2'}. Best is trial 1 with value: 0.5238095238095238.\n",
            "[I 2024-04-15 15:15:49,174] Trial 405 finished with value: 0.5238095238095238 and parameters: {'tol': 0.0002082115910355734, 'C': 0.17331803000843024, 'max_iter': 1900, 'fit_intercept': True, 'penalty': 'none'}. Best is trial 1 with value: 0.5238095238095238.\n",
            "[I 2024-04-15 15:15:49,229] Trial 406 finished with value: 0.5238095238095238 and parameters: {'tol': 0.0008451436276047494, 'C': 0.06765567636126285, 'max_iter': 1300, 'fit_intercept': True, 'penalty': 'none'}. Best is trial 1 with value: 0.5238095238095238.\n",
            "[I 2024-04-15 15:15:49,277] Trial 407 finished with value: 0.5238095238095238 and parameters: {'tol': 0.0007614757600340159, 'C': 0.2851645759290991, 'max_iter': 3100, 'fit_intercept': True, 'penalty': 'l2'}. Best is trial 1 with value: 0.5238095238095238.\n",
            "[I 2024-04-15 15:15:49,336] Trial 408 finished with value: 0.5238095238095238 and parameters: {'tol': 0.0002590387747430003, 'C': 0.3565559518493321, 'max_iter': 2900, 'fit_intercept': True, 'penalty': 'none'}. Best is trial 1 with value: 0.5238095238095238.\n",
            "[I 2024-04-15 15:15:49,386] Trial 409 finished with value: 0.47619047619047616 and parameters: {'tol': 0.0003280229158130346, 'C': 0.014875279496439329, 'max_iter': 200, 'fit_intercept': True, 'penalty': 'none'}. Best is trial 1 with value: 0.5238095238095238.\n",
            "[I 2024-04-15 15:15:49,431] Trial 410 finished with value: 0.5238095238095238 and parameters: {'tol': 0.000948459249546403, 'C': 0.058860576378174274, 'max_iter': 700, 'fit_intercept': True, 'penalty': 'l2'}. Best is trial 1 with value: 0.5238095238095238.\n",
            "[I 2024-04-15 15:15:49,493] Trial 411 finished with value: 0.5238095238095238 and parameters: {'tol': 0.0005310275415569547, 'C': 0.21941968918792729, 'max_iter': 500, 'fit_intercept': True, 'penalty': 'none'}. Best is trial 1 with value: 0.5238095238095238.\n",
            "[I 2024-04-15 15:15:49,526] Trial 412 finished with value: 0.5238095238095238 and parameters: {'tol': 0.00022386710166719858, 'C': 0.026005711102490354, 'max_iter': 4600, 'fit_intercept': False, 'penalty': 'l2'}. Best is trial 1 with value: 0.5238095238095238.\n",
            "[I 2024-04-15 15:15:49,583] Trial 413 finished with value: 0.5238095238095238 and parameters: {'tol': 0.000174945878562969, 'C': 0.039314478642772537, 'max_iter': 3500, 'fit_intercept': True, 'penalty': 'none'}. Best is trial 1 with value: 0.5238095238095238.\n",
            "[I 2024-04-15 15:15:49,642] Trial 414 finished with value: 0.5238095238095238 and parameters: {'tol': 0.0007282502633877806, 'C': 0.0961669103984587, 'max_iter': 5000, 'fit_intercept': True, 'penalty': 'none'}. Best is trial 1 with value: 0.5238095238095238.\n",
            "[I 2024-04-15 15:15:49,674] Trial 415 finished with value: 0.5238095238095238 and parameters: {'tol': 0.0003585604355907659, 'C': 0.030345880223210095, 'max_iter': 4000, 'fit_intercept': True, 'penalty': 'l2'}. Best is trial 1 with value: 0.5238095238095238.\n",
            "[I 2024-04-15 15:15:49,731] Trial 416 finished with value: 0.5238095238095238 and parameters: {'tol': 0.0004693276237965627, 'C': 0.11389644014495184, 'max_iter': 2200, 'fit_intercept': True, 'penalty': 'none'}. Best is trial 1 with value: 0.5238095238095238.\n",
            "[I 2024-04-15 15:15:49,787] Trial 417 finished with value: 0.5238095238095238 and parameters: {'tol': 0.0006086556901780169, 'C': 0.1455091184641693, 'max_iter': 1600, 'fit_intercept': True, 'penalty': 'none'}. Best is trial 1 with value: 0.5238095238095238.\n",
            "[I 2024-04-15 15:15:49,835] Trial 418 finished with value: 0.5238095238095238 and parameters: {'tol': 0.0005145417900794552, 'C': 0.08317446239208391, 'max_iter': 3700, 'fit_intercept': True, 'penalty': 'l2'}. Best is trial 1 with value: 0.5238095238095238.\n",
            "[I 2024-04-15 15:15:49,898] Trial 419 finished with value: 0.5238095238095238 and parameters: {'tol': 0.00039134543772231247, 'C': 0.6664468798879127, 'max_iter': 4800, 'fit_intercept': True, 'penalty': 'none'}. Best is trial 1 with value: 0.5238095238095238.\n",
            "[I 2024-04-15 15:15:49,930] Trial 420 finished with value: 0.47619047619047616 and parameters: {'tol': 0.0002723218183581295, 'C': 0.02043299648231794, 'max_iter': 3300, 'fit_intercept': True, 'penalty': 'l2'}. Best is trial 1 with value: 0.5238095238095238.\n",
            "[I 2024-04-15 15:15:49,987] Trial 421 finished with value: 0.5238095238095238 and parameters: {'tol': 7.911503609316678e-05, 'C': 0.07348495225684713, 'max_iter': 1000, 'fit_intercept': True, 'penalty': 'none'}. Best is trial 1 with value: 0.5238095238095238.\n",
            "[I 2024-04-15 15:15:50,049] Trial 422 finished with value: 0.5238095238095238 and parameters: {'tol': 0.0004168830883545193, 'C': 0.05339486009982651, 'max_iter': 2700, 'fit_intercept': True, 'penalty': 'none'}. Best is trial 1 with value: 0.5238095238095238.\n",
            "[I 2024-04-15 15:15:50,104] Trial 423 finished with value: 0.5238095238095238 and parameters: {'tol': 0.0004972481494036898, 'C': 0.7851498828868669, 'max_iter': 1400, 'fit_intercept': True, 'penalty': 'l2'}. Best is trial 1 with value: 0.5238095238095238.\n",
            "[I 2024-04-15 15:15:50,167] Trial 424 finished with value: 0.5238095238095238 and parameters: {'tol': 0.00012406037850004985, 'C': 0.1598495965917473, 'max_iter': 3000, 'fit_intercept': True, 'penalty': 'none'}. Best is trial 1 with value: 0.5238095238095238.\n",
            "[I 2024-04-15 15:15:50,224] Trial 425 finished with value: 0.5238095238095238 and parameters: {'tol': 0.0009720848403290613, 'C': 0.01743978536661644, 'max_iter': 2400, 'fit_intercept': True, 'penalty': 'none'}. Best is trial 1 with value: 0.5238095238095238.\n",
            "[I 2024-04-15 15:15:50,274] Trial 426 finished with value: 0.5238095238095238 and parameters: {'tol': 0.0006481987524192346, 'C': 0.19862066798537806, 'max_iter': 3200, 'fit_intercept': True, 'penalty': 'l2'}. Best is trial 1 with value: 0.5238095238095238.\n",
            "[I 2024-04-15 15:15:50,338] Trial 427 finished with value: 0.5238095238095238 and parameters: {'tol': 0.0001933237763759232, 'C': 0.03294341472576488, 'max_iter': 400, 'fit_intercept': True, 'penalty': 'none'}. Best is trial 1 with value: 0.5238095238095238.\n",
            "[I 2024-04-15 15:15:50,393] Trial 428 finished with value: 0.5238095238095238 and parameters: {'tol': 0.00014812611587721909, 'C': 0.48995042419646045, 'max_iter': 2000, 'fit_intercept': True, 'penalty': 'l2'}. Best is trial 1 with value: 0.5238095238095238.\n",
            "[I 2024-04-15 15:15:50,452] Trial 429 finished with value: 0.5238095238095238 and parameters: {'tol': 0.0002916606754415023, 'C': 0.24155445463099454, 'max_iter': 4200, 'fit_intercept': True, 'penalty': 'none'}. Best is trial 1 with value: 0.5238095238095238.\n",
            "[I 2024-04-15 15:15:50,516] Trial 430 finished with value: 0.5238095238095238 and parameters: {'tol': 0.000240452946123572, 'C': 0.12848476383187815, 'max_iter': 2600, 'fit_intercept': True, 'penalty': 'none'}. Best is trial 1 with value: 0.5238095238095238.\n",
            "[I 2024-04-15 15:15:50,549] Trial 431 finished with value: 0.5238095238095238 and parameters: {'tol': 0.000999092057887673, 'C': 0.06268920878011432, 'max_iter': 900, 'fit_intercept': False, 'penalty': 'l2'}. Best is trial 1 with value: 0.5238095238095238.\n",
            "[I 2024-04-15 15:15:50,606] Trial 432 finished with value: 0.5238095238095238 and parameters: {'tol': 0.0003368479098120221, 'C': 0.044462868207236016, 'max_iter': 1200, 'fit_intercept': True, 'penalty': 'none'}. Best is trial 1 with value: 0.5238095238095238.\n",
            "[I 2024-04-15 15:15:50,669] Trial 433 finished with value: 0.5238095238095238 and parameters: {'tol': 0.0005527835629342466, 'C': 0.024012531516185823, 'max_iter': 2300, 'fit_intercept': True, 'penalty': 'none'}. Best is trial 1 with value: 0.5238095238095238.\n",
            "[I 2024-04-15 15:15:50,718] Trial 434 finished with value: 0.5238095238095238 and parameters: {'tol': 0.0004864668947972791, 'C': 0.0493775053149813, 'max_iter': 2800, 'fit_intercept': True, 'penalty': 'l2'}. Best is trial 1 with value: 0.5238095238095238.\n",
            "[I 2024-04-15 15:15:50,782] Trial 435 finished with value: 0.5238095238095238 and parameters: {'tol': 0.0004450582700529041, 'C': 0.40458725972345544, 'max_iter': 1600, 'fit_intercept': True, 'penalty': 'none'}. Best is trial 1 with value: 0.5238095238095238.\n",
            "[I 2024-04-15 15:15:50,831] Trial 436 finished with value: 0.5238095238095238 and parameters: {'tol': 0.0003166000370699823, 'C': 0.1418889956909986, 'max_iter': 4500, 'fit_intercept': True, 'penalty': 'l2'}. Best is trial 1 with value: 0.5238095238095238.\n",
            "[I 2024-04-15 15:15:50,894] Trial 437 finished with value: 0.5238095238095238 and parameters: {'tol': 0.00010466611762285333, 'C': 0.029695396246513288, 'max_iter': 3500, 'fit_intercept': True, 'penalty': 'none'}. Best is trial 1 with value: 0.5238095238095238.\n",
            "[I 2024-04-15 15:15:50,956] Trial 438 finished with value: 0.5238095238095238 and parameters: {'tol': 0.0008894254372007533, 'C': 0.1668776541314921, 'max_iter': 1500, 'fit_intercept': True, 'penalty': 'none'}. Best is trial 1 with value: 0.5238095238095238.\n",
            "[I 2024-04-15 15:15:50,996] Trial 439 finished with value: 0.5238095238095238 and parameters: {'tol': 0.00020746962222127505, 'C': 0.07648019300589937, 'max_iter': 600, 'fit_intercept': True, 'penalty': 'l2'}. Best is trial 1 with value: 0.5238095238095238.\n",
            "[I 2024-04-15 15:15:51,055] Trial 440 finished with value: 0.5238095238095238 and parameters: {'tol': 0.0009473765898213713, 'C': 0.0901562580293919, 'max_iter': 3900, 'fit_intercept': True, 'penalty': 'none'}. Best is trial 1 with value: 0.5238095238095238.\n",
            "[I 2024-04-15 15:15:51,115] Trial 441 finished with value: 0.5238095238095238 and parameters: {'tol': 0.0005759588751194317, 'C': 0.035081435177568475, 'max_iter': 3000, 'fit_intercept': True, 'penalty': 'none'}. Best is trial 1 with value: 0.5238095238095238.\n",
            "[I 2024-04-15 15:15:51,168] Trial 442 finished with value: 0.5238095238095238 and parameters: {'tol': 1.31468582953166e-05, 'C': 0.06632568912182916, 'max_iter': 1300, 'fit_intercept': True, 'penalty': 'l2'}. Best is trial 1 with value: 0.5238095238095238.\n",
            "[I 2024-04-15 15:15:51,228] Trial 443 finished with value: 0.5238095238095238 and parameters: {'tol': 0.0009230913450043816, 'C': 0.10515163299038106, 'max_iter': 300, 'fit_intercept': True, 'penalty': 'none'}. Best is trial 1 with value: 0.5238095238095238.\n",
            "[I 2024-04-15 15:15:51,271] Trial 444 finished with value: 0.5238095238095238 and parameters: {'tol': 0.0006317124225775853, 'C': 0.1579039886765399, 'max_iter': 1400, 'fit_intercept': True, 'penalty': 'l2'}. Best is trial 1 with value: 0.5238095238095238.\n",
            "[I 2024-04-15 15:15:51,330] Trial 445 finished with value: 0.5238095238095238 and parameters: {'tol': 0.0007144268531536705, 'C': 0.027937762751172577, 'max_iter': 3100, 'fit_intercept': True, 'penalty': 'none'}. Best is trial 1 with value: 0.5238095238095238.\n",
            "[I 2024-04-15 15:15:51,390] Trial 446 finished with value: 0.5238095238095238 and parameters: {'tol': 0.0009664329346928078, 'C': 0.18665897266849837, 'max_iter': 1100, 'fit_intercept': True, 'penalty': 'none'}. Best is trial 1 with value: 0.5238095238095238.\n",
            "[I 2024-04-15 15:15:51,422] Trial 447 finished with value: 0.42857142857142855 and parameters: {'tol': 0.0001731854983640361, 'C': 0.016489527430981647, 'max_iter': 200, 'fit_intercept': True, 'penalty': 'l2'}. Best is trial 1 with value: 0.5238095238095238.\n",
            "[I 2024-04-15 15:15:51,480] Trial 448 finished with value: 0.5238095238095238 and parameters: {'tol': 0.0006704546238481624, 'C': 0.05842120918860156, 'max_iter': 2800, 'fit_intercept': True, 'penalty': 'none'}. Best is trial 1 with value: 0.5238095238095238.\n",
            "[I 2024-04-15 15:15:51,537] Trial 449 finished with value: 0.5238095238095238 and parameters: {'tol': 0.0007438828710815609, 'C': 0.5499700842907682, 'max_iter': 1800, 'fit_intercept': True, 'penalty': 'none'}. Best is trial 1 with value: 0.5238095238095238.\n",
            "[I 2024-04-15 15:15:51,573] Trial 450 finished with value: 0.5238095238095238 and parameters: {'tol': 0.0005070296012625508, 'C': 0.06943791944624779, 'max_iter': 2600, 'fit_intercept': False, 'penalty': 'l2'}. Best is trial 1 with value: 0.5238095238095238.\n",
            "[I 2024-04-15 15:15:51,630] Trial 451 finished with value: 0.5238095238095238 and parameters: {'tol': 0.0002328640869683745, 'C': 0.3252849373746961, 'max_iter': 3400, 'fit_intercept': True, 'penalty': 'none'}. Best is trial 1 with value: 0.5238095238095238.\n",
            "[I 2024-04-15 15:15:51,684] Trial 452 finished with value: 0.5238095238095238 and parameters: {'tol': 0.0002705780763067402, 'C': 0.11759368450216659, 'max_iter': 1700, 'fit_intercept': True, 'penalty': 'l2'}. Best is trial 1 with value: 0.5238095238095238.\n",
            "[I 2024-04-15 15:15:51,742] Trial 453 finished with value: 0.5238095238095238 and parameters: {'tol': 0.00046244602617809933, 'C': 0.022524200277591038, 'max_iter': 3700, 'fit_intercept': True, 'penalty': 'none'}. Best is trial 1 with value: 0.5238095238095238.\n",
            "[I 2024-04-15 15:15:51,802] Trial 454 finished with value: 0.5238095238095238 and parameters: {'tol': 0.0005338851991035086, 'C': 0.0382379623824816, 'max_iter': 500, 'fit_intercept': True, 'penalty': 'none'}. Best is trial 1 with value: 0.5238095238095238.\n",
            "[I 2024-04-15 15:15:51,854] Trial 455 finished with value: 0.5238095238095238 and parameters: {'tol': 0.0008203778986701336, 'C': 0.08254603030627967, 'max_iter': 4100, 'fit_intercept': True, 'penalty': 'l2'}. Best is trial 1 with value: 0.5238095238095238.\n",
            "[I 2024-04-15 15:15:51,917] Trial 456 finished with value: 0.5238095238095238 and parameters: {'tol': 9.008066041667551e-05, 'C': 0.3695164008996453, 'max_iter': 2100, 'fit_intercept': True, 'penalty': 'none'}. Best is trial 1 with value: 0.5238095238095238.\n",
            "[I 2024-04-15 15:15:51,980] Trial 457 finished with value: 0.5238095238095238 and parameters: {'tol': 0.0003636931281615313, 'C': 0.14781840964349616, 'max_iter': 2900, 'fit_intercept': True, 'penalty': 'none'}. Best is trial 1 with value: 0.5238095238095238.\n",
            "[I 2024-04-15 15:15:52,014] Trial 458 finished with value: 0.42857142857142855 and parameters: {'tol': 3.6825204140503574e-05, 'C': 0.013909347080460058, 'max_iter': 800, 'fit_intercept': True, 'penalty': 'l2'}. Best is trial 1 with value: 0.5238095238095238.\n",
            "[I 2024-04-15 15:15:52,070] Trial 459 finished with value: 0.5238095238095238 and parameters: {'tol': 0.0009829814518789596, 'C': 0.026095304926342558, 'max_iter': 3200, 'fit_intercept': True, 'penalty': 'none'}. Best is trial 1 with value: 0.5238095238095238.\n",
            "[I 2024-04-15 15:15:52,117] Trial 460 finished with value: 0.5238095238095238 and parameters: {'tol': 0.0006962096348769689, 'C': 0.09714401787595767, 'max_iter': 4600, 'fit_intercept': True, 'penalty': 'l2'}. Best is trial 1 with value: 0.5238095238095238.\n",
            "[I 2024-04-15 15:15:52,176] Trial 461 finished with value: 0.5238095238095238 and parameters: {'tol': 0.0003022848759980761, 'C': 0.13608846127295887, 'max_iter': 4300, 'fit_intercept': True, 'penalty': 'none'}. Best is trial 1 with value: 0.5238095238095238.\n",
            "[I 2024-04-15 15:15:52,237] Trial 462 finished with value: 0.5238095238095238 and parameters: {'tol': 0.00014210306598324987, 'C': 0.01231390115809079, 'max_iter': 2300, 'fit_intercept': True, 'penalty': 'none'}. Best is trial 1 with value: 0.5238095238095238.\n",
            "[I 2024-04-15 15:15:52,286] Trial 463 finished with value: 0.5238095238095238 and parameters: {'tol': 0.0004249580005312676, 'C': 0.1752436552690855, 'max_iter': 1900, 'fit_intercept': True, 'penalty': 'l2'}. Best is trial 1 with value: 0.5238095238095238.\n",
            "[I 2024-04-15 15:15:52,345] Trial 464 finished with value: 0.5238095238095238 and parameters: {'tol': 0.00025467328312269864, 'C': 0.2599347587020296, 'max_iter': 4900, 'fit_intercept': True, 'penalty': 'none'}. Best is trial 1 with value: 0.5238095238095238.\n",
            "[I 2024-04-15 15:15:52,404] Trial 465 finished with value: 0.5238095238095238 and parameters: {'tol': 0.0003480419173989827, 'C': 0.22133331592287958, 'max_iter': 400, 'fit_intercept': True, 'penalty': 'none'}. Best is trial 1 with value: 0.5238095238095238.\n",
            "[I 2024-04-15 15:15:52,455] Trial 466 finished with value: 0.5238095238095238 and parameters: {'tol': 6.576134505794853e-05, 'C': 0.05478356068027862, 'max_iter': 700, 'fit_intercept': True, 'penalty': 'l2'}. Best is trial 1 with value: 0.5238095238095238.\n",
            "[I 2024-04-15 15:15:52,516] Trial 467 finished with value: 0.5238095238095238 and parameters: {'tol': 0.00016175624982329848, 'C': 0.03341338245197585, 'max_iter': 2700, 'fit_intercept': True, 'penalty': 'none'}. Best is trial 1 with value: 0.5238095238095238.\n",
            "[I 2024-04-15 15:15:52,563] Trial 468 finished with value: 0.5238095238095238 and parameters: {'tol': 0.0007873571260063254, 'C': 0.040921024602318494, 'max_iter': 4800, 'fit_intercept': True, 'penalty': 'l2'}. Best is trial 1 with value: 0.5238095238095238.\n",
            "[I 2024-04-15 15:15:52,601] Trial 469 finished with value: 0.47619047619047616 and parameters: {'tol': 0.0003279652064906393, 'C': 0.07392552992173887, 'max_iter': 1500, 'fit_intercept': False, 'penalty': 'none'}. Best is trial 1 with value: 0.5238095238095238.\n",
            "[I 2024-04-15 15:15:52,660] Trial 470 finished with value: 0.5238095238095238 and parameters: {'tol': 0.00018816412551452463, 'C': 0.020195438243991528, 'max_iter': 3100, 'fit_intercept': True, 'penalty': 'none'}. Best is trial 1 with value: 0.5238095238095238.\n",
            "[I 2024-04-15 15:15:52,708] Trial 471 finished with value: 0.5238095238095238 and parameters: {'tol': 0.00048601062731184076, 'C': 0.047543979248210515, 'max_iter': 2500, 'fit_intercept': True, 'penalty': 'l2'}. Best is trial 1 with value: 0.5238095238095238.\n",
            "[I 2024-04-15 15:15:52,773] Trial 472 finished with value: 0.5238095238095238 and parameters: {'tol': 0.00022548541333263766, 'C': 0.06185039882440893, 'max_iter': 1300, 'fit_intercept': True, 'penalty': 'none'}. Best is trial 1 with value: 0.5238095238095238.\n",
            "[I 2024-04-15 15:15:52,832] Trial 473 finished with value: 0.5238095238095238 and parameters: {'tol': 0.0005158668569006367, 'C': 0.0301187944683741, 'max_iter': 3300, 'fit_intercept': True, 'penalty': 'none'}. Best is trial 1 with value: 0.5238095238095238.\n",
            "[I 2024-04-15 15:15:52,865] Trial 474 finished with value: 0.42857142857142855 and parameters: {'tol': 0.0002089415418317517, 'C': 0.018877188200846086, 'max_iter': 4400, 'fit_intercept': True, 'penalty': 'l2'}. Best is trial 1 with value: 0.5238095238095238.\n",
            "[I 2024-04-15 15:15:52,923] Trial 475 finished with value: 0.5238095238095238 and parameters: {'tol': 0.00028307968574639255, 'C': 0.1981269588172002, 'max_iter': 3600, 'fit_intercept': True, 'penalty': 'none'}. Best is trial 1 with value: 0.5238095238095238.\n",
            "[I 2024-04-15 15:15:52,982] Trial 476 finished with value: 0.5238095238095238 and parameters: {'tol': 0.0005379847646194836, 'C': 0.28770390419152925, 'max_iter': 3800, 'fit_intercept': True, 'penalty': 'l2'}. Best is trial 1 with value: 0.5238095238095238.\n",
            "[I 2024-04-15 15:15:53,041] Trial 477 finished with value: 0.5238095238095238 and parameters: {'tol': 0.00011673543113218739, 'C': 0.12971430845872667, 'max_iter': 1600, 'fit_intercept': True, 'penalty': 'none'}. Best is trial 1 with value: 0.5238095238095238.\n",
            "[I 2024-04-15 15:15:53,081] Trial 478 finished with value: 0.47619047619047616 and parameters: {'tol': 0.0007673119167008575, 'C': 0.08528036908043705, 'max_iter': 100, 'fit_intercept': True, 'penalty': 'none'}. Best is trial 1 with value: 0.5238095238095238.\n",
            "[I 2024-04-15 15:15:53,132] Trial 479 finished with value: 0.5238095238095238 and parameters: {'tol': 0.00047004774321927006, 'C': 0.1580474858081003, 'max_iter': 900, 'fit_intercept': True, 'penalty': 'l2'}. Best is trial 1 with value: 0.5238095238095238.\n",
            "[I 2024-04-15 15:15:53,192] Trial 480 finished with value: 0.5238095238095238 and parameters: {'tol': 0.0008630880418706799, 'C': 0.024691949746700442, 'max_iter': 1700, 'fit_intercept': True, 'penalty': 'none'}. Best is trial 1 with value: 0.5238095238095238.\n",
            "[I 2024-04-15 15:15:53,250] Trial 481 finished with value: 0.5238095238095238 and parameters: {'tol': 0.0009642180992370852, 'C': 0.42204549940866526, 'max_iter': 2900, 'fit_intercept': True, 'penalty': 'none'}. Best is trial 1 with value: 0.5238095238095238.\n",
            "[I 2024-04-15 15:15:53,306] Trial 482 finished with value: 0.5238095238095238 and parameters: {'tol': 0.0003798471889683401, 'C': 0.17487435075248775, 'max_iter': 4700, 'fit_intercept': True, 'penalty': 'l2'}. Best is trial 1 with value: 0.5238095238095238.\n",
            "[I 2024-04-15 15:15:53,375] Trial 483 finished with value: 0.5238095238095238 and parameters: {'tol': 0.0003091605615412763, 'C': 0.07961735606712697, 'max_iter': 2800, 'fit_intercept': True, 'penalty': 'none'}. Best is trial 1 with value: 0.5238095238095238.\n",
            "[I 2024-04-15 15:15:53,423] Trial 484 finished with value: 0.5238095238095238 and parameters: {'tol': 0.0009354807297253738, 'C': 0.06996125783090831, 'max_iter': 3000, 'fit_intercept': True, 'penalty': 'l2'}. Best is trial 1 with value: 0.5238095238095238.\n",
            "[I 2024-04-15 15:15:53,484] Trial 485 finished with value: 0.5238095238095238 and parameters: {'tol': 0.0005032196850480596, 'C': 0.09500423735650132, 'max_iter': 1400, 'fit_intercept': True, 'penalty': 'none'}. Best is trial 1 with value: 0.5238095238095238.\n",
            "[I 2024-04-15 15:15:53,547] Trial 486 finished with value: 0.5238095238095238 and parameters: {'tol': 0.0005863732796551012, 'C': 0.015337770674740361, 'max_iter': 1000, 'fit_intercept': True, 'penalty': 'none'}. Best is trial 1 with value: 0.5238095238095238.\n",
            "[I 2024-04-15 15:15:53,609] Trial 487 finished with value: 0.5238095238095238 and parameters: {'tol': 0.0002470420786400722, 'C': 0.11318817278447348, 'max_iter': 1200, 'fit_intercept': True, 'penalty': 'l2'}. Best is trial 1 with value: 0.5238095238095238.\n",
            "[I 2024-04-15 15:15:53,666] Trial 488 finished with value: 0.5238095238095238 and parameters: {'tol': 0.0009999940450017048, 'C': 0.05181978126495742, 'max_iter': 3900, 'fit_intercept': True, 'penalty': 'none'}. Best is trial 1 with value: 0.5238095238095238.\n",
            "[I 2024-04-15 15:15:53,708] Trial 489 finished with value: 0.47619047619047616 and parameters: {'tol': 0.0004053118358941616, 'C': 0.14418108750702674, 'max_iter': 2500, 'fit_intercept': False, 'penalty': 'none'}. Best is trial 1 with value: 0.5238095238095238.\n",
            "[I 2024-04-15 15:15:53,742] Trial 490 finished with value: 0.5238095238095238 and parameters: {'tol': 0.0008411774289129592, 'C': 0.027760030261817933, 'max_iter': 600, 'fit_intercept': True, 'penalty': 'l2'}. Best is trial 1 with value: 0.5238095238095238.\n",
            "[I 2024-04-15 15:15:53,802] Trial 491 finished with value: 0.5238095238095238 and parameters: {'tol': 0.0004375598203268967, 'C': 0.46628691333653227, 'max_iter': 2700, 'fit_intercept': True, 'penalty': 'none'}. Best is trial 1 with value: 0.5238095238095238.\n",
            "[I 2024-04-15 15:15:53,845] Trial 492 finished with value: 0.5238095238095238 and parameters: {'tol': 0.0006188524967742948, 'C': 0.036517805203126225, 'max_iter': 1500, 'fit_intercept': True, 'penalty': 'l2'}. Best is trial 1 with value: 0.5238095238095238.\n",
            "[I 2024-04-15 15:15:53,907] Trial 493 finished with value: 0.5238095238095238 and parameters: {'tol': 7.461621062691994e-05, 'C': 0.05956855214622985, 'max_iter': 2200, 'fit_intercept': True, 'penalty': 'none'}. Best is trial 1 with value: 0.5238095238095238.\n",
            "[I 2024-04-15 15:15:53,968] Trial 494 finished with value: 0.5238095238095238 and parameters: {'tol': 0.0005599413639103271, 'C': 0.04486219105531506, 'max_iter': 2000, 'fit_intercept': True, 'penalty': 'none'}. Best is trial 1 with value: 0.5238095238095238.\n",
            "[I 2024-04-15 15:15:54,013] Trial 495 finished with value: 0.47619047619047616 and parameters: {'tol': 0.00016735228366517474, 'C': 0.02136930729566238, 'max_iter': 3400, 'fit_intercept': True, 'penalty': 'l2'}. Best is trial 1 with value: 0.5238095238095238.\n",
            "[I 2024-04-15 15:15:54,078] Trial 496 finished with value: 0.5238095238095238 and parameters: {'tol': 0.00012617125134409686, 'C': 0.6646777234197359, 'max_iter': 400, 'fit_intercept': True, 'penalty': 'none'}. Best is trial 1 with value: 0.5238095238095238.\n",
            "[I 2024-04-15 15:15:54,139] Trial 497 finished with value: 0.5238095238095238 and parameters: {'tol': 0.0009001206411888872, 'C': 0.06613186886154251, 'max_iter': 2600, 'fit_intercept': True, 'penalty': 'none'}. Best is trial 1 with value: 0.5238095238095238.\n",
            "[I 2024-04-15 15:15:54,195] Trial 498 finished with value: 0.5238095238095238 and parameters: {'tol': 0.00019173909180509555, 'C': 0.16977469403368026, 'max_iter': 700, 'fit_intercept': True, 'penalty': 'l2'}. Best is trial 1 with value: 0.5238095238095238.\n",
            "[I 2024-04-15 15:15:54,257] Trial 499 finished with value: 0.5238095238095238 and parameters: {'tol': 0.00029225629994888947, 'C': 0.031476568714303765, 'max_iter': 4000, 'fit_intercept': True, 'penalty': 'none'}. Best is trial 1 with value: 0.5238095238095238.\n"
          ]
        },
        {
          "name": "stdout",
          "output_type": "stream",
          "text": [
            "numbers of the finished trials: 500\n",
            "the best params: {'tol': 0.00021485230154779563, 'C': 0.12961382406882044, 'max_iter': 300, 'fit_intercept': True, 'penalty': 'l2'}\n",
            "the best value: 0.5238095238095238\n"
          ]
        }
      ],
      "source": [
        "study = optuna.create_study(direction = 'maximize' , study_name = 'lr' , pruner = optuna.pruners.HyperbandPruner())\n",
        "study.optimize(objective, n_trials = 500)\n",
        "print('numbers of the finished trials:' , len(study.trials))\n",
        "print('the best params:' , study.best_trial.params)\n",
        "print('the best value:' , study.best_value)"
      ]
    },
    {
      "cell_type": "markdown",
      "metadata": {
        "id": "KZkN6RRThqNH"
      },
      "source": [
        "# HYPEROPT"
      ]
    },
    {
      "cell_type": "code",
      "execution_count": 32,
      "metadata": {},
      "outputs": [
        {
          "name": "stdout",
          "output_type": "stream",
          "text": [
            "Collecting hyperopt\n",
            "  Downloading hyperopt-0.2.7-py2.py3-none-any.whl.metadata (1.7 kB)\n",
            "Requirement already satisfied: numpy in c:\\users\\athud\\appdata\\local\\programs\\python\\python39\\lib\\site-packages (from hyperopt) (1.26.1)\n",
            "Requirement already satisfied: scipy in c:\\users\\athud\\appdata\\local\\programs\\python\\python39\\lib\\site-packages (from hyperopt) (1.7.3)\n",
            "Requirement already satisfied: six in c:\\users\\athud\\appdata\\local\\programs\\python\\python39\\lib\\site-packages (from hyperopt) (1.16.0)\n",
            "Requirement already satisfied: networkx>=2.2 in c:\\users\\athud\\appdata\\local\\programs\\python\\python39\\lib\\site-packages (from hyperopt) (3.0)\n",
            "Collecting future (from hyperopt)\n",
            "  Downloading future-1.0.0-py3-none-any.whl.metadata (4.0 kB)\n",
            "Requirement already satisfied: tqdm in c:\\users\\athud\\appdata\\local\\programs\\python\\python39\\lib\\site-packages (from hyperopt) (4.66.1)\n",
            "Requirement already satisfied: cloudpickle in c:\\users\\athud\\appdata\\local\\programs\\python\\python39\\lib\\site-packages (from hyperopt) (2.2.0)\n",
            "Collecting py4j (from hyperopt)\n",
            "  Downloading py4j-0.10.9.7-py2.py3-none-any.whl.metadata (1.5 kB)\n",
            "Collecting numpy (from hyperopt)\n",
            "  Downloading numpy-1.22.4-cp39-cp39-win_amd64.whl.metadata (2.1 kB)\n",
            "Requirement already satisfied: colorama in c:\\users\\athud\\appdata\\local\\programs\\python\\python39\\lib\\site-packages (from tqdm->hyperopt) (0.4.4)\n",
            "Downloading hyperopt-0.2.7-py2.py3-none-any.whl (1.6 MB)\n",
            "   ---------------------------------------- 0.0/1.6 MB ? eta -:--:--\n",
            "   -- ------------------------------------- 0.1/1.6 MB 2.6 MB/s eta 0:00:01\n",
            "   ------ --------------------------------- 0.3/1.6 MB 4.3 MB/s eta 0:00:01\n",
            "   ---------------- ----------------------- 0.6/1.6 MB 5.0 MB/s eta 0:00:01\n",
            "   ----------------------- ---------------- 0.9/1.6 MB 5.4 MB/s eta 0:00:01\n",
            "   ------------------------------- -------- 1.2/1.6 MB 5.6 MB/s eta 0:00:01\n",
            "   ---------------------------------------  1.6/1.6 MB 6.3 MB/s eta 0:00:01\n",
            "   ---------------------------------------- 1.6/1.6 MB 5.9 MB/s eta 0:00:00\n",
            "Downloading future-1.0.0-py3-none-any.whl (491 kB)\n",
            "   ---------------------------------------- 0.0/491.3 kB ? eta -:--:--\n",
            "   --------------------------- ------------ 337.9/491.3 kB 7.0 MB/s eta 0:00:01\n",
            "   ---------------------------------------- 491.3/491.3 kB 7.8 MB/s eta 0:00:00\n",
            "Downloading py4j-0.10.9.7-py2.py3-none-any.whl (200 kB)\n",
            "   ---------------------------------------- 0.0/200.5 kB ? eta -:--:--\n",
            "   -------------------------------------- - 194.6/200.5 kB 5.8 MB/s eta 0:00:01\n",
            "   ---------------------------------------- 200.5/200.5 kB 4.0 MB/s eta 0:00:00\n",
            "Downloading numpy-1.22.4-cp39-cp39-win_amd64.whl (14.7 MB)\n",
            "   ---------------------------------------- 0.0/14.7 MB ? eta -:--:--\n",
            "   ---------------------------------------- 0.1/14.7 MB ? eta -:--:--\n",
            "   - -------------------------------------- 0.6/14.7 MB 7.1 MB/s eta 0:00:03\n",
            "   -- ------------------------------------- 0.9/14.7 MB 7.2 MB/s eta 0:00:02\n",
            "   --- ------------------------------------ 1.3/14.7 MB 7.4 MB/s eta 0:00:02\n",
            "   ---- ----------------------------------- 1.6/14.7 MB 7.2 MB/s eta 0:00:02\n",
            "   ----- ---------------------------------- 2.0/14.7 MB 7.4 MB/s eta 0:00:02\n",
            "   ------ --------------------------------- 2.3/14.7 MB 7.4 MB/s eta 0:00:02\n",
            "   ------- -------------------------------- 2.7/14.7 MB 7.5 MB/s eta 0:00:02\n",
            "   -------- ------------------------------- 3.2/14.7 MB 7.7 MB/s eta 0:00:02\n",
            "   --------- ------------------------------ 3.5/14.7 MB 7.6 MB/s eta 0:00:02\n",
            "   ---------- ----------------------------- 3.9/14.7 MB 7.8 MB/s eta 0:00:02\n",
            "   ----------- ---------------------------- 4.3/14.7 MB 7.9 MB/s eta 0:00:02\n",
            "   ------------ --------------------------- 4.7/14.7 MB 7.9 MB/s eta 0:00:02\n",
            "   ------------- -------------------------- 5.0/14.7 MB 7.8 MB/s eta 0:00:02\n",
            "   -------------- ------------------------- 5.2/14.7 MB 7.6 MB/s eta 0:00:02\n",
            "   --------------- ------------------------ 5.6/14.7 MB 7.6 MB/s eta 0:00:02\n",
            "   ---------------- ----------------------- 5.9/14.7 MB 7.6 MB/s eta 0:00:02\n",
            "   ----------------- ---------------------- 6.3/14.7 MB 7.6 MB/s eta 0:00:02\n",
            "   ----------------- ---------------------- 6.6/14.7 MB 7.5 MB/s eta 0:00:02\n",
            "   ------------------ --------------------- 6.8/14.7 MB 7.5 MB/s eta 0:00:02\n",
            "   ------------------- -------------------- 7.1/14.7 MB 7.3 MB/s eta 0:00:02\n",
            "   ------------------- -------------------- 7.3/14.7 MB 7.2 MB/s eta 0:00:02\n",
            "   -------------------- ------------------- 7.6/14.7 MB 7.1 MB/s eta 0:00:02\n",
            "   --------------------- ------------------ 7.9/14.7 MB 7.1 MB/s eta 0:00:01\n",
            "   ---------------------- ----------------- 8.2/14.7 MB 7.1 MB/s eta 0:00:01\n",
            "   ----------------------- ---------------- 8.6/14.7 MB 7.1 MB/s eta 0:00:01\n",
            "   ------------------------ --------------- 8.9/14.7 MB 7.2 MB/s eta 0:00:01\n",
            "   ------------------------ --------------- 9.2/14.7 MB 7.1 MB/s eta 0:00:01\n",
            "   ------------------------- -------------- 9.3/14.7 MB 6.9 MB/s eta 0:00:01\n",
            "   -------------------------- ------------- 9.6/14.7 MB 6.9 MB/s eta 0:00:01\n",
            "   --------------------------- ------------ 10.0/14.7 MB 7.0 MB/s eta 0:00:01\n",
            "   --------------------------- ------------ 10.3/14.7 MB 6.9 MB/s eta 0:00:01\n",
            "   ---------------------------- ----------- 10.6/14.7 MB 7.0 MB/s eta 0:00:01\n",
            "   ----------------------------- ---------- 10.8/14.7 MB 6.8 MB/s eta 0:00:01\n",
            "   ----------------------------- ---------- 11.0/14.7 MB 6.9 MB/s eta 0:00:01\n",
            "   ------------------------------ --------- 11.2/14.7 MB 6.7 MB/s eta 0:00:01\n",
            "   ------------------------------- -------- 11.7/14.7 MB 6.8 MB/s eta 0:00:01\n",
            "   -------------------------------- ------- 12.0/14.7 MB 6.8 MB/s eta 0:00:01\n",
            "   --------------------------------- ------ 12.3/14.7 MB 6.8 MB/s eta 0:00:01\n",
            "   ---------------------------------- ----- 12.6/14.7 MB 6.8 MB/s eta 0:00:01\n",
            "   ----------------------------------- ---- 13.0/14.7 MB 6.7 MB/s eta 0:00:01\n",
            "   ----------------------------------- ---- 13.3/14.7 MB 6.6 MB/s eta 0:00:01\n",
            "   ------------------------------------ --- 13.5/14.7 MB 6.5 MB/s eta 0:00:01\n",
            "   ------------------------------------- -- 13.9/14.7 MB 6.6 MB/s eta 0:00:01\n",
            "   -------------------------------------- - 14.1/14.7 MB 6.5 MB/s eta 0:00:01\n",
            "   ---------------------------------------  14.5/14.7 MB 6.5 MB/s eta 0:00:01\n",
            "   ---------------------------------------  14.7/14.7 MB 6.5 MB/s eta 0:00:01\n",
            "   ---------------------------------------- 14.7/14.7 MB 6.4 MB/s eta 0:00:00\n",
            "Installing collected packages: py4j, numpy, future, hyperopt\n",
            "  Attempting uninstall: numpy\n",
            "    Found existing installation: numpy 1.26.1\n",
            "    Uninstalling numpy-1.26.1:\n",
            "      Successfully uninstalled numpy-1.26.1\n",
            "Successfully installed future-1.0.0 hyperopt-0.2.7 numpy-1.22.4 py4j-0.10.9.7\n",
            "Note: you may need to restart the kernel to use updated packages.\n"
          ]
        },
        {
          "name": "stderr",
          "output_type": "stream",
          "text": [
            "  WARNING: Failed to remove contents in a temporary directory 'C:\\Users\\athud\\AppData\\Local\\Programs\\Python\\Python39\\Lib\\site-packages\\~umpy.libs'.\n",
            "  You can safely remove it manually.\n",
            "  WARNING: Failed to remove contents in a temporary directory 'C:\\Users\\athud\\AppData\\Local\\Programs\\Python\\Python39\\Lib\\site-packages\\~-mpy'.\n",
            "  You can safely remove it manually.\n",
            "ERROR: pip's dependency resolver does not currently take into account all the packages that are installed. This behaviour is the source of the following dependency conflicts.\n",
            "gradio 3.4.0 requires h11<0.13,>=0.11, but you have h11 0.14.0 which is incompatible.\n",
            "jina 3.15.2 requires urllib3<2.0.0, but you have urllib3 2.0.6 which is incompatible.\n",
            "langchain-serve 0.0.38 requires typing-extensions==4.5.0, but you have typing-extensions 4.11.0 which is incompatible.\n"
          ]
        }
      ],
      "source": [
        "pip install hyperopt"
      ]
    },
    {
      "cell_type": "code",
      "execution_count": 33,
      "metadata": {
        "id": "noDRsfBTgeXz"
      },
      "outputs": [],
      "source": [
        "from hyperopt import hp, tpe, fmin, Trials"
      ]
    },
    {
      "cell_type": "code",
      "execution_count": 34,
      "metadata": {
        "id": "L84zUmYQj2av"
      },
      "outputs": [],
      "source": [
        "def objective(params):\n",
        "  params['max_iter'] = int(params['max_iter'])\n",
        "  X_train, X_test, y_train, y_test = train_test_split(X, y, test_size=0.20, random_state=23)\n",
        "  logistic = linear_model.LogisticRegression(**params)\n",
        "  accuracy = logistic.fit(X_train, y_train).score(X_test, y_test)\n",
        "\n",
        "  return -accuracy"
      ]
    },
    {
      "cell_type": "code",
      "execution_count": 36,
      "metadata": {
        "colab": {
          "base_uri": "https://localhost:8080/"
        },
        "id": "S9e3re8Qjc_0",
        "outputId": "8b3ccb5c-4d05-468b-cbdc-95fb09653f1a"
      },
      "outputs": [
        {
          "name": "stdout",
          "output_type": "stream",
          "text": [
            "  0%|          | 0/500 [00:00<?, ?trial/s, best loss=?]"
          ]
        },
        {
          "name": "stdout",
          "output_type": "stream",
          "text": [
            "100%|██████████| 500/500 [00:21<00:00, 23.63trial/s, best loss: -0.5238095238095238]\n",
            "Best hyperparameters: {'C': 1.484118773476452, 'fit_intercept': 0, 'max_iter': 3700.0, 'penalty': 1, 'tol': 0.0004060044816500722}\n",
            "Best objective value: 0.5238095238095238\n"
          ]
        }
      ],
      "source": [
        "params = {\n",
        "      'tol' : hp.uniform('tol' , 1e-6 , 1e-3),\n",
        "      'C' : hp.loguniform(\"C\", 1e-2, 1),\n",
        "      'max_iter' : hp.quniform('max_iter', 100, 5000, 100),\n",
        "      'fit_intercept' : hp.choice('fit_intercept', [True, False]),\n",
        "      'penalty' : hp.choice('penalty', ['l2', 'none'])\n",
        "  }\n",
        "tpe_algo = tpe.suggest\n",
        "trials = Trials()\n",
        "\n",
        "# Run hyperparameter optimization\n",
        "best_params = fmin(\n",
        "    fn=objective,  # Objective function to minimize\n",
        "    space=params,  # Search space\n",
        "    algo=tpe_algo,  # Optimization algorithm\n",
        "    max_evals=500,  # Maximum number of evaluations\n",
        "    trials=trials,  # Trials object for tracking progress\n",
        ")\n",
        "\n",
        "print(\"Best hyperparameters:\", best_params)\n",
        "best_loss = min(trials.losses())\n",
        "print(\"Best objective value:\", -best_loss)"
      ]
    },
    {
      "cell_type": "markdown",
      "metadata": {
        "id": "Jc6w5NrJ1ox2"
      },
      "source": [
        "# SKOPT"
      ]
    },
    {
      "cell_type": "code",
      "execution_count": 37,
      "metadata": {
        "id": "8ljisSqb-JYb"
      },
      "outputs": [
        {
          "name": "stdout",
          "output_type": "stream",
          "text": [
            "Collecting scikit-optimize\n",
            "  Downloading scikit_optimize-0.10.1-py2.py3-none-any.whl.metadata (9.7 kB)\n",
            "Requirement already satisfied: joblib>=0.11 in c:\\users\\athud\\appdata\\local\\programs\\python\\python39\\lib\\site-packages (from scikit-optimize) (1.1.0)\n",
            "Collecting pyaml>=16.9 (from scikit-optimize)\n",
            "  Downloading pyaml-23.12.0-py3-none-any.whl.metadata (11 kB)\n",
            "Requirement already satisfied: numpy>=1.20.3 in c:\\users\\athud\\appdata\\local\\programs\\python\\python39\\lib\\site-packages (from scikit-optimize) (1.22.4)\n",
            "Requirement already satisfied: scipy>=1.1.0 in c:\\users\\athud\\appdata\\local\\programs\\python\\python39\\lib\\site-packages (from scikit-optimize) (1.7.3)\n",
            "Requirement already satisfied: scikit-learn>=1.0.0 in c:\\users\\athud\\appdata\\local\\programs\\python\\python39\\lib\\site-packages (from scikit-optimize) (1.0.2)\n",
            "Requirement already satisfied: packaging>=21.3 in c:\\users\\athud\\appdata\\local\\programs\\python\\python39\\lib\\site-packages (from scikit-optimize) (23.2)\n",
            "Requirement already satisfied: PyYAML in c:\\users\\athud\\appdata\\local\\programs\\python\\python39\\lib\\site-packages (from pyaml>=16.9->scikit-optimize) (6.0.1)\n",
            "Requirement already satisfied: threadpoolctl>=2.0.0 in c:\\users\\athud\\appdata\\local\\programs\\python\\python39\\lib\\site-packages (from scikit-learn>=1.0.0->scikit-optimize) (3.1.0)\n",
            "Downloading scikit_optimize-0.10.1-py2.py3-none-any.whl (107 kB)\n",
            "   ---------------------------------------- 0.0/107.7 kB ? eta -:--:--\n",
            "   -------------------------- ------------- 71.7/107.7 kB 2.0 MB/s eta 0:00:01\n",
            "   ---------------------------------------- 107.7/107.7 kB 1.6 MB/s eta 0:00:00\n",
            "Downloading pyaml-23.12.0-py3-none-any.whl (23 kB)\n",
            "Installing collected packages: pyaml, scikit-optimize\n",
            "Successfully installed pyaml-23.12.0 scikit-optimize-0.10.1\n",
            "Note: you may need to restart the kernel to use updated packages.\n"
          ]
        }
      ],
      "source": [
        "pip install scikit-optimize"
      ]
    },
    {
      "cell_type": "code",
      "execution_count": 38,
      "metadata": {
        "id": "9B0TdStN-Hse"
      },
      "outputs": [],
      "source": [
        "from skopt import BayesSearchCV\n",
        "from skopt.space import Real, Categorical, Integer"
      ]
    },
    {
      "cell_type": "code",
      "execution_count": 39,
      "metadata": {
        "id": "sA0rxm724Gc-"
      },
      "outputs": [],
      "source": [
        "X_train, X_test, y_train, y_test = train_test_split(X, y, test_size=0.20, random_state=23)\n",
        "logistic = linear_model.LogisticRegression()"
      ]
    },
    {
      "cell_type": "code",
      "execution_count": 41,
      "metadata": {
        "colab": {
          "base_uri": "https://localhost:8080/"
        },
        "id": "Cu4GF4VC-Aak",
        "outputId": "b8338152-6cb7-444d-81b7-ca09426cd9e8"
      },
      "outputs": [
        {
          "name": "stdout",
          "output_type": "stream",
          "text": [
            "Fitting 2 folds for each of 1 candidates, totalling 2 fits\n",
            "Fitting 2 folds for each of 1 candidates, totalling 2 fits\n",
            "Fitting 2 folds for each of 1 candidates, totalling 2 fits\n",
            "Fitting 2 folds for each of 1 candidates, totalling 2 fits\n",
            "Fitting 2 folds for each of 1 candidates, totalling 2 fits\n",
            "Fitting 2 folds for each of 1 candidates, totalling 2 fits\n",
            "Fitting 2 folds for each of 1 candidates, totalling 2 fits\n",
            "Fitting 2 folds for each of 1 candidates, totalling 2 fits\n",
            "Fitting 2 folds for each of 1 candidates, totalling 2 fits\n",
            "Fitting 2 folds for each of 1 candidates, totalling 2 fits\n",
            "Fitting 2 folds for each of 1 candidates, totalling 2 fits\n",
            "Fitting 2 folds for each of 1 candidates, totalling 2 fits\n",
            "Fitting 2 folds for each of 1 candidates, totalling 2 fits\n",
            "Fitting 2 folds for each of 1 candidates, totalling 2 fits\n",
            "Fitting 2 folds for each of 1 candidates, totalling 2 fits\n",
            "Fitting 2 folds for each of 1 candidates, totalling 2 fits\n",
            "Fitting 2 folds for each of 1 candidates, totalling 2 fits\n",
            "Fitting 2 folds for each of 1 candidates, totalling 2 fits\n",
            "Fitting 2 folds for each of 1 candidates, totalling 2 fits\n",
            "Fitting 2 folds for each of 1 candidates, totalling 2 fits\n",
            "Fitting 2 folds for each of 1 candidates, totalling 2 fits\n",
            "Fitting 2 folds for each of 1 candidates, totalling 2 fits\n",
            "Fitting 2 folds for each of 1 candidates, totalling 2 fits\n",
            "Fitting 2 folds for each of 1 candidates, totalling 2 fits\n",
            "Fitting 2 folds for each of 1 candidates, totalling 2 fits\n",
            "Best hyperparameters found:  OrderedDict([('C', 1e-06), ('fit_intercept', False), ('max_iter', 50), ('penalty', 'none'), ('tol', 0.01)])\n",
            "Best accuracy score found:  0.7375\n"
          ]
        }
      ],
      "source": [
        "param_space = {\n",
        "    'C': Real(1e-6, 1e+6, prior='log-uniform'),\n",
        "    'penalty': Categorical(['none', 'l2']),\n",
        "    'max_iter': Integer(50, 5000),\n",
        "    'tol': Real(1e-6, 1e-2, prior='uniform'),\n",
        "    'fit_intercept': Categorical([True, False])\n",
        "}\n",
        "\n",
        "opt = BayesSearchCV(\n",
        "    logistic,\n",
        "    param_space,\n",
        "    scoring='accuracy',\n",
        "    n_iter=25,\n",
        "    cv=2,\n",
        "    random_state=42,\n",
        "    verbose=1\n",
        ")\n",
        "\n",
        "opt.fit(X_train, y_train)\n",
        "\n",
        "print(\"Best hyperparameters found: \", opt.best_params_)\n",
        "print(\"Best accuracy score found: \", opt.best_score_)"
      ]
    },
    {
      "cell_type": "code",
      "execution_count": null,
      "metadata": {
        "id": "ftMBLGjd-D8I"
      },
      "outputs": [],
      "source": []
    }
  ],
  "metadata": {
    "accelerator": "GPU",
    "colab": {
      "gpuType": "T4",
      "provenance": []
    },
    "kernelspec": {
      "display_name": "Python 3",
      "name": "python3"
    },
    "language_info": {
      "codemirror_mode": {
        "name": "ipython",
        "version": 3
      },
      "file_extension": ".py",
      "mimetype": "text/x-python",
      "name": "python",
      "nbconvert_exporter": "python",
      "pygments_lexer": "ipython3",
      "version": "3.9.6"
    }
  },
  "nbformat": 4,
  "nbformat_minor": 0
}
