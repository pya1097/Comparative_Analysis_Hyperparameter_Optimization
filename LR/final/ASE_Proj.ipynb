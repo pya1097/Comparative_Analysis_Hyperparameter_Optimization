{
  "cells": [
    {
      "cell_type": "code",
      "execution_count": 3,
      "metadata": {
        "id": "el_-zlazLRUM"
      },
      "outputs": [],
      "source": [
        "from sklearn import datasets, linear_model\n",
        "from sklearn.model_selection import train_test_split\n",
        "import numpy as np\n",
        "import pandas as pd\n",
        "from sklearn.preprocessing import MinMaxScaler, LabelEncoder, StandardScaler\n",
        "\n",
        "# max_iter=100,50,500,1000,5000\n",
        "# C=1,0.05,0.5,5,10,100\n",
        "# tol=0.0001,0.001,0.003,0.005,0.0003,0.0005,0.0008\n",
        "# fit_intercept=True, False\n",
        "# penalty='l2',None"
      ]
    },
    {
      "cell_type": "code",
      "execution_count": 3,
      "metadata": {
        "colab": {
          "base_uri": "https://localhost:8080/"
        },
        "id": "DJqPYDdwLSY1",
        "outputId": "b0daa204-4c03-4a2d-f07d-6d0b736692f1"
      },
      "outputs": [
        {
          "name": "stdout",
          "output_type": "stream",
          "text": [
            "LogisticRegression score: 0.969444\n"
          ]
        },
        {
          "name": "stderr",
          "output_type": "stream",
          "text": [
            "c:\\Users\\athud\\AppData\\Local\\Programs\\Python\\Python39\\lib\\site-packages\\sklearn\\utils\\validation.py:993: DataConversionWarning: A column-vector y was passed when a 1d array was expected. Please change the shape of y to (n_samples, ), for example using ravel().\n",
            "  y = column_or_1d(y, warn=True)\n"
          ]
        }
      ],
      "source": [
        "#1 digits\n",
        "X = pd.read_csv('digits_X.csv').values\n",
        "y = pd.read_csv('digits_y.csv').values\n",
        "X_train, X_test, y_train, y_test = train_test_split(X, y, test_size=0.20, random_state=23)\n",
        "logistic = linear_model.LogisticRegression(max_iter=1000, C=1, tol=0.0001, fit_intercept=True, penalty='l2')\n",
        "print(\"LogisticRegression score: %f\" % logistic.fit(X_train, y_train).score(X_test, y_test))"
      ]
    },
    {
      "cell_type": "code",
      "execution_count": 4,
      "metadata": {
        "colab": {
          "base_uri": "https://localhost:8080/"
        },
        "id": "TuhtoKf4NLCa",
        "outputId": "ed690728-96ad-4514-ee08-21470bd16a38"
      },
      "outputs": [
        {
          "name": "stdout",
          "output_type": "stream",
          "text": [
            "LogisticRegression score: 0.912281\n"
          ]
        },
        {
          "name": "stderr",
          "output_type": "stream",
          "text": [
            "c:\\Users\\athud\\AppData\\Local\\Programs\\Python\\Python39\\lib\\site-packages\\sklearn\\utils\\validation.py:993: DataConversionWarning: A column-vector y was passed when a 1d array was expected. Please change the shape of y to (n_samples, ), for example using ravel().\n",
            "  y = column_or_1d(y, warn=True)\n"
          ]
        }
      ],
      "source": [
        "#2 breast cancer\n",
        "X = pd.read_csv('breastcancer_X.csv').values\n",
        "y = pd.read_csv('breastcancer_y.csv').values\n",
        "X_train, X_test, y_train, y_test = train_test_split(X, y, test_size=0.20, random_state=23)\n",
        "logistic = linear_model.LogisticRegression(max_iter=1000, C=1, tol=0.0001, fit_intercept=True, penalty='l2')\n",
        "print(\"LogisticRegression score: %f\" % logistic.fit(X_train, y_train).score(X_test, y_test))"
      ]
    },
    {
      "cell_type": "code",
      "execution_count": 5,
      "metadata": {
        "colab": {
          "base_uri": "https://localhost:8080/"
        },
        "id": "f8HkS68QNkTZ",
        "outputId": "59bce718-1071-40b5-e566-c63946afe89e"
      },
      "outputs": [
        {
          "name": "stdout",
          "output_type": "stream",
          "text": [
            "LogisticRegression score: 0.933333\n"
          ]
        },
        {
          "name": "stderr",
          "output_type": "stream",
          "text": [
            "c:\\Users\\athud\\AppData\\Local\\Programs\\Python\\Python39\\lib\\site-packages\\sklearn\\utils\\validation.py:993: DataConversionWarning: A column-vector y was passed when a 1d array was expected. Please change the shape of y to (n_samples, ), for example using ravel().\n",
            "  y = column_or_1d(y, warn=True)\n"
          ]
        }
      ],
      "source": [
        "#3 iris\n",
        "X = pd.read_csv('iris_X.csv').values\n",
        "y = pd.read_csv('iris_y.csv').values\n",
        "X_train, X_test, y_train, y_test = train_test_split(X, y, test_size=0.20, random_state=23)\n",
        "logistic = linear_model.LogisticRegression(max_iter=1000, C=1, tol=0.0001, fit_intercept=True, penalty='l2')\n",
        "print(\"LogisticRegression score: %f\" % logistic.fit(X_train, y_train).score(X_test, y_test))"
      ]
    },
    {
      "cell_type": "code",
      "execution_count": 6,
      "metadata": {
        "colab": {
          "base_uri": "https://localhost:8080/"
        },
        "id": "yISaKCxbNtUR",
        "outputId": "0e34d66b-5a4c-4d60-bf8f-e1d3b05c38c4"
      },
      "outputs": [
        {
          "name": "stdout",
          "output_type": "stream",
          "text": [
            "LogisticRegression score: 0.722222\n"
          ]
        },
        {
          "name": "stderr",
          "output_type": "stream",
          "text": [
            "c:\\Users\\athud\\AppData\\Local\\Programs\\Python\\Python39\\lib\\site-packages\\sklearn\\utils\\validation.py:993: DataConversionWarning: A column-vector y was passed when a 1d array was expected. Please change the shape of y to (n_samples, ), for example using ravel().\n",
            "  y = column_or_1d(y, warn=True)\n"
          ]
        }
      ],
      "source": [
        "#4 wine\n",
        "X = pd.read_csv('whitewine_X.csv').values\n",
        "y = pd.read_csv('whitewine_y.csv').values\n",
        "X_train, X_test, y_train, y_test = train_test_split(X, y, test_size=0.20, random_state=23)\n",
        "logistic = linear_model.LogisticRegression(max_iter=1000, C=1, tol=0.0001, fit_intercept=True, penalty='l2')\n",
        "print(\"LogisticRegression score: %f\" % logistic.fit(X_train, y_train).score(X_test, y_test))"
      ]
    },
    {
      "cell_type": "code",
      "execution_count": 7,
      "metadata": {
        "id": "R_iDzzzswlZd"
      },
      "outputs": [
        {
          "name": "stdout",
          "output_type": "stream",
          "text": [
            "LogisticRegression score: 0.625000\n"
          ]
        },
        {
          "name": "stderr",
          "output_type": "stream",
          "text": [
            "c:\\Users\\athud\\AppData\\Local\\Programs\\Python\\Python39\\lib\\site-packages\\sklearn\\utils\\validation.py:993: DataConversionWarning: A column-vector y was passed when a 1d array was expected. Please change the shape of y to (n_samples, ), for example using ravel().\n",
            "  y = column_or_1d(y, warn=True)\n"
          ]
        }
      ],
      "source": [
        "#5 social network ads\n",
        "X = pd.read_csv('socialnetworkads_X.csv').values\n",
        "y = pd.read_csv('socialnetworkads_y.csv').values\n",
        "X_train, X_test, y_train, y_test = train_test_split(X, y, test_size=0.20, random_state=23)\n",
        "logistic = linear_model.LogisticRegression(max_iter=1000, C=1, tol=0.0001, fit_intercept=True, penalty='l2')\n",
        "print(\"LogisticRegression score: %f\" % logistic.fit(X_train, y_train).score(X_test, y_test))"
      ]
    },
    {
      "cell_type": "code",
      "execution_count": 8,
      "metadata": {
        "id": "HvkJhhpp2ElU"
      },
      "outputs": [
        {
          "name": "stdout",
          "output_type": "stream",
          "text": [
            "LogisticRegression score: 0.857923\n"
          ]
        },
        {
          "name": "stderr",
          "output_type": "stream",
          "text": [
            "c:\\Users\\athud\\AppData\\Local\\Programs\\Python\\Python39\\lib\\site-packages\\sklearn\\utils\\validation.py:993: DataConversionWarning: A column-vector y was passed when a 1d array was expected. Please change the shape of y to (n_samples, ), for example using ravel().\n",
            "  y = column_or_1d(y, warn=True)\n"
          ]
        }
      ],
      "source": [
        "#6 heart disease\n",
        "X = pd.read_csv('heartdisease_X.csv').values\n",
        "y = pd.read_csv('heartdisease_y.csv').values\n",
        "X_train, X_test, y_train, y_test = train_test_split(X, y, test_size=0.20, random_state=23)\n",
        "logistic = linear_model.LogisticRegression(max_iter=1000, C=1, tol=0.0001, fit_intercept=True, penalty='l2')\n",
        "print(\"LogisticRegression score: %f\" % logistic.fit(X_train, y_train).score(X_test, y_test))"
      ]
    },
    {
      "cell_type": "code",
      "execution_count": 9,
      "metadata": {
        "id": "avBrbGer_p58"
      },
      "outputs": [
        {
          "name": "stdout",
          "output_type": "stream",
          "text": [
            "LogisticRegression score: 0.770992\n"
          ]
        },
        {
          "name": "stderr",
          "output_type": "stream",
          "text": [
            "c:\\Users\\athud\\AppData\\Local\\Programs\\Python\\Python39\\lib\\site-packages\\sklearn\\utils\\validation.py:993: DataConversionWarning: A column-vector y was passed when a 1d array was expected. Please change the shape of y to (n_samples, ), for example using ravel().\n",
            "  y = column_or_1d(y, warn=True)\n"
          ]
        }
      ],
      "source": [
        "#7 Titanic\n",
        "X = pd.read_csv('titanic_X.csv').values\n",
        "y = pd.read_csv('titanic_y.csv').values\n",
        "X_train, X_test, y_train, y_test = train_test_split(X, y, test_size=0.20, random_state=23)\n",
        "logistic = linear_model.LogisticRegression(max_iter=1000, C=1, tol=0.0001, fit_intercept=True, penalty='l2')\n",
        "print(\"LogisticRegression score: %f\" % logistic.fit(X_train, y_train).score(X_test, y_test))"
      ]
    },
    {
      "cell_type": "code",
      "execution_count": 10,
      "metadata": {
        "id": "j8qfr3k5Cf8i"
      },
      "outputs": [
        {
          "name": "stdout",
          "output_type": "stream",
          "text": [
            "LogisticRegression score: 0.826682\n"
          ]
        },
        {
          "name": "stderr",
          "output_type": "stream",
          "text": [
            "c:\\Users\\athud\\AppData\\Local\\Programs\\Python\\Python39\\lib\\site-packages\\sklearn\\utils\\validation.py:993: DataConversionWarning: A column-vector y was passed when a 1d array was expected. Please change the shape of y to (n_samples, ), for example using ravel().\n",
            "  y = column_or_1d(y, warn=True)\n"
          ]
        }
      ],
      "source": [
        "#8 Employee attrition\n",
        "X = pd.read_csv('employeeattrition_X.csv').values\n",
        "y = pd.read_csv('employeeattrition_y.csv').values\n",
        "X_train, X_test, y_train, y_test = train_test_split(X, y, test_size=0.20, random_state=23)\n",
        "logistic = linear_model.LogisticRegression(max_iter=1000, C=1, tol=0.0001, fit_intercept=True, penalty='l2')\n",
        "print(\"LogisticRegression score: %f\" % logistic.fit(X_train, y_train).score(X_test, y_test))"
      ]
    },
    {
      "cell_type": "code",
      "execution_count": 11,
      "metadata": {
        "id": "SKTMWvCjFqCG"
      },
      "outputs": [
        {
          "name": "stdout",
          "output_type": "stream",
          "text": [
            "LogisticRegression score: 0.862000\n"
          ]
        },
        {
          "name": "stderr",
          "output_type": "stream",
          "text": [
            "c:\\Users\\athud\\AppData\\Local\\Programs\\Python\\Python39\\lib\\site-packages\\sklearn\\utils\\validation.py:993: DataConversionWarning: A column-vector y was passed when a 1d array was expected. Please change the shape of y to (n_samples, ), for example using ravel().\n",
            "  y = column_or_1d(y, warn=True)\n"
          ]
        }
      ],
      "source": [
        "#9 Pumpkin seeds\n",
        "X = pd.read_csv('pumpkinseeds_X.csv').values\n",
        "y = pd.read_csv('pumpkinseeds_y.csv').values\n",
        "X_train, X_test, y_train, y_test = train_test_split(X, y, test_size=0.20, random_state=23)\n",
        "logistic = linear_model.LogisticRegression(max_iter=1000, C=1, tol=0.0001, fit_intercept=True, penalty='l2')\n",
        "print(\"LogisticRegression score: %f\" % logistic.fit(X_train, y_train).score(X_test, y_test))"
      ]
    },
    {
      "cell_type": "code",
      "execution_count": 12,
      "metadata": {
        "id": "B3xeiJDaHBpW"
      },
      "outputs": [
        {
          "name": "stdout",
          "output_type": "stream",
          "text": [
            "LogisticRegression score: 0.250000\n"
          ]
        },
        {
          "name": "stderr",
          "output_type": "stream",
          "text": [
            "c:\\Users\\athud\\AppData\\Local\\Programs\\Python\\Python39\\lib\\site-packages\\sklearn\\utils\\validation.py:993: DataConversionWarning: A column-vector y was passed when a 1d array was expected. Please change the shape of y to (n_samples, ), for example using ravel().\n",
            "  y = column_or_1d(y, warn=True)\n"
          ]
        }
      ],
      "source": [
        "#10 Marketing campaign\n",
        "X = pd.read_csv('marketing_X.csv').values\n",
        "y = pd.read_csv('marketing_y.csv').values\n",
        "X_train, X_test, y_train, y_test = train_test_split(X, y, test_size=0.20, random_state=23)\n",
        "logistic = linear_model.LogisticRegression(max_iter=1000, C=1, tol=0.0001, fit_intercept=True, penalty='l2')\n",
        "print(\"LogisticRegression score: %f\" % logistic.fit(X_train, y_train).score(X_test, y_test))"
      ]
    },
    {
      "cell_type": "code",
      "execution_count": 13,
      "metadata": {
        "id": "5Ay90N13JXzR"
      },
      "outputs": [
        {
          "name": "stdout",
          "output_type": "stream",
          "text": [
            "LogisticRegression score: 0.945000\n"
          ]
        },
        {
          "name": "stderr",
          "output_type": "stream",
          "text": [
            "c:\\Users\\athud\\AppData\\Local\\Programs\\Python\\Python39\\lib\\site-packages\\sklearn\\utils\\validation.py:993: DataConversionWarning: A column-vector y was passed when a 1d array was expected. Please change the shape of y to (n_samples, ), for example using ravel().\n",
            "  y = column_or_1d(y, warn=True)\n"
          ]
        }
      ],
      "source": [
        "#11 bank loan\n",
        "X = pd.read_csv('bankloan_X.csv').values\n",
        "y = pd.read_csv('bankloan_y.csv').values\n",
        "X_train, X_test, y_train, y_test = train_test_split(X, y, test_size=0.20, random_state=23)\n",
        "logistic = linear_model.LogisticRegression(max_iter=1000, C=1, tol=0.0001, fit_intercept=True, penalty='l2')\n",
        "print(\"LogisticRegression score: %f\" % logistic.fit(X_train, y_train).score(X_test, y_test))"
      ]
    },
    {
      "cell_type": "code",
      "execution_count": 14,
      "metadata": {
        "id": "4B81CGR1RpPa"
      },
      "outputs": [
        {
          "name": "stdout",
          "output_type": "stream",
          "text": [
            "LogisticRegression score: 0.538889\n"
          ]
        },
        {
          "name": "stderr",
          "output_type": "stream",
          "text": [
            "c:\\Users\\athud\\AppData\\Local\\Programs\\Python\\Python39\\lib\\site-packages\\sklearn\\utils\\validation.py:993: DataConversionWarning: A column-vector y was passed when a 1d array was expected. Please change the shape of y to (n_samples, ), for example using ravel().\n",
            "  y = column_or_1d(y, warn=True)\n"
          ]
        }
      ],
      "source": [
        "#12 date fruit\n",
        "X = pd.read_csv('date_X.csv').values\n",
        "y = pd.read_csv('date_y.csv').values\n",
        "X_train, X_test, y_train, y_test = train_test_split(X, y, test_size=0.20, random_state=23)\n",
        "logistic = linear_model.LogisticRegression(max_iter=1000, C=1, tol=0.0001, fit_intercept=True, penalty='l2')\n",
        "print(\"LogisticRegression score: %f\" % logistic.fit(X_train, y_train).score(X_test, y_test))"
      ]
    },
    {
      "cell_type": "code",
      "execution_count": 15,
      "metadata": {
        "id": "NY_99ppxUm-r"
      },
      "outputs": [
        {
          "name": "stdout",
          "output_type": "stream",
          "text": [
            "LogisticRegression score: 0.996587\n"
          ]
        },
        {
          "name": "stderr",
          "output_type": "stream",
          "text": [
            "c:\\Users\\athud\\AppData\\Local\\Programs\\Python\\Python39\\lib\\site-packages\\sklearn\\utils\\validation.py:993: DataConversionWarning: A column-vector y was passed when a 1d array was expected. Please change the shape of y to (n_samples, ), for example using ravel().\n",
            "  y = column_or_1d(y, warn=True)\n"
          ]
        }
      ],
      "source": [
        "#13 fake bills\n",
        "X = pd.read_csv('fakebills_X.csv').values\n",
        "y = pd.read_csv('fakebills_y.csv').values\n",
        "X_train, X_test, y_train, y_test = train_test_split(X, y, test_size=0.20, random_state=23)\n",
        "logistic = linear_model.LogisticRegression(max_iter=1000, C=1, tol=0.0001, fit_intercept=True, penalty='l2')\n",
        "print(\"LogisticRegression score: %f\" % logistic.fit(X_train, y_train).score(X_test, y_test))"
      ]
    },
    {
      "cell_type": "code",
      "execution_count": 16,
      "metadata": {
        "id": "Jw0FnITKZfXX"
      },
      "outputs": [
        {
          "name": "stdout",
          "output_type": "stream",
          "text": [
            "LogisticRegression score: 0.539823\n"
          ]
        },
        {
          "name": "stderr",
          "output_type": "stream",
          "text": [
            "c:\\Users\\athud\\AppData\\Local\\Programs\\Python\\Python39\\lib\\site-packages\\sklearn\\utils\\validation.py:993: DataConversionWarning: A column-vector y was passed when a 1d array was expected. Please change the shape of y to (n_samples, ), for example using ravel().\n",
            "  y = column_or_1d(y, warn=True)\n"
          ]
        }
      ],
      "source": [
        "#14 Employee turnover\n",
        "X = pd.read_csv('empturnover_X.csv').values\n",
        "y = pd.read_csv('empturnover_y.csv').values\n",
        "X_train, X_test, y_train, y_test = train_test_split(X, y, test_size=0.20, random_state=23)\n",
        "logistic = linear_model.LogisticRegression(max_iter=1000, C=1, tol=0.0001, fit_intercept=True, penalty='l2')\n",
        "print(\"LogisticRegression score: %f\" % logistic.fit(X_train, y_train).score(X_test, y_test))"
      ]
    },
    {
      "cell_type": "code",
      "execution_count": 17,
      "metadata": {
        "id": "PjnAwcx_cYQY"
      },
      "outputs": [
        {
          "name": "stdout",
          "output_type": "stream",
          "text": [
            "LogisticRegression score: 0.912281\n"
          ]
        },
        {
          "name": "stderr",
          "output_type": "stream",
          "text": [
            "c:\\Users\\athud\\AppData\\Local\\Programs\\Python\\Python39\\lib\\site-packages\\sklearn\\utils\\validation.py:993: DataConversionWarning: A column-vector y was passed when a 1d array was expected. Please change the shape of y to (n_samples, ), for example using ravel().\n",
            "  y = column_or_1d(y, warn=True)\n"
          ]
        }
      ],
      "source": [
        "#15 Cancer\n",
        "X = pd.read_csv('cancer_X.csv').values\n",
        "y = pd.read_csv('cancer_y.csv').values\n",
        "X_train, X_test, y_train, y_test = train_test_split(X, y, test_size=0.20, random_state=23)\n",
        "logistic = linear_model.LogisticRegression(max_iter=1000, C=1, tol=0.0001, fit_intercept=True, penalty='l2')\n",
        "print(\"LogisticRegression score: %f\" % logistic.fit(X_train, y_train).score(X_test, y_test))"
      ]
    },
    {
      "cell_type": "code",
      "execution_count": 18,
      "metadata": {
        "id": "ulgBsByMeIKW"
      },
      "outputs": [
        {
          "name": "stderr",
          "output_type": "stream",
          "text": [
            "c:\\Users\\athud\\AppData\\Local\\Programs\\Python\\Python39\\lib\\site-packages\\sklearn\\utils\\validation.py:993: DataConversionWarning: A column-vector y was passed when a 1d array was expected. Please change the shape of y to (n_samples, ), for example using ravel().\n",
            "  y = column_or_1d(y, warn=True)\n"
          ]
        },
        {
          "name": "stdout",
          "output_type": "stream",
          "text": [
            "LogisticRegression score: 0.606250\n"
          ]
        },
        {
          "name": "stderr",
          "output_type": "stream",
          "text": [
            "c:\\Users\\athud\\AppData\\Local\\Programs\\Python\\Python39\\lib\\site-packages\\sklearn\\linear_model\\_logistic.py:814: ConvergenceWarning: lbfgs failed to converge (status=1):\n",
            "STOP: TOTAL NO. of ITERATIONS REACHED LIMIT.\n",
            "\n",
            "Increase the number of iterations (max_iter) or scale the data as shown in:\n",
            "    https://scikit-learn.org/stable/modules/preprocessing.html\n",
            "Please also refer to the documentation for alternative solver options:\n",
            "    https://scikit-learn.org/stable/modules/linear_model.html#logistic-regression\n",
            "  n_iter_i = _check_optimize_result(\n"
          ]
        }
      ],
      "source": [
        "#16 wine\n",
        "X = pd.read_csv('wine_X.csv').values\n",
        "y = pd.read_csv('wine_y.csv').values\n",
        "X_train, X_test, y_train, y_test = train_test_split(X, y, test_size=0.20, random_state=23)\n",
        "logistic = linear_model.LogisticRegression(max_iter=1000, C=1, tol=0.0001, fit_intercept=True, penalty='l2')\n",
        "print(\"LogisticRegression score: %f\" % logistic.fit(X_train, y_train).score(X_test, y_test))"
      ]
    },
    {
      "cell_type": "code",
      "execution_count": 19,
      "metadata": {
        "id": "cS0WAt53j5eq"
      },
      "outputs": [
        {
          "name": "stdout",
          "output_type": "stream",
          "text": [
            "LogisticRegression score: 0.800000\n"
          ]
        },
        {
          "name": "stderr",
          "output_type": "stream",
          "text": [
            "c:\\Users\\athud\\AppData\\Local\\Programs\\Python\\Python39\\lib\\site-packages\\sklearn\\utils\\validation.py:993: DataConversionWarning: A column-vector y was passed when a 1d array was expected. Please change the shape of y to (n_samples, ), for example using ravel().\n",
            "  y = column_or_1d(y, warn=True)\n"
          ]
        }
      ],
      "source": [
        "#17 kidney stone\n",
        "X = pd.read_csv('kidneystone_X.csv').values\n",
        "y = pd.read_csv('kidneystone_y.csv').values\n",
        "X_train, X_test, y_train, y_test = train_test_split(X, y, test_size=0.20, random_state=23)\n",
        "logistic = linear_model.LogisticRegression(max_iter=1000, C=1, tol=0.0001, fit_intercept=True, penalty='l2')\n",
        "print(\"LogisticRegression score: %f\" % logistic.fit(X_train, y_train).score(X_test, y_test))"
      ]
    },
    {
      "cell_type": "code",
      "execution_count": 20,
      "metadata": {
        "id": "m07XDhzZlcv2"
      },
      "outputs": [
        {
          "name": "stdout",
          "output_type": "stream",
          "text": [
            "LogisticRegression score: 0.809524\n"
          ]
        },
        {
          "name": "stderr",
          "output_type": "stream",
          "text": [
            "c:\\Users\\athud\\AppData\\Local\\Programs\\Python\\Python39\\lib\\site-packages\\sklearn\\utils\\validation.py:993: DataConversionWarning: A column-vector y was passed when a 1d array was expected. Please change the shape of y to (n_samples, ), for example using ravel().\n",
            "  y = column_or_1d(y, warn=True)\n"
          ]
        }
      ],
      "source": [
        "#18 rock or mine\n",
        "X = pd.read_csv('mineorrock_X.csv').values\n",
        "y = pd.read_csv('mineorrock_y.csv').values\n",
        "X_train, X_test, y_train, y_test = train_test_split(X, y, test_size=0.20, random_state=23)\n",
        "logistic = linear_model.LogisticRegression(max_iter=1000, C=1, tol=0.0001, fit_intercept=True, penalty='l2')\n",
        "print(\"LogisticRegression score: %f\" % logistic.fit(X_train, y_train).score(X_test, y_test))"
      ]
    },
    {
      "cell_type": "code",
      "execution_count": 21,
      "metadata": {
        "id": "3lJCf6MWnmXW"
      },
      "outputs": [
        {
          "name": "stdout",
          "output_type": "stream",
          "text": [
            "LogisticRegression score: 0.477918\n"
          ]
        },
        {
          "name": "stderr",
          "output_type": "stream",
          "text": [
            "c:\\Users\\athud\\AppData\\Local\\Programs\\Python\\Python39\\lib\\site-packages\\sklearn\\utils\\validation.py:993: DataConversionWarning: A column-vector y was passed when a 1d array was expected. Please change the shape of y to (n_samples, ), for example using ravel().\n",
            "  y = column_or_1d(y, warn=True)\n"
          ]
        }
      ],
      "source": [
        "#19 gender voice\n",
        "X = pd.read_csv('gendervoice_X.csv').values\n",
        "y = pd.read_csv('gendervoice_y.csv').values\n",
        "X_train, X_test, y_train, y_test = train_test_split(X, y, test_size=0.20, random_state=23)\n",
        "logistic = linear_model.LogisticRegression(max_iter=1000, C=1, tol=0.0001, fit_intercept=True, penalty='l2')\n",
        "print(\"LogisticRegression score: %f\" % logistic.fit(X_train, y_train).score(X_test, y_test))"
      ]
    },
    {
      "cell_type": "code",
      "execution_count": 6,
      "metadata": {
        "id": "Yt8ugSGhoihb"
      },
      "outputs": [
        {
          "name": "stdout",
          "output_type": "stream",
          "text": [
            "LogisticRegression score: 0.523810\n"
          ]
        }
      ],
      "source": [
        "#20 possum\n",
        "X = pd.read_csv('possum_X.csv').values\n",
        "y = pd.read_csv('possum_y.csv').values\n",
        "X_train, X_test, y_train, y_test = train_test_split(X, y, test_size=0.20, random_state=23)\n",
        "logistic = linear_model.LogisticRegression(max_iter=1000, C=1, tol=0.0001, fit_intercept=True, penalty='l2')\n",
        "print(\"LogisticRegression score: %f\" % logistic.fit(X_train, y_train).score(X_test, y_test))"
      ]
    },
    {
      "cell_type": "markdown",
      "metadata": {
        "id": "DsoYH9_-eB6q"
      },
      "source": [
        "# OPTUNE"
      ]
    },
    {
      "cell_type": "code",
      "execution_count": 24,
      "metadata": {
        "colab": {
          "base_uri": "https://localhost:8080/"
        },
        "id": "CGgOOI3peS9i",
        "outputId": "97fee878-ea99-4b9c-bb45-dd3ee5c0442e"
      },
      "outputs": [
        {
          "name": "stdout",
          "output_type": "stream",
          "text": [
            "Collecting optuna\n",
            "  Downloading optuna-3.6.1-py3-none-any.whl.metadata (17 kB)\n",
            "Collecting alembic>=1.5.0 (from optuna)\n",
            "  Downloading alembic-1.13.1-py3-none-any.whl.metadata (7.4 kB)\n",
            "Collecting colorlog (from optuna)\n",
            "  Downloading colorlog-6.8.2-py3-none-any.whl.metadata (10 kB)\n",
            "Requirement already satisfied: numpy in c:\\users\\athud\\appdata\\local\\programs\\python\\python39\\lib\\site-packages (from optuna) (1.26.1)\n",
            "Requirement already satisfied: packaging>=20.0 in c:\\users\\athud\\appdata\\local\\programs\\python\\python39\\lib\\site-packages (from optuna) (23.2)\n",
            "Collecting sqlalchemy>=1.3.0 (from optuna)\n",
            "  Downloading SQLAlchemy-2.0.29-cp39-cp39-win_amd64.whl.metadata (9.8 kB)\n",
            "Requirement already satisfied: tqdm in c:\\users\\athud\\appdata\\local\\programs\\python\\python39\\lib\\site-packages (from optuna) (4.66.1)\n",
            "Requirement already satisfied: PyYAML in c:\\users\\athud\\appdata\\local\\programs\\python\\python39\\lib\\site-packages (from optuna) (6.0.1)\n",
            "Collecting Mako (from alembic>=1.5.0->optuna)\n",
            "  Downloading Mako-1.3.3-py3-none-any.whl.metadata (2.9 kB)\n",
            "Requirement already satisfied: typing-extensions>=4 in c:\\users\\athud\\appdata\\local\\programs\\python\\python39\\lib\\site-packages (from alembic>=1.5.0->optuna) (4.5.0)\n",
            "Collecting typing-extensions>=4 (from alembic>=1.5.0->optuna)\n",
            "  Downloading typing_extensions-4.11.0-py3-none-any.whl.metadata (3.0 kB)\n",
            "Requirement already satisfied: greenlet!=0.4.17 in c:\\users\\athud\\appdata\\local\\programs\\python\\python39\\lib\\site-packages (from sqlalchemy>=1.3.0->optuna) (2.0.2)\n",
            "Requirement already satisfied: colorama in c:\\users\\athud\\appdata\\local\\programs\\python\\python39\\lib\\site-packages (from colorlog->optuna) (0.4.4)\n",
            "Requirement already satisfied: MarkupSafe>=0.9.2 in c:\\users\\athud\\appdata\\local\\programs\\python\\python39\\lib\\site-packages (from Mako->alembic>=1.5.0->optuna) (2.1.3)\n",
            "Downloading optuna-3.6.1-py3-none-any.whl (380 kB)\n",
            "   ---------------------------------------- 0.0/380.1 kB ? eta -:--:--\n",
            "   ------------------ --------------------- 174.1/380.1 kB 3.5 MB/s eta 0:00:01\n",
            "   ---------------------------------------- 380.1/380.1 kB 3.9 MB/s eta 0:00:00\n",
            "Downloading alembic-1.13.1-py3-none-any.whl (233 kB)\n",
            "   ---------------------------------------- 0.0/233.4 kB ? eta -:--:--\n",
            "   -------------------------------------- - 225.3/233.4 kB 6.9 MB/s eta 0:00:01\n",
            "   ---------------------------------------- 233.4/233.4 kB 7.2 MB/s eta 0:00:00\n",
            "Downloading SQLAlchemy-2.0.29-cp39-cp39-win_amd64.whl (2.1 MB)\n",
            "   ---------------------------------------- 0.0/2.1 MB ? eta -:--:--\n",
            "   ----- ---------------------------------- 0.3/2.1 MB 8.6 MB/s eta 0:00:01\n",
            "   ---------- ----------------------------- 0.5/2.1 MB 8.3 MB/s eta 0:00:01\n",
            "   ---------------- ----------------------- 0.8/2.1 MB 6.7 MB/s eta 0:00:01\n",
            "   --------------------- ------------------ 1.1/2.1 MB 6.5 MB/s eta 0:00:01\n",
            "   -------------------------- ------------- 1.4/2.1 MB 6.3 MB/s eta 0:00:01\n",
            "   -------------------------------- ------- 1.7/2.1 MB 6.7 MB/s eta 0:00:01\n",
            "   --------------------------------- ------ 1.7/2.1 MB 5.5 MB/s eta 0:00:01\n",
            "   ------------------------------------ --- 1.9/2.1 MB 5.3 MB/s eta 0:00:01\n",
            "   ------------------------------------- -- 2.0/2.1 MB 5.2 MB/s eta 0:00:01\n",
            "   ---------------------------------------- 2.1/2.1 MB 4.7 MB/s eta 0:00:00\n",
            "Downloading colorlog-6.8.2-py3-none-any.whl (11 kB)\n",
            "Downloading typing_extensions-4.11.0-py3-none-any.whl (34 kB)\n",
            "Downloading Mako-1.3.3-py3-none-any.whl (78 kB)\n",
            "   ---------------------------------------- 0.0/78.8 kB ? eta -:--:--\n",
            "   ---------------------------------------- 78.8/78.8 kB ? eta 0:00:00\n",
            "Installing collected packages: typing-extensions, Mako, colorlog, sqlalchemy, alembic, optuna\n",
            "  Attempting uninstall: typing-extensions\n",
            "    Found existing installation: typing_extensions 4.5.0\n",
            "    Uninstalling typing_extensions-4.5.0:\n",
            "      Successfully uninstalled typing_extensions-4.5.0\n",
            "  Attempting uninstall: sqlalchemy\n",
            "    Found existing installation: SQLAlchemy 1.2.19\n",
            "    Uninstalling SQLAlchemy-1.2.19:\n",
            "      Successfully uninstalled SQLAlchemy-1.2.19\n",
            "Successfully installed Mako-1.3.3 alembic-1.13.1 colorlog-6.8.2 optuna-3.6.1 sqlalchemy-2.0.29 typing-extensions-4.11.0\n",
            "Note: you may need to restart the kernel to use updated packages.\n"
          ]
        },
        {
          "name": "stderr",
          "output_type": "stream",
          "text": [
            "ERROR: pip's dependency resolver does not currently take into account all the packages that are installed. This behaviour is the source of the following dependency conflicts.\n",
            "chatterbot 1.0.4 requires pymongo<4.0,>=3.3, but you have pymongo 4.5.0 which is incompatible.\n",
            "chatterbot 1.0.4 requires python-dateutil<2.8,>=2.7, but you have python-dateutil 2.8.2 which is incompatible.\n",
            "chatterbot 1.0.4 requires sqlalchemy<1.3,>=1.2, but you have sqlalchemy 2.0.29 which is incompatible.\n",
            "langchain-serve 0.0.38 requires typing-extensions==4.5.0, but you have typing-extensions 4.11.0 which is incompatible.\n"
          ]
        }
      ],
      "source": [
        "pip install optuna"
      ]
    },
    {
      "cell_type": "code",
      "execution_count": 2,
      "metadata": {
        "id": "S6S-oREjuSWG"
      },
      "outputs": [
        {
          "name": "stderr",
          "output_type": "stream",
          "text": [
            "c:\\Users\\athud\\AppData\\Local\\Programs\\Python\\Python39\\lib\\site-packages\\tqdm\\auto.py:21: TqdmWarning: IProgress not found. Please update jupyter and ipywidgets. See https://ipywidgets.readthedocs.io/en/stable/user_install.html\n",
            "  from .autonotebook import tqdm as notebook_tqdm\n"
          ]
        }
      ],
      "source": [
        "import optuna\n",
        "import warnings\n",
        "warnings.filterwarnings(\"ignore\", category=FutureWarning)\n",
        "warnings.filterwarnings(\"ignore\", category=UserWarning)"
      ]
    },
    {
      "cell_type": "code",
      "execution_count": 4,
      "metadata": {
        "id": "ZSVr_TABeQVM"
      },
      "outputs": [],
      "source": [
        "def objective(trial):\n",
        "  params = {\n",
        "      'tol' : trial.suggest_uniform('tol' , 1e-6 , 1e-3),\n",
        "      'C' : trial.suggest_loguniform(\"C\", 1e-2, 1),\n",
        "      'max_iter' : trial.suggest_int('max_iter', 100, 5000, step=100),\n",
        "      'fit_intercept' : trial.suggest_categorical('fit_intercept', [True, False]),\n",
        "      'penalty' : trial.suggest_categorical('penalty', ['l2', 'none'])\n",
        "  }\n",
        "\n",
        "  X_train, X_test, y_train, y_test = train_test_split(X, y, test_size=0.20, random_state=23)\n",
        "  logistic = linear_model.LogisticRegression(**params)\n",
        "  accuracy = logistic.fit(X_train, y_train).score(X_test, y_test)\n",
        "  return accuracy"
      ]
    },
    {
      "cell_type": "code",
      "execution_count": 7,
      "metadata": {
        "colab": {
          "base_uri": "https://localhost:8080/"
        },
        "id": "HZXaBbjNfohs",
        "outputId": "8c489950-0807-4357-f44e-4d0d00f5275d"
      },
      "outputs": [
        {
          "name": "stderr",
          "output_type": "stream",
          "text": [
            "[I 2024-04-15 17:49:30,652] A new study created in memory with name: no-name-5b315c49-e36f-4415-807f-adb03a0270bc\n",
            "[I 2024-04-15 17:49:30,697] Trial 0 finished with value: 0.5238095238095238 and parameters: {'tol': 0.0002791833139060472, 'C': 0.1992627447566837, 'max_iter': 4900, 'fit_intercept': True, 'penalty': 'none'}. Best is trial 0 with value: 0.5238095238095238.\n",
            "[I 2024-04-15 17:49:30,710] Trial 1 finished with value: 0.47619047619047616 and parameters: {'tol': 0.00011941165058012962, 'C': 0.17894987659368106, 'max_iter': 2500, 'fit_intercept': False, 'penalty': 'l2'}. Best is trial 0 with value: 0.5238095238095238.\n",
            "[I 2024-04-15 17:49:30,753] Trial 2 finished with value: 0.5238095238095238 and parameters: {'tol': 0.0006097165496582309, 'C': 0.41331271597913877, 'max_iter': 1500, 'fit_intercept': True, 'penalty': 'none'}. Best is trial 0 with value: 0.5238095238095238.\n",
            "[I 2024-04-15 17:49:30,771] Trial 3 finished with value: 0.47619047619047616 and parameters: {'tol': 0.000688134711860627, 'C': 0.09082859807752831, 'max_iter': 4600, 'fit_intercept': False, 'penalty': 'none'}. Best is trial 0 with value: 0.5238095238095238.\n",
            "[I 2024-04-15 17:49:30,814] Trial 4 finished with value: 0.5238095238095238 and parameters: {'tol': 0.0008300828935400634, 'C': 0.99547823947012, 'max_iter': 3700, 'fit_intercept': True, 'penalty': 'l2'}. Best is trial 0 with value: 0.5238095238095238.\n"
          ]
        },
        {
          "name": "stdout",
          "output_type": "stream",
          "text": [
            "numbers of the finished trials: 5\n",
            "the best params: {'tol': 0.0002791833139060472, 'C': 0.1992627447566837, 'max_iter': 4900, 'fit_intercept': True, 'penalty': 'none'}\n",
            "the best value: 0.5238095238095238\n"
          ]
        }
      ],
      "source": [
        "study = optuna.create_study(direction = 'maximize' , pruner = optuna.pruners.HyperbandPruner())\n",
        "study.optimize(objective, n_trials = 5)\n",
        "print('numbers of the finished trials:' , len(study.trials))\n",
        "print('the best params:' , study.best_trial.params)\n",
        "print('the best value:' , study.best_value)"
      ]
    },
    {
      "cell_type": "markdown",
      "metadata": {
        "id": "KZkN6RRThqNH"
      },
      "source": [
        "# HYPEROPT"
      ]
    },
    {
      "cell_type": "code",
      "execution_count": 32,
      "metadata": {},
      "outputs": [
        {
          "name": "stdout",
          "output_type": "stream",
          "text": [
            "Collecting hyperopt\n",
            "  Downloading hyperopt-0.2.7-py2.py3-none-any.whl.metadata (1.7 kB)\n",
            "Requirement already satisfied: numpy in c:\\users\\athud\\appdata\\local\\programs\\python\\python39\\lib\\site-packages (from hyperopt) (1.26.1)\n",
            "Requirement already satisfied: scipy in c:\\users\\athud\\appdata\\local\\programs\\python\\python39\\lib\\site-packages (from hyperopt) (1.7.3)\n",
            "Requirement already satisfied: six in c:\\users\\athud\\appdata\\local\\programs\\python\\python39\\lib\\site-packages (from hyperopt) (1.16.0)\n",
            "Requirement already satisfied: networkx>=2.2 in c:\\users\\athud\\appdata\\local\\programs\\python\\python39\\lib\\site-packages (from hyperopt) (3.0)\n",
            "Collecting future (from hyperopt)\n",
            "  Downloading future-1.0.0-py3-none-any.whl.metadata (4.0 kB)\n",
            "Requirement already satisfied: tqdm in c:\\users\\athud\\appdata\\local\\programs\\python\\python39\\lib\\site-packages (from hyperopt) (4.66.1)\n",
            "Requirement already satisfied: cloudpickle in c:\\users\\athud\\appdata\\local\\programs\\python\\python39\\lib\\site-packages (from hyperopt) (2.2.0)\n",
            "Collecting py4j (from hyperopt)\n",
            "  Downloading py4j-0.10.9.7-py2.py3-none-any.whl.metadata (1.5 kB)\n",
            "Collecting numpy (from hyperopt)\n",
            "  Downloading numpy-1.22.4-cp39-cp39-win_amd64.whl.metadata (2.1 kB)\n",
            "Requirement already satisfied: colorama in c:\\users\\athud\\appdata\\local\\programs\\python\\python39\\lib\\site-packages (from tqdm->hyperopt) (0.4.4)\n",
            "Downloading hyperopt-0.2.7-py2.py3-none-any.whl (1.6 MB)\n",
            "   ---------------------------------------- 0.0/1.6 MB ? eta -:--:--\n",
            "   -- ------------------------------------- 0.1/1.6 MB 2.6 MB/s eta 0:00:01\n",
            "   ------ --------------------------------- 0.3/1.6 MB 4.3 MB/s eta 0:00:01\n",
            "   ---------------- ----------------------- 0.6/1.6 MB 5.0 MB/s eta 0:00:01\n",
            "   ----------------------- ---------------- 0.9/1.6 MB 5.4 MB/s eta 0:00:01\n",
            "   ------------------------------- -------- 1.2/1.6 MB 5.6 MB/s eta 0:00:01\n",
            "   ---------------------------------------  1.6/1.6 MB 6.3 MB/s eta 0:00:01\n",
            "   ---------------------------------------- 1.6/1.6 MB 5.9 MB/s eta 0:00:00\n",
            "Downloading future-1.0.0-py3-none-any.whl (491 kB)\n",
            "   ---------------------------------------- 0.0/491.3 kB ? eta -:--:--\n",
            "   --------------------------- ------------ 337.9/491.3 kB 7.0 MB/s eta 0:00:01\n",
            "   ---------------------------------------- 491.3/491.3 kB 7.8 MB/s eta 0:00:00\n",
            "Downloading py4j-0.10.9.7-py2.py3-none-any.whl (200 kB)\n",
            "   ---------------------------------------- 0.0/200.5 kB ? eta -:--:--\n",
            "   -------------------------------------- - 194.6/200.5 kB 5.8 MB/s eta 0:00:01\n",
            "   ---------------------------------------- 200.5/200.5 kB 4.0 MB/s eta 0:00:00\n",
            "Downloading numpy-1.22.4-cp39-cp39-win_amd64.whl (14.7 MB)\n",
            "   ---------------------------------------- 0.0/14.7 MB ? eta -:--:--\n",
            "   ---------------------------------------- 0.1/14.7 MB ? eta -:--:--\n",
            "   - -------------------------------------- 0.6/14.7 MB 7.1 MB/s eta 0:00:03\n",
            "   -- ------------------------------------- 0.9/14.7 MB 7.2 MB/s eta 0:00:02\n",
            "   --- ------------------------------------ 1.3/14.7 MB 7.4 MB/s eta 0:00:02\n",
            "   ---- ----------------------------------- 1.6/14.7 MB 7.2 MB/s eta 0:00:02\n",
            "   ----- ---------------------------------- 2.0/14.7 MB 7.4 MB/s eta 0:00:02\n",
            "   ------ --------------------------------- 2.3/14.7 MB 7.4 MB/s eta 0:00:02\n",
            "   ------- -------------------------------- 2.7/14.7 MB 7.5 MB/s eta 0:00:02\n",
            "   -------- ------------------------------- 3.2/14.7 MB 7.7 MB/s eta 0:00:02\n",
            "   --------- ------------------------------ 3.5/14.7 MB 7.6 MB/s eta 0:00:02\n",
            "   ---------- ----------------------------- 3.9/14.7 MB 7.8 MB/s eta 0:00:02\n",
            "   ----------- ---------------------------- 4.3/14.7 MB 7.9 MB/s eta 0:00:02\n",
            "   ------------ --------------------------- 4.7/14.7 MB 7.9 MB/s eta 0:00:02\n",
            "   ------------- -------------------------- 5.0/14.7 MB 7.8 MB/s eta 0:00:02\n",
            "   -------------- ------------------------- 5.2/14.7 MB 7.6 MB/s eta 0:00:02\n",
            "   --------------- ------------------------ 5.6/14.7 MB 7.6 MB/s eta 0:00:02\n",
            "   ---------------- ----------------------- 5.9/14.7 MB 7.6 MB/s eta 0:00:02\n",
            "   ----------------- ---------------------- 6.3/14.7 MB 7.6 MB/s eta 0:00:02\n",
            "   ----------------- ---------------------- 6.6/14.7 MB 7.5 MB/s eta 0:00:02\n",
            "   ------------------ --------------------- 6.8/14.7 MB 7.5 MB/s eta 0:00:02\n",
            "   ------------------- -------------------- 7.1/14.7 MB 7.3 MB/s eta 0:00:02\n",
            "   ------------------- -------------------- 7.3/14.7 MB 7.2 MB/s eta 0:00:02\n",
            "   -------------------- ------------------- 7.6/14.7 MB 7.1 MB/s eta 0:00:02\n",
            "   --------------------- ------------------ 7.9/14.7 MB 7.1 MB/s eta 0:00:01\n",
            "   ---------------------- ----------------- 8.2/14.7 MB 7.1 MB/s eta 0:00:01\n",
            "   ----------------------- ---------------- 8.6/14.7 MB 7.1 MB/s eta 0:00:01\n",
            "   ------------------------ --------------- 8.9/14.7 MB 7.2 MB/s eta 0:00:01\n",
            "   ------------------------ --------------- 9.2/14.7 MB 7.1 MB/s eta 0:00:01\n",
            "   ------------------------- -------------- 9.3/14.7 MB 6.9 MB/s eta 0:00:01\n",
            "   -------------------------- ------------- 9.6/14.7 MB 6.9 MB/s eta 0:00:01\n",
            "   --------------------------- ------------ 10.0/14.7 MB 7.0 MB/s eta 0:00:01\n",
            "   --------------------------- ------------ 10.3/14.7 MB 6.9 MB/s eta 0:00:01\n",
            "   ---------------------------- ----------- 10.6/14.7 MB 7.0 MB/s eta 0:00:01\n",
            "   ----------------------------- ---------- 10.8/14.7 MB 6.8 MB/s eta 0:00:01\n",
            "   ----------------------------- ---------- 11.0/14.7 MB 6.9 MB/s eta 0:00:01\n",
            "   ------------------------------ --------- 11.2/14.7 MB 6.7 MB/s eta 0:00:01\n",
            "   ------------------------------- -------- 11.7/14.7 MB 6.8 MB/s eta 0:00:01\n",
            "   -------------------------------- ------- 12.0/14.7 MB 6.8 MB/s eta 0:00:01\n",
            "   --------------------------------- ------ 12.3/14.7 MB 6.8 MB/s eta 0:00:01\n",
            "   ---------------------------------- ----- 12.6/14.7 MB 6.8 MB/s eta 0:00:01\n",
            "   ----------------------------------- ---- 13.0/14.7 MB 6.7 MB/s eta 0:00:01\n",
            "   ----------------------------------- ---- 13.3/14.7 MB 6.6 MB/s eta 0:00:01\n",
            "   ------------------------------------ --- 13.5/14.7 MB 6.5 MB/s eta 0:00:01\n",
            "   ------------------------------------- -- 13.9/14.7 MB 6.6 MB/s eta 0:00:01\n",
            "   -------------------------------------- - 14.1/14.7 MB 6.5 MB/s eta 0:00:01\n",
            "   ---------------------------------------  14.5/14.7 MB 6.5 MB/s eta 0:00:01\n",
            "   ---------------------------------------  14.7/14.7 MB 6.5 MB/s eta 0:00:01\n",
            "   ---------------------------------------- 14.7/14.7 MB 6.4 MB/s eta 0:00:00\n",
            "Installing collected packages: py4j, numpy, future, hyperopt\n",
            "  Attempting uninstall: numpy\n",
            "    Found existing installation: numpy 1.26.1\n",
            "    Uninstalling numpy-1.26.1:\n",
            "      Successfully uninstalled numpy-1.26.1\n",
            "Successfully installed future-1.0.0 hyperopt-0.2.7 numpy-1.22.4 py4j-0.10.9.7\n",
            "Note: you may need to restart the kernel to use updated packages.\n"
          ]
        },
        {
          "name": "stderr",
          "output_type": "stream",
          "text": [
            "  WARNING: Failed to remove contents in a temporary directory 'C:\\Users\\athud\\AppData\\Local\\Programs\\Python\\Python39\\Lib\\site-packages\\~umpy.libs'.\n",
            "  You can safely remove it manually.\n",
            "  WARNING: Failed to remove contents in a temporary directory 'C:\\Users\\athud\\AppData\\Local\\Programs\\Python\\Python39\\Lib\\site-packages\\~-mpy'.\n",
            "  You can safely remove it manually.\n",
            "ERROR: pip's dependency resolver does not currently take into account all the packages that are installed. This behaviour is the source of the following dependency conflicts.\n",
            "gradio 3.4.0 requires h11<0.13,>=0.11, but you have h11 0.14.0 which is incompatible.\n",
            "jina 3.15.2 requires urllib3<2.0.0, but you have urllib3 2.0.6 which is incompatible.\n",
            "langchain-serve 0.0.38 requires typing-extensions==4.5.0, but you have typing-extensions 4.11.0 which is incompatible.\n"
          ]
        }
      ],
      "source": [
        "pip install hyperopt"
      ]
    },
    {
      "cell_type": "code",
      "execution_count": 33,
      "metadata": {
        "id": "noDRsfBTgeXz"
      },
      "outputs": [],
      "source": [
        "from hyperopt import hp, tpe, fmin, Trials"
      ]
    },
    {
      "cell_type": "code",
      "execution_count": 34,
      "metadata": {
        "id": "L84zUmYQj2av"
      },
      "outputs": [],
      "source": [
        "def objective(params):\n",
        "  params['max_iter'] = int(params['max_iter'])\n",
        "  X_train, X_test, y_train, y_test = train_test_split(X, y, test_size=0.20, random_state=23)\n",
        "  logistic = linear_model.LogisticRegression(**params)\n",
        "  accuracy = logistic.fit(X_train, y_train).score(X_test, y_test)\n",
        "\n",
        "  return -accuracy"
      ]
    },
    {
      "cell_type": "code",
      "execution_count": 36,
      "metadata": {
        "colab": {
          "base_uri": "https://localhost:8080/"
        },
        "id": "S9e3re8Qjc_0",
        "outputId": "8b3ccb5c-4d05-468b-cbdc-95fb09653f1a"
      },
      "outputs": [
        {
          "name": "stdout",
          "output_type": "stream",
          "text": [
            "  0%|          | 0/500 [00:00<?, ?trial/s, best loss=?]"
          ]
        },
        {
          "name": "stdout",
          "output_type": "stream",
          "text": [
            "100%|██████████| 500/500 [00:21<00:00, 23.63trial/s, best loss: -0.5238095238095238]\n",
            "Best hyperparameters: {'C': 1.484118773476452, 'fit_intercept': 0, 'max_iter': 3700.0, 'penalty': 1, 'tol': 0.0004060044816500722}\n",
            "Best objective value: 0.5238095238095238\n"
          ]
        }
      ],
      "source": [
        "params = {\n",
        "      'tol' : hp.uniform('tol' , 1e-6 , 1e-3),\n",
        "      'C' : hp.loguniform(\"C\", 1e-2, 1),\n",
        "      'max_iter' : hp.quniform('max_iter', 100, 5000, 100),\n",
        "      'fit_intercept' : hp.choice('fit_intercept', [True, False]),\n",
        "      'penalty' : hp.choice('penalty', ['l2', 'none'])\n",
        "  }\n",
        "tpe_algo = tpe.suggest\n",
        "trials = Trials()\n",
        "\n",
        "best_params = fmin(fn=objective,space=params,algo=tpe_algo,max_evals=500,trials=trials)\n",
        "\n",
        "print(\"Best hyperparameters:\", best_params)\n",
        "best_loss = min(trials.losses())\n",
        "print(\"Best objective value:\", -best_loss)"
      ]
    },
    {
      "cell_type": "markdown",
      "metadata": {
        "id": "Jc6w5NrJ1ox2"
      },
      "source": [
        "# SKOPT"
      ]
    },
    {
      "cell_type": "code",
      "execution_count": 37,
      "metadata": {
        "id": "8ljisSqb-JYb"
      },
      "outputs": [
        {
          "name": "stdout",
          "output_type": "stream",
          "text": [
            "Collecting scikit-optimize\n",
            "  Downloading scikit_optimize-0.10.1-py2.py3-none-any.whl.metadata (9.7 kB)\n",
            "Requirement already satisfied: joblib>=0.11 in c:\\users\\athud\\appdata\\local\\programs\\python\\python39\\lib\\site-packages (from scikit-optimize) (1.1.0)\n",
            "Collecting pyaml>=16.9 (from scikit-optimize)\n",
            "  Downloading pyaml-23.12.0-py3-none-any.whl.metadata (11 kB)\n",
            "Requirement already satisfied: numpy>=1.20.3 in c:\\users\\athud\\appdata\\local\\programs\\python\\python39\\lib\\site-packages (from scikit-optimize) (1.22.4)\n",
            "Requirement already satisfied: scipy>=1.1.0 in c:\\users\\athud\\appdata\\local\\programs\\python\\python39\\lib\\site-packages (from scikit-optimize) (1.7.3)\n",
            "Requirement already satisfied: scikit-learn>=1.0.0 in c:\\users\\athud\\appdata\\local\\programs\\python\\python39\\lib\\site-packages (from scikit-optimize) (1.0.2)\n",
            "Requirement already satisfied: packaging>=21.3 in c:\\users\\athud\\appdata\\local\\programs\\python\\python39\\lib\\site-packages (from scikit-optimize) (23.2)\n",
            "Requirement already satisfied: PyYAML in c:\\users\\athud\\appdata\\local\\programs\\python\\python39\\lib\\site-packages (from pyaml>=16.9->scikit-optimize) (6.0.1)\n",
            "Requirement already satisfied: threadpoolctl>=2.0.0 in c:\\users\\athud\\appdata\\local\\programs\\python\\python39\\lib\\site-packages (from scikit-learn>=1.0.0->scikit-optimize) (3.1.0)\n",
            "Downloading scikit_optimize-0.10.1-py2.py3-none-any.whl (107 kB)\n",
            "   ---------------------------------------- 0.0/107.7 kB ? eta -:--:--\n",
            "   -------------------------- ------------- 71.7/107.7 kB 2.0 MB/s eta 0:00:01\n",
            "   ---------------------------------------- 107.7/107.7 kB 1.6 MB/s eta 0:00:00\n",
            "Downloading pyaml-23.12.0-py3-none-any.whl (23 kB)\n",
            "Installing collected packages: pyaml, scikit-optimize\n",
            "Successfully installed pyaml-23.12.0 scikit-optimize-0.10.1\n",
            "Note: you may need to restart the kernel to use updated packages.\n"
          ]
        }
      ],
      "source": [
        "pip install scikit-optimize"
      ]
    },
    {
      "cell_type": "code",
      "execution_count": 38,
      "metadata": {
        "id": "9B0TdStN-Hse"
      },
      "outputs": [],
      "source": [
        "from skopt import BayesSearchCV\n",
        "from skopt.space import Real, Categorical, Integer"
      ]
    },
    {
      "cell_type": "code",
      "execution_count": 39,
      "metadata": {
        "id": "sA0rxm724Gc-"
      },
      "outputs": [],
      "source": [
        "X_train, X_test, y_train, y_test = train_test_split(X, y, test_size=0.20, random_state=23)\n",
        "logistic = linear_model.LogisticRegression()"
      ]
    },
    {
      "cell_type": "code",
      "execution_count": 41,
      "metadata": {
        "colab": {
          "base_uri": "https://localhost:8080/"
        },
        "id": "Cu4GF4VC-Aak",
        "outputId": "b8338152-6cb7-444d-81b7-ca09426cd9e8"
      },
      "outputs": [
        {
          "name": "stdout",
          "output_type": "stream",
          "text": [
            "Fitting 2 folds for each of 1 candidates, totalling 2 fits\n",
            "Fitting 2 folds for each of 1 candidates, totalling 2 fits\n",
            "Fitting 2 folds for each of 1 candidates, totalling 2 fits\n",
            "Fitting 2 folds for each of 1 candidates, totalling 2 fits\n",
            "Fitting 2 folds for each of 1 candidates, totalling 2 fits\n",
            "Fitting 2 folds for each of 1 candidates, totalling 2 fits\n",
            "Fitting 2 folds for each of 1 candidates, totalling 2 fits\n",
            "Fitting 2 folds for each of 1 candidates, totalling 2 fits\n",
            "Fitting 2 folds for each of 1 candidates, totalling 2 fits\n",
            "Fitting 2 folds for each of 1 candidates, totalling 2 fits\n",
            "Fitting 2 folds for each of 1 candidates, totalling 2 fits\n",
            "Fitting 2 folds for each of 1 candidates, totalling 2 fits\n",
            "Fitting 2 folds for each of 1 candidates, totalling 2 fits\n",
            "Fitting 2 folds for each of 1 candidates, totalling 2 fits\n",
            "Fitting 2 folds for each of 1 candidates, totalling 2 fits\n",
            "Fitting 2 folds for each of 1 candidates, totalling 2 fits\n",
            "Fitting 2 folds for each of 1 candidates, totalling 2 fits\n",
            "Fitting 2 folds for each of 1 candidates, totalling 2 fits\n",
            "Fitting 2 folds for each of 1 candidates, totalling 2 fits\n",
            "Fitting 2 folds for each of 1 candidates, totalling 2 fits\n",
            "Fitting 2 folds for each of 1 candidates, totalling 2 fits\n",
            "Fitting 2 folds for each of 1 candidates, totalling 2 fits\n",
            "Fitting 2 folds for each of 1 candidates, totalling 2 fits\n",
            "Fitting 2 folds for each of 1 candidates, totalling 2 fits\n",
            "Fitting 2 folds for each of 1 candidates, totalling 2 fits\n",
            "Best hyperparameters found:  OrderedDict([('C', 1e-06), ('fit_intercept', False), ('max_iter', 50), ('penalty', 'none'), ('tol', 0.01)])\n",
            "Best accuracy score found:  0.7375\n"
          ]
        }
      ],
      "source": [
        "param_space = {\n",
        "    'C': Real(1e-6, 1e+6, prior='log-uniform'),\n",
        "    'penalty': Categorical(['none', 'l2']),\n",
        "    'max_iter': Integer(50, 5000),\n",
        "    'tol': Real(1e-6, 1e-2, prior='uniform'),\n",
        "    'fit_intercept': Categorical([True, False])\n",
        "}\n",
        "\n",
        "opt = BayesSearchCV(logistic,param_space,scoring='accuracy',n_iter=25,cv=2,random_state=42,\n",
        "    verbose=1\n",
        ")\n",
        "\n",
        "opt.fit(X_train, y_train)\n",
        "\n",
        "print(\"Best hyperparameters found: \", opt.best_params_)\n",
        "print(\"Best accuracy score found: \", opt.best_score_)"
      ]
    },
    {
      "cell_type": "code",
      "execution_count": null,
      "metadata": {
        "id": "ftMBLGjd-D8I"
      },
      "outputs": [],
      "source": []
    }
  ],
  "metadata": {
    "accelerator": "GPU",
    "colab": {
      "gpuType": "T4",
      "provenance": []
    },
    "kernelspec": {
      "display_name": "Python 3",
      "name": "python3"
    },
    "language_info": {
      "codemirror_mode": {
        "name": "ipython",
        "version": 3
      },
      "file_extension": ".py",
      "mimetype": "text/x-python",
      "name": "python",
      "nbconvert_exporter": "python",
      "pygments_lexer": "ipython3",
      "version": "3.9.6"
    }
  },
  "nbformat": 4,
  "nbformat_minor": 0
}
