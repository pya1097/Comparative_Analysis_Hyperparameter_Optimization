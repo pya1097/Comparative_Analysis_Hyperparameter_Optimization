{
  "cells": [
    {
      "cell_type": "code",
      "execution_count": 1,
      "metadata": {
        "id": "el_-zlazLRUM"
      },
      "outputs": [
        {
          "name": "stderr",
          "output_type": "stream",
          "text": [
            "c:\\Users\\athud\\AppData\\Local\\Programs\\Python\\Python39\\lib\\site-packages\\scipy\\__init__.py:146: UserWarning: A NumPy version >=1.16.5 and <1.23.0 is required for this version of SciPy (detected version 1.26.1\n",
            "  warnings.warn(f\"A NumPy version >={np_minversion} and <{np_maxversion}\"\n"
          ]
        }
      ],
      "source": [
        "from sklearn import datasets, linear_model\n",
        "from sklearn.model_selection import train_test_split\n",
        "import numpy as np\n",
        "import pandas as pd\n",
        "from sklearn.preprocessing import MinMaxScaler, LabelEncoder, StandardScaler"
      ]
    },
    {
      "cell_type": "code",
      "execution_count": 7,
      "metadata": {
        "colab": {
          "base_uri": "https://localhost:8080/"
        },
        "id": "DJqPYDdwLSY1",
        "outputId": "b0daa204-4c03-4a2d-f07d-6d0b736692f1"
      },
      "outputs": [],
      "source": [
        "#1 digits\n",
        "X, y = datasets.load_digits(return_X_y=True)\n",
        "X = X / X.max()\n",
        "X_df = pd.DataFrame(X)\n",
        "y_df = pd.DataFrame(y)\n",
        "X_df.to_csv('final/digits_X.csv', index=False)\n",
        "y_df.to_csv('final/digits_y.csv', index=False)"
      ]
    },
    {
      "cell_type": "code",
      "execution_count": 8,
      "metadata": {
        "colab": {
          "base_uri": "https://localhost:8080/"
        },
        "id": "TuhtoKf4NLCa",
        "outputId": "ed690728-96ad-4514-ee08-21470bd16a38"
      },
      "outputs": [],
      "source": [
        "#2 breast cancer\n",
        "X, y = datasets.load_breast_cancer(return_X_y=True)\n",
        "X = X / X.max()\n",
        "X_df = pd.DataFrame(X)\n",
        "y_df = pd.DataFrame(y)\n",
        "X_df.to_csv('final/breastcancer_X.csv', index=False)\n",
        "y_df.to_csv('final/breastcancer_y.csv', index=False)"
      ]
    },
    {
      "cell_type": "code",
      "execution_count": 9,
      "metadata": {
        "colab": {
          "base_uri": "https://localhost:8080/"
        },
        "id": "f8HkS68QNkTZ",
        "outputId": "59bce718-1071-40b5-e566-c63946afe89e"
      },
      "outputs": [],
      "source": [
        "#3 iris\n",
        "X, y = datasets.load_iris(return_X_y=True)\n",
        "X = X / X.max()\n",
        "X_df = pd.DataFrame(X)\n",
        "y_df = pd.DataFrame(y)\n",
        "X_df.to_csv('final/iris_X.csv', index=False)\n",
        "y_df.to_csv('final/iris_y.csv', index=False)"
      ]
    },
    {
      "cell_type": "code",
      "execution_count": 12,
      "metadata": {
        "colab": {
          "base_uri": "https://localhost:8080/"
        },
        "id": "yISaKCxbNtUR",
        "outputId": "0e34d66b-5a4c-4d60-bf8f-e1d3b05c38c4"
      },
      "outputs": [],
      "source": [
        "#4 wine\n",
        "X, y = datasets.load_wine(return_X_y=True)\n",
        "X = X / X.max()\n",
        "X_df = pd.DataFrame(X)\n",
        "y_df = pd.DataFrame(y)\n",
        "X_df.to_csv('final/whitewine_X.csv', index=False)\n",
        "y_df.to_csv('final/whitewine_y.csv', index=False)"
      ]
    },
    {
      "cell_type": "code",
      "execution_count": 13,
      "metadata": {
        "id": "R_iDzzzswlZd"
      },
      "outputs": [],
      "source": [
        "#5 social network ads\n",
        "df=pd.read_csv('Social_Network_Ads.csv')\n",
        "data = df.drop(columns=['User ID'])\n",
        "data = pd.get_dummies(data)\n",
        "predictions = ['Age', 'EstimatedSalary','Gender_Female', 'Gender_Male']\n",
        "X = data[predictions]\n",
        "y = data['Purchased']\n",
        "X.to_csv('final/socialnetworkads_X.csv', index=False)\n",
        "y.to_csv('final/socialnetworkads_y.csv', index=False)"
      ]
    },
    {
      "cell_type": "code",
      "execution_count": 14,
      "metadata": {
        "id": "HvkJhhpp2ElU"
      },
      "outputs": [
        {
          "name": "stderr",
          "output_type": "stream",
          "text": [
            "c:\\Users\\athud\\AppData\\Local\\Programs\\Python\\Python39\\lib\\site-packages\\sklearn\\utils\\validation.py:623: FutureWarning: is_sparse is deprecated and will be removed in a future version. Check `isinstance(dtype, pd.SparseDtype)` instead.\n",
            "  if not hasattr(array, \"sparse\") and array.dtypes.apply(is_sparse).any():\n",
            "c:\\Users\\athud\\AppData\\Local\\Programs\\Python\\Python39\\lib\\site-packages\\sklearn\\utils\\validation.py:623: FutureWarning: is_sparse is deprecated and will be removed in a future version. Check `isinstance(dtype, pd.SparseDtype)` instead.\n",
            "  if not hasattr(array, \"sparse\") and array.dtypes.apply(is_sparse).any():\n"
          ]
        }
      ],
      "source": [
        "#6 heart disease\n",
        "df=pd.read_csv('heart_disease.csv')\n",
        "\n",
        "df.dropna(inplace=True)\n",
        "\n",
        "cols_to_scale=['age','education','cigsPerDay','totChol','sysBP','diaBP','BMI','heartRate','glucose']\n",
        "scaler=MinMaxScaler()\n",
        "df[cols_to_scale]=scaler.fit_transform(df[cols_to_scale])\n",
        "X=df.drop('TenYearCHD',axis='columns')\n",
        "y=df.TenYearCHD\n",
        "X.to_csv('final/heartdisease_X.csv', index=False)\n",
        "y.to_csv('final/heartdisease_y.csv', index=False)"
      ]
    },
    {
      "cell_type": "code",
      "execution_count": 16,
      "metadata": {
        "id": "avBrbGer_p58"
      },
      "outputs": [],
      "source": [
        "#7 Titanic\n",
        "df=pd.read_csv('titanic2.csv')\n",
        "df = df[[\"Age\", \"Fare\", \"Sex\", \"sibsp\", \"Parch\", \"Pclass\", \"Embarked\", \"Survived\"]]\n",
        "df.dropna(inplace=True)\n",
        "X = df.drop(['Survived',], axis=1)\n",
        "y = df['Survived']\n",
        "X.to_csv('final/titanic_X.csv', index=False)\n",
        "y.to_csv('final/titanic_y.csv', index=False)"
      ]
    },
    {
      "cell_type": "code",
      "execution_count": 17,
      "metadata": {
        "id": "j8qfr3k5Cf8i"
      },
      "outputs": [],
      "source": [
        "#8 Employee attrition\n",
        "df=pd.read_csv('employee_attr.csv')\n",
        "df.drop('EmployeeID', axis=1, inplace=True)\n",
        "df.dropna(inplace=True)\n",
        "\n",
        "le = LabelEncoder()\n",
        "df['Attrition'] = le.fit_transform(df['Attrition'])\n",
        "df['Gender'] = le.fit_transform(df['Gender'])\n",
        "df['Over18'] = le.fit_transform(df['Over18'])\n",
        "df = pd.get_dummies(df, columns=['BusinessTravel', 'Department', 'EducationField', 'JobRole', 'MaritalStatus'])\n",
        "X = df.drop('Attrition', axis=1)\n",
        "y = df['Attrition']\n",
        "X.to_csv('final/employeeattrition_X.csv', index=False)\n",
        "y.to_csv('final/employeeattrition_y.csv', index=False)"
      ]
    },
    {
      "cell_type": "code",
      "execution_count": 19,
      "metadata": {
        "id": "SKTMWvCjFqCG"
      },
      "outputs": [],
      "source": [
        "#9 Pumpkin seeds\n",
        "df=pd.read_csv('pumpkin_seeds.csv')\n",
        "X = df.drop(columns='Class')\n",
        "y = df['Class']\n",
        "X.to_csv('final/pumpkinseeds_X.csv', index=False)\n",
        "y.to_csv('final/pumpkinseeds_y.csv', index=False)"
      ]
    },
    {
      "cell_type": "code",
      "execution_count": 20,
      "metadata": {
        "id": "B3xeiJDaHBpW"
      },
      "outputs": [],
      "source": [
        "#10 Marketing campaign\n",
        "df=pd.read_csv('Marketing_campaigns.csv')\n",
        "location=pd.get_dummies(df[\"Location\"],drop_first=True)\n",
        "df.drop(\"Location\",axis=1,inplace=True)\n",
        "df=pd.concat([df,location],axis=1)\n",
        "X=df.drop(\"Email Opened\",axis=1)\n",
        "y=df[\"Email Opened\"]\n",
        "X.to_csv('final/marketing_X.csv', index=False)\n",
        "y.to_csv('final/marketing_y.csv', index=False)"
      ]
    },
    {
      "cell_type": "code",
      "execution_count": 21,
      "metadata": {
        "id": "5Ay90N13JXzR"
      },
      "outputs": [],
      "source": [
        "#11 bank loan\n",
        "df=pd.read_csv('bankloan.csv')\n",
        "standrd_scaler=StandardScaler()\n",
        "columns=['Age','Experience','Income','Family','CCAvg','Mortgage','Education','ZIP.Code']\n",
        "for col in columns:\n",
        "    df[col]=standrd_scaler.fit_transform(np.array(df[col]).reshape(-1,1))\n",
        "X=df.drop(['ID','Personal.Loan'],axis=1)\n",
        "y=df['Personal.Loan']\n",
        "X.to_csv('final/bankloan_X.csv', index=False)\n",
        "y.to_csv('final/bankloan_y.csv', index=False)"
      ]
    },
    {
      "cell_type": "code",
      "execution_count": 22,
      "metadata": {
        "id": "4B81CGR1RpPa"
      },
      "outputs": [],
      "source": [
        "#12 date fruit\n",
        "df=pd.read_csv('datefruit.csv')\n",
        "X = df.drop([\"Class\"], axis = 1)\n",
        "y = df[\"Class\"]\n",
        "X.to_csv('final/date_X.csv', index=False)\n",
        "y.to_csv('final/date_y.csv', index=False)"
      ]
    },
    {
      "cell_type": "code",
      "execution_count": 23,
      "metadata": {
        "id": "NY_99ppxUm-r"
      },
      "outputs": [],
      "source": [
        "#13 fake bills\n",
        "df=pd.read_csv('fake_bills.csv')\n",
        "df.dropna(inplace=True)\n",
        "df.is_genuine=[1 if i == True else 0 for i in df.is_genuine]\n",
        "y=df.is_genuine\n",
        "X=df.drop([\"is_genuine\"],axis=1)\n",
        "X.to_csv('final/fakebills_X.csv', index=False)\n",
        "y.to_csv('final/fakebills_y.csv', index=False)"
      ]
    },
    {
      "cell_type": "code",
      "execution_count": 24,
      "metadata": {
        "id": "Jw0FnITKZfXX"
      },
      "outputs": [],
      "source": [
        "#14 Employee turnover\n",
        "df=pd.read_csv('turnover.csv', encoding = 'ISO-8859-1')\n",
        "df.dropna(inplace=True)\n",
        "for col in df.columns:\n",
        "    if df[col].dtype == 'object':\n",
        "        values = df[col].value_counts()\n",
        "        values = dict(values)\n",
        "        label = LabelEncoder()\n",
        "        label = label.fit(df[col])\n",
        "        df[col] = label.transform(df[col].astype(str))\n",
        "X = df.drop(columns=['event'])\n",
        "y = df['event']\n",
        "X.to_csv('final/empturnover_X.csv', index=False)\n",
        "y.to_csv('final/empturnover_y.csv', index=False)"
      ]
    },
    {
      "cell_type": "code",
      "execution_count": 26,
      "metadata": {
        "id": "PjnAwcx_cYQY"
      },
      "outputs": [],
      "source": [
        "#15 Cancer\n",
        "df=pd.read_csv('Cancer_Data.csv')\n",
        "df.drop([\"Unnamed: 32\",\"id\"],axis=1,inplace = True)\n",
        "df.diagnosis = [1 if each == \"M\" else 0 for each in df.diagnosis]\n",
        "x = df.drop([\"diagnosis\"],axis = 1)\n",
        "X = ((x - np.min(x))/(np.max(x)-np.min(x)))\n",
        "y = df.diagnosis\n",
        "X.to_csv('final/cancer_X.csv', index=False)\n",
        "y.to_csv('final/cancer_y.csv', index=False)"
      ]
    },
    {
      "cell_type": "code",
      "execution_count": 27,
      "metadata": {
        "id": "ulgBsByMeIKW"
      },
      "outputs": [],
      "source": [
        "#16 wine\n",
        "df=pd.read_csv('wine.csv')\n",
        "X = df.drop('quality',axis = 1)\n",
        "y = df['quality']\n",
        "X.to_csv('final/wine_X.csv', index=False)\n",
        "y.to_csv('final/wine_y.csv', index=False)"
      ]
    },
    {
      "cell_type": "code",
      "execution_count": 28,
      "metadata": {
        "id": "cS0WAt53j5eq"
      },
      "outputs": [],
      "source": [
        "#17 kidney stone\n",
        "df=pd.read_csv('kidney_stone_data.csv')\n",
        "le=LabelEncoder()\n",
        "df['stone_size']=le.fit_transform(df['stone_size'])\n",
        "df['treatment']=le.fit_transform(df['treatment'])\n",
        "X=df.iloc[:,0:2]\n",
        "y=df.iloc[:,2]\n",
        "X.to_csv('final/kidneystone_X.csv', index=False)\n",
        "y.to_csv('final/kidneystone_y.csv', index=False)"
      ]
    },
    {
      "cell_type": "code",
      "execution_count": 29,
      "metadata": {
        "id": "m07XDhzZlcv2"
      },
      "outputs": [],
      "source": [
        "#18 rock or mine\n",
        "df=pd.read_csv('rock_mine.csv',header = None)\n",
        "df.groupby(60).mean()\n",
        "df[60] = [1 if each == \"M\" else 0 for each in df[60]]\n",
        "X = df.drop(columns=60, axis=1)\n",
        "y = df[60]\n",
        "X.to_csv('final/mineorrock_X.csv', index=False)\n",
        "y.to_csv('final/mineorrock_y.csv', index=False)"
      ]
    },
    {
      "cell_type": "code",
      "execution_count": 30,
      "metadata": {
        "id": "3lJCf6MWnmXW"
      },
      "outputs": [],
      "source": [
        "#19 gender voice\n",
        "df=pd.read_csv('gender_voice.csv')\n",
        "df.dropna(inplace=True)\n",
        "df['label'] = [1 if each == \"male\" else 0 for each in df['label']]\n",
        "y = df['label']\n",
        "x = df.drop([\"label\"],axis=1)\n",
        "X = ((x-np.min(x))/(np.max(x)-np.min(x)))\n",
        "X.to_csv('final/gendervoice_X.csv', index=False)\n",
        "y.to_csv('final/gendervoice_y.csv', index=False)"
      ]
    },
    {
      "cell_type": "code",
      "execution_count": 31,
      "metadata": {
        "id": "Yt8ugSGhoihb"
      },
      "outputs": [],
      "source": [
        "#20 possum\n",
        "df=pd.read_csv('possum.csv')\n",
        "df.drop(['case', 'site','Pop'], axis=1, inplace=True)\n",
        "df['sex'] = [1 if each == \"m\" else 0 for each in df['sex']]\n",
        "df.dropna(inplace=True)\n",
        "y = df.sex.copy()\n",
        "X = df.drop(['sex'], axis=1)\n",
        "X.to_csv('final/possum_X.csv', index=False)\n",
        "y.to_csv('final/possum_y.csv', index=False)"
      ]
    }
  ],
  "metadata": {
    "accelerator": "GPU",
    "colab": {
      "gpuType": "T4",
      "provenance": []
    },
    "kernelspec": {
      "display_name": "Python 3",
      "name": "python3"
    },
    "language_info": {
      "codemirror_mode": {
        "name": "ipython",
        "version": 3
      },
      "file_extension": ".py",
      "mimetype": "text/x-python",
      "name": "python",
      "nbconvert_exporter": "python",
      "pygments_lexer": "ipython3",
      "version": "3.9.6"
    }
  },
  "nbformat": 4,
  "nbformat_minor": 0
}
